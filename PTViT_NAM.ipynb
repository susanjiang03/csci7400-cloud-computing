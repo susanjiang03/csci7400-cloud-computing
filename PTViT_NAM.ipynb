{
 "cells": [
  {
   "cell_type": "code",
   "execution_count": null,
   "id": "3ab95250-b723-42b2-a27e-b3449c7ae562",
   "metadata": {},
   "outputs": [],
   "source": [
    "import os\n",
    "import numpy as np\n",
    "import pandas as pd\n",
    "import matplotlib.pyplot as plt\n",
    "%matplotlib inline\n",
    "from PIL import Image\n",
    "import torch\n",
    "import lightning.pytorch as pl\n",
    "import torchmetrics\n",
    "import torchvision\n",
    "from torchinfo import summary\n",
    "from torchview import draw_graph\n",
    "from IPython.display import display\n",
    "import sympy as sp\n",
    "import time\n",
    "from datetime import datetime\n",
    "sp.init_printing(use_latex=True)\n",
    "\n",
    "import boto3\n",
    "from lightning.pytorch import Trainer"
   ]
  },
  {
   "cell_type": "code",
   "execution_count": null,
   "id": "9f883110-e7c9-49a2-9e11-cbdb0d183f30",
   "metadata": {},
   "outputs": [],
   "source": [
    "# initialize constant variables and create tmp directory\n",
    "BUCKET_NAME = \"csc7400-deepsight\"\n",
    "BATCH_SIZE = os.environ.get(\"BATCH_SIZE\", 50)\n",
    "NUM_WORKERS = os.environ.get(\"NUM_WORKERS\", 2)\n",
    "VAL_SPLIT = os.environ.get(\"VAL_SPLIT\", 0.2)\n",
    "MAX_EPOCHS = os.environ.get(\"MAX_EPOCHS\", 100)\n",
    "\n",
    "TRAIN_DIR = os.environ.get(\"TRAIN_DIR\", \"PALM-Training400\")\n",
    "VAL_DIR = os.environ.get(\"VAL_DIR\", \"PALM-Validation400\")\n",
    "HOME_DIR = \"/home/ec2-user\"\n",
    "LOCAL_TRAIN_DIR = f\"{HOME_DIR}/{TRAIN_DIR}\"\n",
    "LOCAL_VAL_DIR = f\"{HOME_DIR}/{VAL_DIR}\"\n",
    "\n",
    "if not os.path.exists(LOCAL_TRAIN_DIR):\n",
    "    os.makedirs(LOCAL_TRAIN_DIR)\n",
    "\n",
    "if not os.path.exists(LOCAL_VAL_DIR):\n",
    "    os.makedirs(LOCAL_VAL_DIR)"
   ]
  },
  {
   "cell_type": "code",
   "execution_count": null,
   "id": "79d29f06",
   "metadata": {},
   "outputs": [],
   "source": [
    "# initiallize CloudWatch\n",
    "cloudwatch = boto3.client(\"cloudwatch\", region_name=\"us-east-1\")\n",
    "\n",
    "def push_cloudwatch_metric(metric_name, value, epoch, model_name=\"ViT\", experiment=\"vit-0\", unit=\"unit\"):\n",
    "    cloudwatch.put_metric_data(\n",
    "        Namespace=\"cloudwatch\",\n",
    "        MetricData=[\n",
    "            {\n",
    "                \"MetricName\": metric_name,\n",
    "                \"Dimensions\": [\n",
    "                    {\"Name\": \"Model\", \"Value\": model_name},\n",
    "                    {\"Name\": \"Experiment\", \"Value\": experiment}\n",
    "                ],\n",
    "                \"Timestamp\": datetime.utcnow(),\n",
    "                \"Value\": value,\n",
    "                \"Unit\":unit\n",
    "            }\n",
    "        ]\n",
    "    )\n",
    "\n",
    "class CloudWatchCallback(pl.Callback):\n",
    "    def on_validation_end(self, trainer, pl_module):\n",
    "        metrics = trainer.callback_metrics\n",
    "        epoch = trainer.current_epoch\n",
    "\n",
    "\n",
    "        if \"train_loss\" in metrics:\n",
    "            push_cloudwatch_metric(\"TrainLoss\", float(metrics[\"train_loss\"]), epoch, unit=\"None\")\n",
    "        if \"val_loss\" in metrics:\n",
    "            push_cloudwatch_metric(\"ValLoss\", float(metrics[\"val_loss\"]), epoch, unit=\"None\")\n",
    "        if \"train_acc\" in metrics:\n",
    "            push_cloudwatch_metric(\"TrainAccuracy\", float(metrics[\"train_acc\"]), epoch, unit=\"Percent\")\n",
    "        if \"val_acc\" in metrics:\n",
    "            push_cloudwatch_metric(\"ValAccuracy\", float(metrics[\"val_acc\"]), epoch, unit=\"Percent\")"
   ]
  },
  {
   "cell_type": "code",
   "execution_count": null,
   "id": "199f24aa-33a8-4766-9b46-c938b1d4d0f9",
   "metadata": {},
   "outputs": [],
   "source": [
    "from PIL import Image\n",
    "from io import BytesIO\n",
    "import boto3\n",
    "from torch.utils.data import Dataset\n",
    "            push_cloudwatch_metric(\"ValAccuracy\", float(metrics[\"val_acc\"]), epoch, unit=\"Percent\")\n",
    "\n",
    "class S3ImageDataset(Dataset):\n",
    "    def __init__(self, s3_bucket, s3_prefix, labels=None, img_size=(512, 512), transform=None):\n",
    "        self.s3 = boto3.client('s3')\n",
    "        self.bucket = s3_bucket\n",
    "        self.prefix = s3_prefix\n",
    "        self.img_size = img_size\n",
    "        self.transform = transform\n",
    "        self.labels = labels\n",
    "\n",
    "        # List all files in the S3 prefix\n",
    "        response = self.s3.list_objects_v2(Bucket=self.bucket, Prefix=self.prefix)\n",
    "        self.file_keys = [item['Key'] for item in response.get('Contents', [])\n",
    "                         if item['Key'].lower().endswith(('.png', '.jpg', '.jpeg'))]\n",
    "\n",
    "    def __len__(self):\n",
    "        return len(self.file_keys)\n",
    "\n",
    "    def __getitem__(self, idx):\n",
    "        key = self.file_keys[idx]\n",
    "\n",
    "        # Get image from S3\n",
    "        response = self.s3.get_object(Bucket=self.bucket, Key=key)\n",
    "        img_bytes = response['Body'].read()\n",
    "\n",
    "        # Load image\n",
    "        img = Image.open(BytesIO(img_bytes)).convert('RGB').resize(self.img_size)\n",
    "        img_array = np.array(img).astype('float32')\n",
    "        img_tensor = torch.from_numpy(img_array).permute(2, 0, 1)  # CHW format\n",
    "\n",
    "        # Get label if available\n",
    "        if self.labels is not None:\n",
    "            # Extract filename from S3 key\n",
    "            filename = os.path.basename(key)\n",
    "            label = self.labels.get(filename, 0)  # Default to 0 if not found\n",
    "            return img_tensor, torch.tensor(label, dtype=torch.long)\n",
    "\n",
    "        return img_tensor\n",
    "\n",
    "class DataModule(pl.LightningDataModule):\n",
    "    def __init__(self,\n",
    "                 s3_bucket=BUCKET_NAME,\n",
    "                 train_prefix='PALM-Training400/',\n",
    "                 val_prefix='PALM-Validation400/',\n",
    "                 val_label_key='PM_Label_and_Fovea_Location.xlsx',\n",
    "                 img_size=(512, 512),\n",
    "                 batch_size=BATCH_SIZE,\n",
    "                 num_workers=NUM_WORKERS,\n",
    "                 **kwargs):\n",
    "        super().__init__(**kwargs)\n",
    "        self.s3_bucket = s3_bucket\n",
    "        self.train_prefix = train_prefix\n",
    "        self.val_prefix = val_prefix\n",
    "        self.val_label_key = val_label_key\n",
    "        self.img_size = img_size\n",
    "        self.batch_size = batch_size\n",
    "        self.num_workers = num_workers\n",
    "        self.train_dataset = None\n",
    "        self.val_dataset = None\n",
    "        self.test_dataset = None\n",
    "        self.s3 = boto3.client('s3')\n",
    "\n",
    "    def _load_val_labels(self):\n",
    "        # Load validation labels from S3\n",
    "        obj = self.s3.get_object(Bucket=self.s3_bucket, Key=self.val_label_key)\n",
    "        df = pd.read_excel(BytesIO(obj['Body'].read()))\n",
    "        return dict(zip(df['imgName'], df['Label'].astype(int)))\n",
    "\n",
    "    def _get_train_labels(self, s3_keys):\n",
    "        labels = {}\n",
    "        for key in s3_keys:\n",
    "            filename = os.path.basename(key)\n",
    "            label = 0 if filename[0] in ['H', 'N'] else 1 if filename[0] == 'P' else 0\n",
    "            labels[filename] = label\n",
    "        return labels\n",
    "\n",
    "    def setup(self, stage=None):\n",
    "        if stage in ('fit', None) and self.train_dataset is None:\n",
    "            # For training data\n",
    "            response = self.s3.list_objects_v2(Bucket=self.s3_bucket, Prefix=self.train_prefix)\n",
    "            train_keys = [item['Key'] for item in response.get('Contents', [])\n",
    "                         if item['Key'].lower().endswith(('.png', '.jpg', '.jpeg'))]\n",
    "            train_labels = self._get_train_labels(train_keys)\n",
    "            self.train_dataset = S3ImageDataset(\n",
    "                self.s3_bucket, self.train_prefix, train_labels, self.img_size)\n",
    "\n",
    "        if stage in ('fit', 'validate', 'test', None) and self.val_dataset is None:\n",
    "            # For validation data\n",
    "            val_labels = self._load_val_labels()\n",
    "            self.val_dataset = S3ImageDataset(\n",
    "                self.s3_bucket, self.val_prefix, val_labels, self.img_size)\n",
    "            self.test_dataset = self.val_dataset\n",
    "\n",
    "    def train_dataloader(self):\n",
    "        return torch.utils.data.DataLoader(\n",
    "            self.train_dataset,\n",
    "            batch_size=self.batch_size,\n",
    "            num_workers=self.num_workers,\n",
    "            shuffle=True\n",
    "        )\n",
    "\n",
    "    def val_dataloader(self):\n",
    "        return torch.utils.data.DataLoader(\n",
    "            self.val_dataset,\n",
    "            batch_size=self.batch_size,\n",
    "            num_workers=self.num_workers,\n",
    "            shuffle=False\n",
    "        )\n",
    "\n",
    "    def test_dataloader(self):\n",
    "        return torch.utils.data.DataLoader(\n",
    "            self.test_dataset,\n",
    "            batch_size=self.batch_size,\n",
    "            num_workers=self.num_workers,\n",
    "            shuffle=False\n",
    "        )\n",
    "\n",
    "    def predict_dataloader(self):\n",
    "        return torch.utils.data.DataLoader(\n",
    "            self.test_dataset,\n",
    "            batch_size=self.batch_size,\n",
    "            num_workers=self.num_workers,\n",
    "            shuffle=False\n",
    "        )"
   ]
  },
  {
   "cell_type": "code",
   "execution_count": 4,
   "id": "55b9f49a-58fc-400a-ad85-4f803a70ba3f",
   "metadata": {},
   "outputs": [],
   "source": [
    "data_module = DataModule()"
   ]
  },
  {
   "cell_type": "code",
   "execution_count": 5,
   "id": "ca1ed82a-8ce2-447b-825e-dc2de0c75bab",
   "metadata": {},
   "outputs": [],
   "source": [
    "data_module.setup('fit')"
   ]
  },
  {
   "cell_type": "code",
   "execution_count": 8,
   "id": "b21043df-fd8c-49e9-a24d-08677e1f6ebd",
   "metadata": {},
   "outputs": [],
   "source": [
    "dl = data_module.val_dataloader()\n",
    "batch = next(iter(dl))"
   ]
  },
  {
   "cell_type": "code",
   "execution_count": 9,
   "id": "7f4b48d9-cfd3-449d-b456-68ee7457c74c",
   "metadata": {},
   "outputs": [
    {
     "data": {
      "text/plain": [
       "torch.Size([50, 3, 512, 512])"
      ]
     },
     "execution_count": 9,
     "metadata": {},
     "output_type": "execute_result"
    }
   ],
   "source": [
    "batch[0].shape"
   ]
  },
  {
   "cell_type": "code",
   "execution_count": 10,
   "id": "beddff13-fb54-403e-ad48-739685a6f6bd",
   "metadata": {},
   "outputs": [
    {
     "data": {
      "text/plain": [
       "torch.Size([50, 1])"
      ]
     },
     "execution_count": 10,
     "metadata": {},
     "output_type": "execute_result"
    }
   ],
   "source": [
    "batch[1].shape"
   ]
  },
  {
   "cell_type": "code",
   "execution_count": 11,
   "id": "8f8cefdf-ef22-4db0-960d-dc4a31ac3183",
   "metadata": {},
   "outputs": [],
   "source": [
    "class SinePositionEmbedding(pl.LightningModule):\n",
    "    def __init__(self,\n",
    "                 max_wavelength=10000.0,\n",
    "                 **kwargs):\n",
    "        super().__init__(**kwargs)\n",
    "        self.max_wavelength = torch.Tensor([max_wavelength])\n",
    "\n",
    "    def forward(self, x):\n",
    "        input_shape = x.shape\n",
    "        seq_length = x.shape[-2]\n",
    "        hidden_size = x.shape[-1]\n",
    "        position = torch.arange(seq_length).type_as(x)\n",
    "        min_freq = (1 / self.max_wavelength).type_as(x)\n",
    "        timescales = torch.pow(\n",
    "            min_freq,\n",
    "            (2 * (torch.arange(hidden_size) // 2)).type_as(x)\n",
    "            / torch.Tensor([hidden_size]).type_as(x)\n",
    "        )\n",
    "        angles = torch.unsqueeze(position, 1) * torch.unsqueeze(timescales, 0)\n",
    "        cos_mask = (torch.arange(hidden_size) % 2).type_as(x)\n",
    "        sin_mask = 1 - cos_mask\n",
    "        positional_encodings = (\n",
    "            torch.sin(angles) * sin_mask + torch.cos(angles) * cos_mask\n",
    "        )\n",
    "        return torch.broadcast_to(positional_encodings, input_shape)"
   ]
  },
  {
   "cell_type": "code",
   "execution_count": 12,
   "id": "f619c819-13fb-4f52-bb88-832e090d00aa",
   "metadata": {},
   "outputs": [],
   "source": [
    "class TransformerBlock(pl.LightningModule):\n",
    "    def __init__(self,\n",
    "                 latent_size = 64,\n",
    "                 num_heads = 4,\n",
    "                 dropout = 0.1,\n",
    "                 **kwargs):\n",
    "        super().__init__(**kwargs)\n",
    "        self.layer_norm1 = torch.nn.LayerNorm(latent_size)\n",
    "        self.layer_norm2 = torch.nn.LayerNorm(latent_size)\n",
    "        self.dropout = torch.nn.Dropout(dropout)\n",
    "        self.activation = torch.nn.GELU()\n",
    "        self.linear = torch.nn.Linear(latent_size,\n",
    "                                      latent_size)\n",
    "        self.mha = torch.nn.MultiheadAttention(latent_size,\n",
    "                                               num_heads,\n",
    "                                               dropout=dropout,\n",
    "                                               batch_first=True)\n",
    "    def forward(self, x):\n",
    "        y = x\n",
    "        y = self.layer_norm1(y)\n",
    "        y = self.mha(y,y,y)[0]\n",
    "        x = y = x + y\n",
    "        y = self.layer_norm2(y)\n",
    "        y = self.linear(y)\n",
    "        y = self.dropout(y)\n",
    "        y = self.activation(y)\n",
    "        return x + y"
   ]
  },
  {
   "cell_type": "code",
   "execution_count": null,
   "id": "b6c098a6-c0ad-4bdf-9e08-4530f7f250fe",
   "metadata": {},
   "outputs": [],
   "source": [
    "class LightningBoilerplate(pl.LightningModule):\n",
    "    def __init__(self, **kwargs):\n",
    "        # This is the contructor, where we typically make\n",
    "        # layer objects using provided arguments.\n",
    "        super().__init__(**kwargs) # Call the super class constructor\n",
    "        \n",
    "    def predict_step(self, predict_batch, batch_idx):\n",
    "        x, y_true = predict_batch\n",
    "        y_pred = self.predict(x)\n",
    "        return y_pred, y_true\n",
    "\n",
    "    def training_step(self, train_batch, batch_idx):\n",
    "        x, y_true = train_batch\n",
    "        y_true = y_true.float()\n",
    "        y_pred = self(x)\n",
    "        y_pred = y_pred.squeeze(-1)\n",
    "        for metric_name, metric_function in self.network_metrics.items():\n",
    "            metric_value = metric_function(y_pred,y_true)\n",
    "            self.log('train_'+metric_name, metric_value, on_step=False, on_epoch=True)\n",
    "        loss = self.network_loss(y_pred,y_true)\n",
    "        self.log('train_loss', loss, on_step=False, on_epoch=True)\n",
    "        return loss\n",
    "        \n",
    "    def validation_step(self, val_batch, batch_idx):\n",
    "        x, y_true = val_batch\n",
    "        y_true = y_true.float()\n",
    "        y_pred = self(x)\n",
    "        y_pred = y_pred.squeeze(-1)\n",
    "        for metric_name, metric_function in self.network_metrics.items():\n",
    "            metric_value = metric_function(y_pred,y_true)\n",
    "            self.log('val_'+metric_name, metric_value, on_step=False, on_epoch=True)\n",
    "        loss = self.network_loss(y_pred,y_true)\n",
    "        self.log('val_loss', loss, on_step=False, on_epoch=True)\n",
    "        return loss\n",
    "        \n",
    "    def test_step(self, test_batch, batch_idx):\n",
    "        x, y_true = test_batch\n",
    "        y_true = y_true.float()\n",
    "        y_pred = self(x)\n",
    "        y_pred = y_pred.squeeze(-1)\n",
    "        for metric_name, metric_function in self.network_metrics.items():\n",
    "            metric_value = metric_function(y_pred,y_true)\n",
    "            self.log('test_'+metric_name, metric_value, on_step=False, on_epoch=True)\n",
    "        loss = self.network_loss(y_pred,y_true)\n",
    "        self.log('test_loss', loss, on_step=False, on_epoch=True)\n",
    "        return loss"
   ]
  },
  {
   "cell_type": "code",
   "execution_count": 14,
   "id": "60176b59-337c-4f68-bc74-478deca58c17",
   "metadata": {},
   "outputs": [],
   "source": [
    "class BinaryClassNetwork(LightningBoilerplate):\n",
    "    def __init__(self,\n",
    "                 num_classes,\n",
    "                 **kwargs):\n",
    "\n",
    "        super().__init__(**kwargs)\n",
    "\n",
    "        # This creates an accuracy function\n",
    "        self.network_metrics = torch.nn.ModuleDict({\n",
    "            'acc': torchmetrics.classification.Accuracy(task='binary',\n",
    "                                                        num_classes=num_classes)\n",
    "        })\n",
    "        self.network_loss = torch.nn.BCEWithLogitsLoss()\n",
    "\n",
    "    def configure_optimizers(self):\n",
    "        optimizer = torch.optim.Adam(self.parameters(), lr=0.001)\n",
    "        return optimizer"
   ]
  },
  {
   "cell_type": "code",
   "execution_count": 15,
   "id": "200e11b9-59f2-41f5-a7b4-d23b9e6bdf40",
   "metadata": {},
   "outputs": [],
   "source": [
    "class StandardizeTransform(BinaryClassNetwork):\n",
    "    def __init__(self, **kwargs):\n",
    "        super().__init__(**kwargs)\n",
    "        self.standardize = torchvision.transforms.Compose([\n",
    "            torchvision.transforms.Resize([200]),\n",
    "            torchvision.transforms.CenterCrop([200]),\n",
    "            torchvision.transforms.Lambda(lambda x: x / 255.0),\n",
    "            torchvision.transforms.Normalize(mean=[0.269745, 0.14805041, 0.06829182],\n",
    "                                             std=[0.19517961, 0.11075613, 0.06349409]),\n",
    "        ])\n",
    "        self.transform = torchvision.transforms.Compose([\n",
    "            torchvision.transforms.RandomAffine(degrees=(-10.0,10.0),\n",
    "                                                translate=(0.1,0.1),\n",
    "                                                scale=(0.9,1.1),\n",
    "                                                shear=(-10.0,10.0)),\n",
    "            torchvision.transforms.RandomHorizontalFlip(0.5),\n",
    "        ])\n",
    "\n",
    "    def forward(self, x):\n",
    "        y = x\n",
    "        y = self.standardize(y)\n",
    "        if self.training:\n",
    "            y = self.transform(y)\n",
    "        return y"
   ]
  },
  {
   "cell_type": "code",
   "execution_count": 16,
   "id": "5d134c70-8136-4567-9e55-76cb10c7d8d5",
   "metadata": {},
   "outputs": [],
   "source": [
    "class Channel_Att(torch.nn.Module):\n",
    "    def __init__(self, embed_dim):\n",
    "        super(Channel_Att, self).__init__()\n",
    "        self.embed_dim = embed_dim\n",
    "        self.bn = torch.nn.LayerNorm(self.embed_dim)\n",
    "\n",
    "    def forward(self, x):\n",
    "        # x: (batch_size, num_tokens, embed_dim)\n",
    "        residual = x\n",
    "        x = self.bn(x)\n",
    "        weight_bn = self.bn.weight.data.abs() / torch.sum(self.bn.weight.data.abs())\n",
    "        x = torch.mul(weight_bn, x)\n",
    "        x = torch.sigmoid(x) * residual\n",
    "        return x\n",
    "\n",
    "class Spatial_Att(torch.nn.Module):\n",
    "    def __init__(self, num_tokens):\n",
    "        super(Spatial_Att, self).__init__()\n",
    "        self.conv1d = torch.nn.Conv1d(2, 1, kernel_size=3, padding=1, bias=False)\n",
    "        self.sigmoid = torch.nn.Sigmoid()\n",
    "\n",
    "    def forward(self, x):\n",
    "        avg_out = torch.mean(x, dim=2, keepdim=True)  \n",
    "        max_out, _ = torch.max(x, dim=2, keepdim=True)  \n",
    "        x = torch.cat([avg_out, max_out], dim=2)  \n",
    "        x = x.permute(0, 2, 1) \n",
    "        x = self.conv1d(x) \n",
    "        x = self.sigmoid(x).permute(0, 2, 1)  \n",
    "        return x\n",
    "\n",
    "class NAM(torch.nn.Module):\n",
    "    def __init__(self, num_tokens, embed_dim):\n",
    "        super(NAM, self).__init__()\n",
    "        self.channel_att = Channel_Att(embed_dim)\n",
    "        self.spatial_att = Spatial_Att(num_tokens)\n",
    "\n",
    "    def forward(self, x):\n",
    "        x = self.channel_att(x)\n",
    "        spatial_weight = self.spatial_att(x)  \n",
    "        x = x * spatial_weight  \n",
    "        return x\n"
   ]
  },
  {
   "cell_type": "code",
   "execution_count": 17,
   "id": "157add31-b0cb-46a1-9804-1f2ef5462898",
   "metadata": {},
   "outputs": [],
   "source": [
    "class ViTNetwork(StandardizeTransform):\n",
    "    def __init__(self,\n",
    "                 input_shape,\n",
    "                 patch_shape,\n",
    "                 output_size,\n",
    "                 latent_size = 64,\n",
    "                 num_heads = 2,\n",
    "                 n_layers = 4,\n",
    "                 **kwargs):\n",
    "        super().__init__(num_classes=output_size,**kwargs)\n",
    "        self.save_hyperparameters()\n",
    "\n",
    "        # For MNIST, use this...\n",
    "        # self.normalize = torchvision.transforms.Compose([\n",
    "        #     torchvision.transforms.Lambda(lambda x: x / 255.0),\n",
    "        # ])\n",
    "        # Note that this normalization only makes sense for CIFAR!\n",
    "\n",
    "        self.patches = torch.nn.Conv2d(input_shape[1],\n",
    "                                       latent_size,\n",
    "                                       patch_shape,\n",
    "                                       patch_shape,\n",
    "                                       bias=False)\n",
    "        # self.position_embedding = torch.nn.Embedding((input_shape[-1]//patch_shape[-1])*\n",
    "        #                                              (input_shape[-2]//patch_shape[-2]),\n",
    "        #                                              latent_size)\n",
    "        self.position_embedding = SinePositionEmbedding()\n",
    "        self.att = NAM(num_tokens=(input_shape[-1] // patch_shape[-1]) *\n",
    "                                       (input_shape[-2] // patch_shape[-2]),\n",
    "                             embed_dim=latent_size)\n",
    "        \n",
    "        self.transformer_blocks = torch.nn.Sequential(*[\n",
    "            TransformerBlock(latent_size=latent_size,\n",
    "                             num_heads=num_heads) for _ in range(n_layers)\n",
    "        ])\n",
    "        self.pooling = torch.nn.AdaptiveAvgPool1d(1)\n",
    "        self.linear = torch.nn.Linear(latent_size,\n",
    "                                      output_size)\n",
    "        \n",
    "    def forward(self, x):\n",
    "        y = x\n",
    "        y = super().forward(y)\n",
    "        y = self.patches(y)\n",
    "        y = y.reshape(y.shape[0:2] + (-1,)).permute(0, 2, 1)\n",
    "        # y = y + self.position_embedding(torch.arange(0,y.shape[1]).type_as(x).long())\n",
    "        y = y + self.position_embedding(y)\n",
    "        y = self.att(y)\n",
    "        y = self.transformer_blocks(y).permute(0, 2, 1)\n",
    "        y = self.pooling(y).squeeze()\n",
    "        y = self.linear(y)\n",
    "        return y"
   ]
  },
  {
   "cell_type": "code",
   "execution_count": 18,
   "id": "f85eb017-16ed-45da-81a2-bbf412058662",
   "metadata": {},
   "outputs": [
    {
     "data": {
      "text/plain": [
       "torch.Size([50, 3, 512, 512])"
      ]
     },
     "execution_count": 18,
     "metadata": {},
     "output_type": "execute_result"
    }
   ],
   "source": [
    "batch[0].shape"
   ]
  },
  {
   "cell_type": "code",
   "execution_count": null,
   "id": "5af62f9d-3c51-4a88-96ec-153d5d2b1893",
   "metadata": {},
   "outputs": [
    {
     "name": "stderr",
     "output_type": "stream",
     "text": [
      "/home/ec2-user/anaconda3/lib/python3.12/site-packages/torch/cuda/__init__.py:734: UserWarning: Can't initialize NVML\n",
      "  warnings.warn(\"Can't initialize NVML\")\n"
     ]
    },
    {
     "data": {
      "text/plain": [
       "==========================================================================================\n",
       "Layer (type:depth-idx)                   Output Shape              Param #\n",
       "==========================================================================================\n",
       "ViTNetwork                               [50, 1]                   --\n",
       "├─Conv2d: 1-1                            [50, 64, 12, 12]          49,152\n",
       "├─SinePositionEmbedding: 1-2             [50, 144, 64]             --\n",
       "├─NAM: 1-3                               [50, 144, 64]             --\n",
       "│    └─Channel_Att: 2-1                  [50, 144, 64]             --\n",
       "│    │    └─LayerNorm: 3-1               [50, 144, 64]             128\n",
       "│    └─Spatial_Att: 2-2                  [50, 144, 1]              --\n",
       "│    │    └─Conv1d: 3-2                  [50, 1, 144]              6\n",
       "│    │    └─Sigmoid: 3-3                 [50, 1, 144]              --\n",
       "├─Sequential: 1-4                        [50, 144, 64]             --\n",
       "│    └─TransformerBlock: 2-3             [50, 144, 64]             --\n",
       "│    │    └─LayerNorm: 3-4               [50, 144, 64]             128\n",
       "│    │    └─MultiheadAttention: 3-5      [50, 144, 64]             16,640\n",
       "│    │    └─LayerNorm: 3-6               [50, 144, 64]             128\n",
       "│    │    └─Linear: 3-7                  [50, 144, 64]             4,160\n",
       "│    │    └─Dropout: 3-8                 [50, 144, 64]             --\n",
       "│    │    └─GELU: 3-9                    [50, 144, 64]             --\n",
       "│    └─TransformerBlock: 2-4             [50, 144, 64]             --\n",
       "│    │    └─LayerNorm: 3-10              [50, 144, 64]             128\n",
       "│    │    └─MultiheadAttention: 3-11     [50, 144, 64]             16,640\n",
       "│    │    └─LayerNorm: 3-12              [50, 144, 64]             128\n",
       "│    │    └─Linear: 3-13                 [50, 144, 64]             4,160\n",
       "│    │    └─Dropout: 3-14                [50, 144, 64]             --\n",
       "│    │    └─GELU: 3-15                   [50, 144, 64]             --\n",
       "│    └─TransformerBlock: 2-5             [50, 144, 64]             --\n",
       "│    │    └─LayerNorm: 3-16              [50, 144, 64]             128\n",
       "│    │    └─MultiheadAttention: 3-17     [50, 144, 64]             16,640\n",
       "│    │    └─LayerNorm: 3-18              [50, 144, 64]             128\n",
       "│    │    └─Linear: 3-19                 [50, 144, 64]             4,160\n",
       "│    │    └─Dropout: 3-20                [50, 144, 64]             --\n",
       "│    │    └─GELU: 3-21                   [50, 144, 64]             --\n",
       "│    └─TransformerBlock: 2-6             [50, 144, 64]             --\n",
       "│    │    └─LayerNorm: 3-22              [50, 144, 64]             128\n",
       "│    │    └─MultiheadAttention: 3-23     [50, 144, 64]             16,640\n",
       "│    │    └─LayerNorm: 3-24              [50, 144, 64]             128\n",
       "│    │    └─Linear: 3-25                 [50, 144, 64]             4,160\n",
       "│    │    └─Dropout: 3-26                [50, 144, 64]             --\n",
       "│    │    └─GELU: 3-27                   [50, 144, 64]             --\n",
       "├─AdaptiveAvgPool1d: 1-5                 [50, 64, 1]               --\n",
       "├─Linear: 1-6                            [50, 1]                   65\n",
       "==========================================================================================\n",
       "Total params: 133,575\n",
       "Trainable params: 133,575\n",
       "Non-trainable params: 0\n",
       "Total mult-adds (Units.MEGABYTES): 354.83\n",
       "==========================================================================================\n",
       "Input size (MB): 157.29\n",
       "Forward/backward pass size (MB): 51.67\n",
       "Params size (MB): 0.27\n",
       "Estimated Total Size (MB): 209.22\n",
       "=========================================================================================="
      ]
     },
     "execution_count": 20,
     "metadata": {},
     "output_type": "execute_result"
    }
   ],
   "source": [
    "vit_net = ViTNetwork(input_shape=batch[0].shape,\n",
    "                     patch_shape=(16, 16), \n",
    "                     output_size=1,\n",
    "                     latent_size=64,\n",
    "                     n_layers=4)\n",
    "summary(vit_net, input_size=batch[0].shape)"
   ]
  },
  {
   "cell_type": "code",
   "execution_count": 21,
   "id": "c21303d9-3ef6-4e54-9985-d2897ceb5cdd",
   "metadata": {
    "scrolled": true
   },
   "outputs": [
    {
     "data": {
      "image/svg+xml": [
       "<?xml version=\"1.0\" encoding=\"UTF-8\" standalone=\"no\"?>\n",
       "<!DOCTYPE svg PUBLIC \"-//W3C//DTD SVG 1.1//EN\"\n",
       " \"http://www.w3.org/Graphics/SVG/1.1/DTD/svg11.dtd\">\n",
       "<!-- Generated by graphviz version 12.2.1 (20250203.1708)\n",
       " -->\n",
       "<!-- Title: model Pages: 1 -->\n",
       "<svg width=\"277pt\" height=\"2786pt\"\n",
       " viewBox=\"0.00 0.00 277.32 2786.00\" xmlns=\"http://www.w3.org/2000/svg\" xmlns:xlink=\"http://www.w3.org/1999/xlink\">\n",
       "<g id=\"graph0\" class=\"graph\" transform=\"scale(0.595426 0.595426) rotate(0) translate(4 4675)\">\n",
       "<title>model</title>\n",
       "<polygon fill=\"white\" stroke=\"none\" points=\"-4,4 -4,-4675 461.75,-4675 461.75,4 -4,4\"/>\n",
       "<!-- 0 -->\n",
       "<g id=\"node1\" class=\"node\">\n",
       "<title>0</title>\n",
       "<polygon fill=\"lightyellow\" stroke=\"none\" points=\"253.5,-4671 94.75,-4671 94.75,-4635.5 253.5,-4635.5 253.5,-4671\"/>\n",
       "<polygon fill=\"none\" stroke=\"black\" points=\"94.75,-4635.5 94.75,-4671 164,-4671 164,-4635.5 94.75,-4635.5\"/>\n",
       "<text text-anchor=\"start\" x=\"99.75\" y=\"-4656.5\" font-family=\"Linux libertine\" font-size=\"10.00\">input&#45;tensor</text>\n",
       "<text text-anchor=\"start\" x=\"111\" y=\"-4643.75\" font-family=\"Linux libertine\" font-size=\"10.00\">depth:0</text>\n",
       "<polygon fill=\"none\" stroke=\"black\" points=\"164,-4635.5 164,-4671 253.5,-4671 253.5,-4635.5 164,-4635.5\"/>\n",
       "<text text-anchor=\"start\" x=\"169\" y=\"-4650.12\" font-family=\"Linux libertine\" font-size=\"10.00\">(50, 3, 512, 512)</text>\n",
       "</g>\n",
       "<!-- 1 -->\n",
       "<g id=\"node2\" class=\"node\">\n",
       "<title>1</title>\n",
       "<polygon fill=\"#c1ffc1\" stroke=\"none\" points=\"267.5,-4599.5 80.75,-4599.5 80.75,-4554 267.5,-4554 267.5,-4599.5\"/>\n",
       "<polygon fill=\"none\" stroke=\"black\" points=\"80.75,-4554 80.75,-4599.5 127.5,-4599.5 127.5,-4554 80.75,-4554\"/>\n",
       "<text text-anchor=\"start\" x=\"88\" y=\"-4580\" font-family=\"Linux libertine\" font-size=\"10.00\">Resize</text>\n",
       "<text text-anchor=\"start\" x=\"85.75\" y=\"-4567.25\" font-family=\"Linux libertine\" font-size=\"10.00\">depth:1</text>\n",
       "<polygon fill=\"none\" stroke=\"black\" points=\"127.5,-4576.75 127.5,-4599.5 175,-4599.5 175,-4576.75 127.5,-4576.75\"/>\n",
       "<text text-anchor=\"start\" x=\"137.38\" y=\"-4585\" font-family=\"Linux libertine\" font-size=\"10.00\">input:</text>\n",
       "<polygon fill=\"none\" stroke=\"black\" points=\"175,-4576.75 175,-4599.5 267.5,-4599.5 267.5,-4576.75 175,-4576.75\"/>\n",
       "<text text-anchor=\"start\" x=\"180\" y=\"-4585\" font-family=\"Linux libertine\" font-size=\"10.00\">(50, 3, 512, 512) </text>\n",
       "<polygon fill=\"none\" stroke=\"black\" points=\"127.5,-4554 127.5,-4576.75 175,-4576.75 175,-4554 127.5,-4554\"/>\n",
       "<text text-anchor=\"start\" x=\"132.5\" y=\"-4562.25\" font-family=\"Linux libertine\" font-size=\"10.00\">output: </text>\n",
       "<polygon fill=\"none\" stroke=\"black\" points=\"175,-4554 175,-4576.75 267.5,-4576.75 267.5,-4554 175,-4554\"/>\n",
       "<text text-anchor=\"start\" x=\"180\" y=\"-4562.25\" font-family=\"Linux libertine\" font-size=\"10.00\">(50, 3, 200, 200) </text>\n",
       "</g>\n",
       "<!-- 0&#45;&gt;1 -->\n",
       "<g id=\"edge1\" class=\"edge\">\n",
       "<title>0&#45;&gt;1</title>\n",
       "<path fill=\"none\" stroke=\"black\" d=\"M174.12,-4635.72C174.12,-4628.35 174.12,-4619.39 174.12,-4610.75\"/>\n",
       "<polygon fill=\"black\" stroke=\"black\" points=\"177.63,-4610.85 174.13,-4600.85 170.63,-4610.85 177.63,-4610.85\"/>\n",
       "</g>\n",
       "<!-- 2 -->\n",
       "<g id=\"node3\" class=\"node\">\n",
       "<title>2</title>\n",
       "<polygon fill=\"#c1ffc1\" stroke=\"none\" points=\"276.5,-4518 71.75,-4518 71.75,-4472.5 276.5,-4472.5 276.5,-4518\"/>\n",
       "<polygon fill=\"none\" stroke=\"black\" points=\"71.75,-4472.5 71.75,-4518 136.5,-4518 136.5,-4472.5 71.75,-4472.5\"/>\n",
       "<text text-anchor=\"start\" x=\"76.75\" y=\"-4498.5\" font-family=\"Linux libertine\" font-size=\"10.00\">CenterCrop</text>\n",
       "<text text-anchor=\"start\" x=\"85.75\" y=\"-4485.75\" font-family=\"Linux libertine\" font-size=\"10.00\">depth:1</text>\n",
       "<polygon fill=\"none\" stroke=\"black\" points=\"136.5,-4495.25 136.5,-4518 184,-4518 184,-4495.25 136.5,-4495.25\"/>\n",
       "<text text-anchor=\"start\" x=\"146.38\" y=\"-4503.5\" font-family=\"Linux libertine\" font-size=\"10.00\">input:</text>\n",
       "<polygon fill=\"none\" stroke=\"black\" points=\"184,-4495.25 184,-4518 276.5,-4518 276.5,-4495.25 184,-4495.25\"/>\n",
       "<text text-anchor=\"start\" x=\"189\" y=\"-4503.5\" font-family=\"Linux libertine\" font-size=\"10.00\">(50, 3, 200, 200) </text>\n",
       "<polygon fill=\"none\" stroke=\"black\" points=\"136.5,-4472.5 136.5,-4495.25 184,-4495.25 184,-4472.5 136.5,-4472.5\"/>\n",
       "<text text-anchor=\"start\" x=\"141.5\" y=\"-4480.75\" font-family=\"Linux libertine\" font-size=\"10.00\">output: </text>\n",
       "<polygon fill=\"none\" stroke=\"black\" points=\"184,-4472.5 184,-4495.25 276.5,-4495.25 276.5,-4472.5 184,-4472.5\"/>\n",
       "<text text-anchor=\"start\" x=\"189\" y=\"-4480.75\" font-family=\"Linux libertine\" font-size=\"10.00\">(50, 3, 200, 200) </text>\n",
       "</g>\n",
       "<!-- 1&#45;&gt;2 -->\n",
       "<g id=\"edge2\" class=\"edge\">\n",
       "<title>1&#45;&gt;2</title>\n",
       "<path fill=\"none\" stroke=\"black\" d=\"M174.12,-4554.03C174.12,-4546.4 174.12,-4537.65 174.12,-4529.31\"/>\n",
       "<polygon fill=\"black\" stroke=\"black\" points=\"177.63,-4529.46 174.13,-4519.46 170.63,-4529.46 177.63,-4529.46\"/>\n",
       "</g>\n",
       "<!-- 3 -->\n",
       "<g id=\"node4\" class=\"node\">\n",
       "<title>3</title>\n",
       "<polygon fill=\"aliceblue\" stroke=\"none\" points=\"267.5,-4436.5 80.75,-4436.5 80.75,-4391 267.5,-4391 267.5,-4436.5\"/>\n",
       "<polygon fill=\"none\" stroke=\"black\" points=\"80.75,-4391 80.75,-4436.5 127.5,-4436.5 127.5,-4391 80.75,-4391\"/>\n",
       "<text text-anchor=\"start\" x=\"96.62\" y=\"-4417\" font-family=\"Linux libertine\" font-size=\"10.00\">div</text>\n",
       "<text text-anchor=\"start\" x=\"85.75\" y=\"-4404.25\" font-family=\"Linux libertine\" font-size=\"10.00\">depth:1</text>\n",
       "<polygon fill=\"none\" stroke=\"black\" points=\"127.5,-4413.75 127.5,-4436.5 175,-4436.5 175,-4413.75 127.5,-4413.75\"/>\n",
       "<text text-anchor=\"start\" x=\"137.38\" y=\"-4422\" font-family=\"Linux libertine\" font-size=\"10.00\">input:</text>\n",
       "<polygon fill=\"none\" stroke=\"black\" points=\"175,-4413.75 175,-4436.5 267.5,-4436.5 267.5,-4413.75 175,-4413.75\"/>\n",
       "<text text-anchor=\"start\" x=\"180\" y=\"-4422\" font-family=\"Linux libertine\" font-size=\"10.00\">(50, 3, 200, 200) </text>\n",
       "<polygon fill=\"none\" stroke=\"black\" points=\"127.5,-4391 127.5,-4413.75 175,-4413.75 175,-4391 127.5,-4391\"/>\n",
       "<text text-anchor=\"start\" x=\"132.5\" y=\"-4399.25\" font-family=\"Linux libertine\" font-size=\"10.00\">output: </text>\n",
       "<polygon fill=\"none\" stroke=\"black\" points=\"175,-4391 175,-4413.75 267.5,-4413.75 267.5,-4391 175,-4391\"/>\n",
       "<text text-anchor=\"start\" x=\"180\" y=\"-4399.25\" font-family=\"Linux libertine\" font-size=\"10.00\">(50, 3, 200, 200) </text>\n",
       "</g>\n",
       "<!-- 2&#45;&gt;3 -->\n",
       "<g id=\"edge3\" class=\"edge\">\n",
       "<title>2&#45;&gt;3</title>\n",
       "<path fill=\"none\" stroke=\"black\" d=\"M174.12,-4472.53C174.12,-4464.9 174.12,-4456.15 174.12,-4447.81\"/>\n",
       "<polygon fill=\"black\" stroke=\"black\" points=\"177.63,-4447.96 174.13,-4437.96 170.63,-4447.96 177.63,-4447.96\"/>\n",
       "</g>\n",
       "<!-- 4 -->\n",
       "<g id=\"node5\" class=\"node\">\n",
       "<title>4</title>\n",
       "<polygon fill=\"#c1ffc1\" stroke=\"none\" points=\"274.25,-4355 74,-4355 74,-4309.5 274.25,-4309.5 274.25,-4355\"/>\n",
       "<polygon fill=\"none\" stroke=\"black\" points=\"74,-4309.5 74,-4355 134.25,-4355 134.25,-4309.5 74,-4309.5\"/>\n",
       "<text text-anchor=\"start\" x=\"79\" y=\"-4335.5\" font-family=\"Linux libertine\" font-size=\"10.00\">Normalize</text>\n",
       "<text text-anchor=\"start\" x=\"85.75\" y=\"-4322.75\" font-family=\"Linux libertine\" font-size=\"10.00\">depth:1</text>\n",
       "<polygon fill=\"none\" stroke=\"black\" points=\"134.25,-4332.25 134.25,-4355 181.75,-4355 181.75,-4332.25 134.25,-4332.25\"/>\n",
       "<text text-anchor=\"start\" x=\"144.12\" y=\"-4340.5\" font-family=\"Linux libertine\" font-size=\"10.00\">input:</text>\n",
       "<polygon fill=\"none\" stroke=\"black\" points=\"181.75,-4332.25 181.75,-4355 274.25,-4355 274.25,-4332.25 181.75,-4332.25\"/>\n",
       "<text text-anchor=\"start\" x=\"186.75\" y=\"-4340.5\" font-family=\"Linux libertine\" font-size=\"10.00\">(50, 3, 200, 200) </text>\n",
       "<polygon fill=\"none\" stroke=\"black\" points=\"134.25,-4309.5 134.25,-4332.25 181.75,-4332.25 181.75,-4309.5 134.25,-4309.5\"/>\n",
       "<text text-anchor=\"start\" x=\"139.25\" y=\"-4317.75\" font-family=\"Linux libertine\" font-size=\"10.00\">output: </text>\n",
       "<polygon fill=\"none\" stroke=\"black\" points=\"181.75,-4309.5 181.75,-4332.25 274.25,-4332.25 274.25,-4309.5 181.75,-4309.5\"/>\n",
       "<text text-anchor=\"start\" x=\"186.75\" y=\"-4317.75\" font-family=\"Linux libertine\" font-size=\"10.00\">(50, 3, 200, 200) </text>\n",
       "</g>\n",
       "<!-- 3&#45;&gt;4 -->\n",
       "<g id=\"edge4\" class=\"edge\">\n",
       "<title>3&#45;&gt;4</title>\n",
       "<path fill=\"none\" stroke=\"black\" d=\"M174.12,-4391.03C174.12,-4383.4 174.12,-4374.65 174.12,-4366.31\"/>\n",
       "<polygon fill=\"black\" stroke=\"black\" points=\"177.63,-4366.46 174.13,-4356.46 170.63,-4366.46 177.63,-4366.46\"/>\n",
       "</g>\n",
       "<!-- 5 -->\n",
       "<g id=\"node6\" class=\"node\">\n",
       "<title>5</title>\n",
       "<polygon fill=\"#c1ffc1\" stroke=\"none\" points=\"267.5,-4273.5 80.75,-4273.5 80.75,-4228 267.5,-4228 267.5,-4273.5\"/>\n",
       "<polygon fill=\"none\" stroke=\"black\" points=\"80.75,-4228 80.75,-4273.5 127.5,-4273.5 127.5,-4228 80.75,-4228\"/>\n",
       "<text text-anchor=\"start\" x=\"85.75\" y=\"-4254\" font-family=\"Linux libertine\" font-size=\"10.00\">Conv2d</text>\n",
       "<text text-anchor=\"start\" x=\"85.75\" y=\"-4241.25\" font-family=\"Linux libertine\" font-size=\"10.00\">depth:1</text>\n",
       "<polygon fill=\"none\" stroke=\"black\" points=\"127.5,-4250.75 127.5,-4273.5 175,-4273.5 175,-4250.75 127.5,-4250.75\"/>\n",
       "<text text-anchor=\"start\" x=\"137.38\" y=\"-4259\" font-family=\"Linux libertine\" font-size=\"10.00\">input:</text>\n",
       "<polygon fill=\"none\" stroke=\"black\" points=\"175,-4250.75 175,-4273.5 267.5,-4273.5 267.5,-4250.75 175,-4250.75\"/>\n",
       "<text text-anchor=\"start\" x=\"180\" y=\"-4259\" font-family=\"Linux libertine\" font-size=\"10.00\">(50, 3, 200, 200) </text>\n",
       "<polygon fill=\"none\" stroke=\"black\" points=\"127.5,-4228 127.5,-4250.75 175,-4250.75 175,-4228 127.5,-4228\"/>\n",
       "<text text-anchor=\"start\" x=\"132.5\" y=\"-4236.25\" font-family=\"Linux libertine\" font-size=\"10.00\">output: </text>\n",
       "<polygon fill=\"none\" stroke=\"black\" points=\"175,-4228 175,-4250.75 267.5,-4250.75 267.5,-4228 175,-4228\"/>\n",
       "<text text-anchor=\"start\" x=\"183\" y=\"-4236.25\" font-family=\"Linux libertine\" font-size=\"10.00\">(50, 64, 12, 12) </text>\n",
       "</g>\n",
       "<!-- 4&#45;&gt;5 -->\n",
       "<g id=\"edge5\" class=\"edge\">\n",
       "<title>4&#45;&gt;5</title>\n",
       "<path fill=\"none\" stroke=\"black\" d=\"M174.12,-4309.53C174.12,-4301.9 174.12,-4293.15 174.12,-4284.81\"/>\n",
       "<polygon fill=\"black\" stroke=\"black\" points=\"177.63,-4284.96 174.13,-4274.96 170.63,-4284.96 177.63,-4284.96\"/>\n",
       "</g>\n",
       "<!-- 6 -->\n",
       "<g id=\"node7\" class=\"node\">\n",
       "<title>6</title>\n",
       "<polygon fill=\"aliceblue\" stroke=\"none\" points=\"265.62,-4192 82.62,-4192 82.62,-4146.5 265.62,-4146.5 265.62,-4192\"/>\n",
       "<polygon fill=\"none\" stroke=\"black\" points=\"82.62,-4146.5 82.62,-4192 131.62,-4192 131.62,-4146.5 82.62,-4146.5\"/>\n",
       "<text text-anchor=\"start\" x=\"87.62\" y=\"-4172.5\" font-family=\"Linux libertine\" font-size=\"10.00\">reshape</text>\n",
       "<text text-anchor=\"start\" x=\"88.75\" y=\"-4159.75\" font-family=\"Linux libertine\" font-size=\"10.00\">depth:1</text>\n",
       "<polygon fill=\"none\" stroke=\"black\" points=\"131.62,-4169.25 131.62,-4192 179.12,-4192 179.12,-4169.25 131.62,-4169.25\"/>\n",
       "<text text-anchor=\"start\" x=\"141.5\" y=\"-4177.5\" font-family=\"Linux libertine\" font-size=\"10.00\">input:</text>\n",
       "<polygon fill=\"none\" stroke=\"black\" points=\"179.12,-4169.25 179.12,-4192 265.62,-4192 265.62,-4169.25 179.12,-4169.25\"/>\n",
       "<text text-anchor=\"start\" x=\"184.12\" y=\"-4177.5\" font-family=\"Linux libertine\" font-size=\"10.00\">(50, 64, 12, 12) </text>\n",
       "<polygon fill=\"none\" stroke=\"black\" points=\"131.62,-4146.5 131.62,-4169.25 179.12,-4169.25 179.12,-4146.5 131.62,-4146.5\"/>\n",
       "<text text-anchor=\"start\" x=\"136.62\" y=\"-4154.75\" font-family=\"Linux libertine\" font-size=\"10.00\">output: </text>\n",
       "<polygon fill=\"none\" stroke=\"black\" points=\"179.12,-4146.5 179.12,-4169.25 265.62,-4169.25 265.62,-4146.5 179.12,-4146.5\"/>\n",
       "<text text-anchor=\"start\" x=\"190.12\" y=\"-4154.75\" font-family=\"Linux libertine\" font-size=\"10.00\">(50, 64, 144) </text>\n",
       "</g>\n",
       "<!-- 5&#45;&gt;6 -->\n",
       "<g id=\"edge6\" class=\"edge\">\n",
       "<title>5&#45;&gt;6</title>\n",
       "<path fill=\"none\" stroke=\"black\" d=\"M174.12,-4228.03C174.12,-4220.4 174.12,-4211.65 174.12,-4203.31\"/>\n",
       "<polygon fill=\"black\" stroke=\"black\" points=\"177.63,-4203.46 174.13,-4193.46 170.63,-4203.46 177.63,-4203.46\"/>\n",
       "</g>\n",
       "<!-- 7 -->\n",
       "<g id=\"node8\" class=\"node\">\n",
       "<title>7</title>\n",
       "<polygon fill=\"aliceblue\" stroke=\"none\" points=\"260.75,-4110.5 87.5,-4110.5 87.5,-4065 260.75,-4065 260.75,-4110.5\"/>\n",
       "<polygon fill=\"none\" stroke=\"black\" points=\"87.5,-4065 87.5,-4110.5 138.75,-4110.5 138.75,-4065 87.5,-4065\"/>\n",
       "<text text-anchor=\"start\" x=\"92.5\" y=\"-4091\" font-family=\"Linux libertine\" font-size=\"10.00\">permute</text>\n",
       "<text text-anchor=\"start\" x=\"94.75\" y=\"-4078.25\" font-family=\"Linux libertine\" font-size=\"10.00\">depth:1</text>\n",
       "<polygon fill=\"none\" stroke=\"black\" points=\"138.75,-4087.75 138.75,-4110.5 186.25,-4110.5 186.25,-4087.75 138.75,-4087.75\"/>\n",
       "<text text-anchor=\"start\" x=\"148.62\" y=\"-4096\" font-family=\"Linux libertine\" font-size=\"10.00\">input:</text>\n",
       "<polygon fill=\"none\" stroke=\"black\" points=\"186.25,-4087.75 186.25,-4110.5 260.75,-4110.5 260.75,-4087.75 186.25,-4087.75\"/>\n",
       "<text text-anchor=\"start\" x=\"191.25\" y=\"-4096\" font-family=\"Linux libertine\" font-size=\"10.00\">(50, 64, 144) </text>\n",
       "<polygon fill=\"none\" stroke=\"black\" points=\"138.75,-4065 138.75,-4087.75 186.25,-4087.75 186.25,-4065 138.75,-4065\"/>\n",
       "<text text-anchor=\"start\" x=\"143.75\" y=\"-4073.25\" font-family=\"Linux libertine\" font-size=\"10.00\">output: </text>\n",
       "<polygon fill=\"none\" stroke=\"black\" points=\"186.25,-4065 186.25,-4087.75 260.75,-4087.75 260.75,-4065 186.25,-4065\"/>\n",
       "<text text-anchor=\"start\" x=\"191.25\" y=\"-4073.25\" font-family=\"Linux libertine\" font-size=\"10.00\">(50, 144, 64) </text>\n",
       "</g>\n",
       "<!-- 6&#45;&gt;7 -->\n",
       "<g id=\"edge7\" class=\"edge\">\n",
       "<title>6&#45;&gt;7</title>\n",
       "<path fill=\"none\" stroke=\"black\" d=\"M174.12,-4146.53C174.12,-4138.9 174.12,-4130.15 174.12,-4121.81\"/>\n",
       "<polygon fill=\"black\" stroke=\"black\" points=\"177.63,-4121.96 174.13,-4111.96 170.63,-4121.96 177.63,-4121.96\"/>\n",
       "</g>\n",
       "<!-- 8 -->\n",
       "<g id=\"node9\" class=\"node\">\n",
       "<title>8</title>\n",
       "<polygon fill=\"#c1ffc1\" stroke=\"none\" points=\"373.5,-4029 126.75,-4029 126.75,-3983.5 373.5,-3983.5 373.5,-4029\"/>\n",
       "<polygon fill=\"none\" stroke=\"black\" points=\"126.75,-3983.5 126.75,-4029 251.5,-4029 251.5,-3983.5 126.75,-3983.5\"/>\n",
       "<text text-anchor=\"start\" x=\"131.75\" y=\"-4009.5\" font-family=\"Linux libertine\" font-size=\"10.00\">SinePositionEmbedding</text>\n",
       "<text text-anchor=\"start\" x=\"170.75\" y=\"-3996.75\" font-family=\"Linux libertine\" font-size=\"10.00\">depth:1</text>\n",
       "<polygon fill=\"none\" stroke=\"black\" points=\"251.5,-4006.25 251.5,-4029 299,-4029 299,-4006.25 251.5,-4006.25\"/>\n",
       "<text text-anchor=\"start\" x=\"261.38\" y=\"-4014.5\" font-family=\"Linux libertine\" font-size=\"10.00\">input:</text>\n",
       "<polygon fill=\"none\" stroke=\"black\" points=\"299,-4006.25 299,-4029 373.5,-4029 373.5,-4006.25 299,-4006.25\"/>\n",
       "<text text-anchor=\"start\" x=\"304\" y=\"-4014.5\" font-family=\"Linux libertine\" font-size=\"10.00\">(50, 144, 64) </text>\n",
       "<polygon fill=\"none\" stroke=\"black\" points=\"251.5,-3983.5 251.5,-4006.25 299,-4006.25 299,-3983.5 251.5,-3983.5\"/>\n",
       "<text text-anchor=\"start\" x=\"256.5\" y=\"-3991.75\" font-family=\"Linux libertine\" font-size=\"10.00\">output: </text>\n",
       "<polygon fill=\"none\" stroke=\"black\" points=\"299,-3983.5 299,-4006.25 373.5,-4006.25 373.5,-3983.5 299,-3983.5\"/>\n",
       "<text text-anchor=\"start\" x=\"304\" y=\"-3991.75\" font-family=\"Linux libertine\" font-size=\"10.00\">(50, 144, 64) </text>\n",
       "</g>\n",
       "<!-- 7&#45;&gt;8 -->\n",
       "<g id=\"edge8\" class=\"edge\">\n",
       "<title>7&#45;&gt;8</title>\n",
       "<path fill=\"none\" stroke=\"black\" d=\"M194.89,-4065.03C203.1,-4056.44 212.67,-4046.43 221.52,-4037.17\"/>\n",
       "<polygon fill=\"black\" stroke=\"black\" points=\"223.96,-4039.69 228.34,-4030.04 218.9,-4034.85 223.96,-4039.69\"/>\n",
       "</g>\n",
       "<!-- 9 -->\n",
       "<g id=\"node10\" class=\"node\">\n",
       "<title>9</title>\n",
       "<polygon fill=\"aliceblue\" stroke=\"none\" points=\"267.5,-3947.5 80.75,-3947.5 80.75,-3902 267.5,-3902 267.5,-3947.5\"/>\n",
       "<polygon fill=\"none\" stroke=\"black\" points=\"80.75,-3902 80.75,-3947.5 127.5,-3947.5 127.5,-3902 80.75,-3902\"/>\n",
       "<text text-anchor=\"start\" x=\"95.12\" y=\"-3928\" font-family=\"Linux libertine\" font-size=\"10.00\">add</text>\n",
       "<text text-anchor=\"start\" x=\"85.75\" y=\"-3915.25\" font-family=\"Linux libertine\" font-size=\"10.00\">depth:1</text>\n",
       "<polygon fill=\"none\" stroke=\"black\" points=\"127.5,-3924.75 127.5,-3947.5 175,-3947.5 175,-3924.75 127.5,-3924.75\"/>\n",
       "<text text-anchor=\"start\" x=\"137.38\" y=\"-3933\" font-family=\"Linux libertine\" font-size=\"10.00\">input:</text>\n",
       "<polygon fill=\"none\" stroke=\"black\" points=\"175,-3924.75 175,-3947.5 267.5,-3947.5 267.5,-3924.75 175,-3924.75\"/>\n",
       "<text text-anchor=\"start\" x=\"180\" y=\"-3933\" font-family=\"Linux libertine\" font-size=\"10.00\">2 x (50, 144, 64) </text>\n",
       "<polygon fill=\"none\" stroke=\"black\" points=\"127.5,-3902 127.5,-3924.75 175,-3924.75 175,-3902 127.5,-3902\"/>\n",
       "<text text-anchor=\"start\" x=\"132.5\" y=\"-3910.25\" font-family=\"Linux libertine\" font-size=\"10.00\">output: </text>\n",
       "<polygon fill=\"none\" stroke=\"black\" points=\"175,-3902 175,-3924.75 267.5,-3924.75 267.5,-3902 175,-3902\"/>\n",
       "<text text-anchor=\"start\" x=\"189\" y=\"-3910.25\" font-family=\"Linux libertine\" font-size=\"10.00\">(50, 144, 64) </text>\n",
       "</g>\n",
       "<!-- 7&#45;&gt;9 -->\n",
       "<g id=\"edge9\" class=\"edge\">\n",
       "<title>7&#45;&gt;9</title>\n",
       "<path fill=\"none\" stroke=\"black\" d=\"M145.3,-4065.18C134.64,-4055.44 123.79,-4042.98 118.12,-4029 110.53,-4010.26 110.53,-4002.24 118.12,-3983.5 122.33,-3973.13 129.39,-3963.59 137.11,-3955.38\"/>\n",
       "<polygon fill=\"black\" stroke=\"black\" points=\"139.54,-3957.89 144.22,-3948.38 134.63,-3952.9 139.54,-3957.89\"/>\n",
       "</g>\n",
       "<!-- 8&#45;&gt;9 -->\n",
       "<g id=\"edge10\" class=\"edge\">\n",
       "<title>8&#45;&gt;9</title>\n",
       "<path fill=\"none\" stroke=\"black\" d=\"M229.36,-3983.53C221.15,-3974.94 211.58,-3964.93 202.73,-3955.67\"/>\n",
       "<polygon fill=\"black\" stroke=\"black\" points=\"205.35,-3953.35 195.91,-3948.54 200.29,-3958.19 205.35,-3953.35\"/>\n",
       "</g>\n",
       "<!-- 10 -->\n",
       "<g id=\"node11\" class=\"node\">\n",
       "<title>10</title>\n",
       "<polygon fill=\"#c1ffc1\" stroke=\"none\" points=\"328.12,-3866 142.12,-3866 142.12,-3820.5 328.12,-3820.5 328.12,-3866\"/>\n",
       "<polygon fill=\"none\" stroke=\"black\" points=\"142.12,-3820.5 142.12,-3866 206.12,-3866 206.12,-3820.5 142.12,-3820.5\"/>\n",
       "<text text-anchor=\"start\" x=\"147.12\" y=\"-3846.5\" font-family=\"Linux libertine\" font-size=\"10.00\">LayerNorm</text>\n",
       "<text text-anchor=\"start\" x=\"155.75\" y=\"-3833.75\" font-family=\"Linux libertine\" font-size=\"10.00\">depth:3</text>\n",
       "<polygon fill=\"none\" stroke=\"black\" points=\"206.12,-3843.25 206.12,-3866 253.62,-3866 253.62,-3843.25 206.12,-3843.25\"/>\n",
       "<text text-anchor=\"start\" x=\"216\" y=\"-3851.5\" font-family=\"Linux libertine\" font-size=\"10.00\">input:</text>\n",
       "<polygon fill=\"none\" stroke=\"black\" points=\"253.62,-3843.25 253.62,-3866 328.12,-3866 328.12,-3843.25 253.62,-3843.25\"/>\n",
       "<text text-anchor=\"start\" x=\"258.62\" y=\"-3851.5\" font-family=\"Linux libertine\" font-size=\"10.00\">(50, 144, 64) </text>\n",
       "<polygon fill=\"none\" stroke=\"black\" points=\"206.12,-3820.5 206.12,-3843.25 253.62,-3843.25 253.62,-3820.5 206.12,-3820.5\"/>\n",
       "<text text-anchor=\"start\" x=\"211.12\" y=\"-3828.75\" font-family=\"Linux libertine\" font-size=\"10.00\">output: </text>\n",
       "<polygon fill=\"none\" stroke=\"black\" points=\"253.62,-3820.5 253.62,-3843.25 328.12,-3843.25 328.12,-3820.5 253.62,-3820.5\"/>\n",
       "<text text-anchor=\"start\" x=\"258.62\" y=\"-3828.75\" font-family=\"Linux libertine\" font-size=\"10.00\">(50, 144, 64) </text>\n",
       "</g>\n",
       "<!-- 9&#45;&gt;10 -->\n",
       "<g id=\"edge11\" class=\"edge\">\n",
       "<title>9&#45;&gt;10</title>\n",
       "<path fill=\"none\" stroke=\"black\" d=\"M190.79,-3902.03C197.18,-3893.7 204.6,-3884.04 211.51,-3875.02\"/>\n",
       "<polygon fill=\"black\" stroke=\"black\" points=\"214.24,-3877.21 217.56,-3867.15 208.69,-3872.95 214.24,-3877.21\"/>\n",
       "</g>\n",
       "<!-- 13 -->\n",
       "<g id=\"node14\" class=\"node\">\n",
       "<title>13</title>\n",
       "<polygon fill=\"aliceblue\" stroke=\"none\" points=\"264.5,-3621.5 77.75,-3621.5 77.75,-3576 264.5,-3576 264.5,-3621.5\"/>\n",
       "<polygon fill=\"none\" stroke=\"black\" points=\"77.75,-3576 77.75,-3621.5 124.5,-3621.5 124.5,-3576 77.75,-3576\"/>\n",
       "<text text-anchor=\"start\" x=\"91.75\" y=\"-3602\" font-family=\"Linux libertine\" font-size=\"10.00\">mul</text>\n",
       "<text text-anchor=\"start\" x=\"82.75\" y=\"-3589.25\" font-family=\"Linux libertine\" font-size=\"10.00\">depth:3</text>\n",
       "<polygon fill=\"none\" stroke=\"black\" points=\"124.5,-3598.75 124.5,-3621.5 172,-3621.5 172,-3598.75 124.5,-3598.75\"/>\n",
       "<text text-anchor=\"start\" x=\"134.38\" y=\"-3607\" font-family=\"Linux libertine\" font-size=\"10.00\">input:</text>\n",
       "<polygon fill=\"none\" stroke=\"black\" points=\"172,-3598.75 172,-3621.5 264.5,-3621.5 264.5,-3598.75 172,-3598.75\"/>\n",
       "<text text-anchor=\"start\" x=\"177\" y=\"-3607\" font-family=\"Linux libertine\" font-size=\"10.00\">2 x (50, 144, 64) </text>\n",
       "<polygon fill=\"none\" stroke=\"black\" points=\"124.5,-3576 124.5,-3598.75 172,-3598.75 172,-3576 124.5,-3576\"/>\n",
       "<text text-anchor=\"start\" x=\"129.5\" y=\"-3584.25\" font-family=\"Linux libertine\" font-size=\"10.00\">output: </text>\n",
       "<polygon fill=\"none\" stroke=\"black\" points=\"172,-3576 172,-3598.75 264.5,-3598.75 264.5,-3576 172,-3576\"/>\n",
       "<text text-anchor=\"start\" x=\"186\" y=\"-3584.25\" font-family=\"Linux libertine\" font-size=\"10.00\">(50, 144, 64) </text>\n",
       "</g>\n",
       "<!-- 9&#45;&gt;13 -->\n",
       "<g id=\"edge12\" class=\"edge\">\n",
       "<title>9&#45;&gt;13</title>\n",
       "<path fill=\"none\" stroke=\"black\" d=\"M153.99,-3902.21C145.83,-3892.04 137.35,-3879.24 133.12,-3866 122.19,-3831.72 103.78,-3774.19 137.12,-3657.5 139.74,-3648.35 144.15,-3639.16 148.95,-3630.88\"/>\n",
       "<polygon fill=\"black\" stroke=\"black\" points=\"151.79,-3632.93 154.09,-3622.59 145.85,-3629.24 151.79,-3632.93\"/>\n",
       "</g>\n",
       "<!-- 11 -->\n",
       "<g id=\"node12\" class=\"node\">\n",
       "<title>11</title>\n",
       "<polygon fill=\"aliceblue\" stroke=\"none\" points=\"317.5,-3784.5 148.75,-3784.5 148.75,-3739 317.5,-3739 317.5,-3784.5\"/>\n",
       "<polygon fill=\"none\" stroke=\"black\" points=\"148.75,-3739 148.75,-3784.5 195.5,-3784.5 195.5,-3739 148.75,-3739\"/>\n",
       "<text text-anchor=\"start\" x=\"162.75\" y=\"-3765\" font-family=\"Linux libertine\" font-size=\"10.00\">mul</text>\n",
       "<text text-anchor=\"start\" x=\"153.75\" y=\"-3752.25\" font-family=\"Linux libertine\" font-size=\"10.00\">depth:3</text>\n",
       "<polygon fill=\"none\" stroke=\"black\" points=\"195.5,-3761.75 195.5,-3784.5 243,-3784.5 243,-3761.75 195.5,-3761.75\"/>\n",
       "<text text-anchor=\"start\" x=\"205.38\" y=\"-3770\" font-family=\"Linux libertine\" font-size=\"10.00\">input:</text>\n",
       "<polygon fill=\"none\" stroke=\"black\" points=\"243,-3761.75 243,-3784.5 317.5,-3784.5 317.5,-3761.75 243,-3761.75\"/>\n",
       "<text text-anchor=\"start\" x=\"248\" y=\"-3770\" font-family=\"Linux libertine\" font-size=\"10.00\">(50, 144, 64) </text>\n",
       "<polygon fill=\"none\" stroke=\"black\" points=\"195.5,-3739 195.5,-3761.75 243,-3761.75 243,-3739 195.5,-3739\"/>\n",
       "<text text-anchor=\"start\" x=\"200.5\" y=\"-3747.25\" font-family=\"Linux libertine\" font-size=\"10.00\">output: </text>\n",
       "<polygon fill=\"none\" stroke=\"black\" points=\"243,-3739 243,-3761.75 317.5,-3761.75 317.5,-3739 243,-3739\"/>\n",
       "<text text-anchor=\"start\" x=\"248\" y=\"-3747.25\" font-family=\"Linux libertine\" font-size=\"10.00\">(50, 144, 64) </text>\n",
       "</g>\n",
       "<!-- 10&#45;&gt;11 -->\n",
       "<g id=\"edge13\" class=\"edge\">\n",
       "<title>10&#45;&gt;11</title>\n",
       "<path fill=\"none\" stroke=\"black\" d=\"M234.58,-3820.53C234.39,-3812.9 234.17,-3804.15 233.96,-3795.81\"/>\n",
       "<polygon fill=\"black\" stroke=\"black\" points=\"237.46,-3795.87 233.71,-3785.96 230.46,-3796.05 237.46,-3795.87\"/>\n",
       "</g>\n",
       "<!-- 12 -->\n",
       "<g id=\"node13\" class=\"node\">\n",
       "<title>12</title>\n",
       "<polygon fill=\"aliceblue\" stroke=\"none\" points=\"316.62,-3703 145.62,-3703 145.62,-3657.5 316.62,-3657.5 316.62,-3703\"/>\n",
       "<polygon fill=\"none\" stroke=\"black\" points=\"145.62,-3657.5 145.62,-3703 194.62,-3703 194.62,-3657.5 145.62,-3657.5\"/>\n",
       "<text text-anchor=\"start\" x=\"150.62\" y=\"-3683.5\" font-family=\"Linux libertine\" font-size=\"10.00\">sigmoid</text>\n",
       "<text text-anchor=\"start\" x=\"151.75\" y=\"-3670.75\" font-family=\"Linux libertine\" font-size=\"10.00\">depth:3</text>\n",
       "<polygon fill=\"none\" stroke=\"black\" points=\"194.62,-3680.25 194.62,-3703 242.12,-3703 242.12,-3680.25 194.62,-3680.25\"/>\n",
       "<text text-anchor=\"start\" x=\"204.5\" y=\"-3688.5\" font-family=\"Linux libertine\" font-size=\"10.00\">input:</text>\n",
       "<polygon fill=\"none\" stroke=\"black\" points=\"242.12,-3680.25 242.12,-3703 316.62,-3703 316.62,-3680.25 242.12,-3680.25\"/>\n",
       "<text text-anchor=\"start\" x=\"247.12\" y=\"-3688.5\" font-family=\"Linux libertine\" font-size=\"10.00\">(50, 144, 64) </text>\n",
       "<polygon fill=\"none\" stroke=\"black\" points=\"194.62,-3657.5 194.62,-3680.25 242.12,-3680.25 242.12,-3657.5 194.62,-3657.5\"/>\n",
       "<text text-anchor=\"start\" x=\"199.62\" y=\"-3665.75\" font-family=\"Linux libertine\" font-size=\"10.00\">output: </text>\n",
       "<polygon fill=\"none\" stroke=\"black\" points=\"242.12,-3657.5 242.12,-3680.25 316.62,-3680.25 316.62,-3657.5 242.12,-3657.5\"/>\n",
       "<text text-anchor=\"start\" x=\"247.12\" y=\"-3665.75\" font-family=\"Linux libertine\" font-size=\"10.00\">(50, 144, 64) </text>\n",
       "</g>\n",
       "<!-- 11&#45;&gt;12 -->\n",
       "<g id=\"edge14\" class=\"edge\">\n",
       "<title>11&#45;&gt;12</title>\n",
       "<path fill=\"none\" stroke=\"black\" d=\"M232.58,-3739.03C232.39,-3731.4 232.17,-3722.65 231.96,-3714.31\"/>\n",
       "<polygon fill=\"black\" stroke=\"black\" points=\"235.46,-3714.37 231.71,-3704.46 228.46,-3714.55 235.46,-3714.37\"/>\n",
       "</g>\n",
       "<!-- 12&#45;&gt;13 -->\n",
       "<g id=\"edge15\" class=\"edge\">\n",
       "<title>12&#45;&gt;13</title>\n",
       "<path fill=\"none\" stroke=\"black\" d=\"M214.73,-3657.53C208.45,-3649.2 201.15,-3639.54 194.35,-3630.52\"/>\n",
       "<polygon fill=\"black\" stroke=\"black\" points=\"197.23,-3628.53 188.41,-3622.66 191.64,-3632.75 197.23,-3628.53\"/>\n",
       "</g>\n",
       "<!-- 14 -->\n",
       "<g id=\"node15\" class=\"node\">\n",
       "<title>14</title>\n",
       "<polygon fill=\"aliceblue\" stroke=\"none\" points=\"255.5,-3540 86.75,-3540 86.75,-3494.5 255.5,-3494.5 255.5,-3540\"/>\n",
       "<polygon fill=\"none\" stroke=\"black\" points=\"86.75,-3494.5 86.75,-3540 133.5,-3540 133.5,-3494.5 86.75,-3494.5\"/>\n",
       "<text text-anchor=\"start\" x=\"96.25\" y=\"-3520.5\" font-family=\"Linux libertine\" font-size=\"10.00\">mean</text>\n",
       "<text text-anchor=\"start\" x=\"91.75\" y=\"-3507.75\" font-family=\"Linux libertine\" font-size=\"10.00\">depth:3</text>\n",
       "<polygon fill=\"none\" stroke=\"black\" points=\"133.5,-3517.25 133.5,-3540 181,-3540 181,-3517.25 133.5,-3517.25\"/>\n",
       "<text text-anchor=\"start\" x=\"143.38\" y=\"-3525.5\" font-family=\"Linux libertine\" font-size=\"10.00\">input:</text>\n",
       "<polygon fill=\"none\" stroke=\"black\" points=\"181,-3517.25 181,-3540 255.5,-3540 255.5,-3517.25 181,-3517.25\"/>\n",
       "<text text-anchor=\"start\" x=\"186\" y=\"-3525.5\" font-family=\"Linux libertine\" font-size=\"10.00\">(50, 144, 64) </text>\n",
       "<polygon fill=\"none\" stroke=\"black\" points=\"133.5,-3494.5 133.5,-3517.25 181,-3517.25 181,-3494.5 133.5,-3494.5\"/>\n",
       "<text text-anchor=\"start\" x=\"138.5\" y=\"-3502.75\" font-family=\"Linux libertine\" font-size=\"10.00\">output: </text>\n",
       "<polygon fill=\"none\" stroke=\"black\" points=\"181,-3494.5 181,-3517.25 255.5,-3517.25 255.5,-3494.5 181,-3494.5\"/>\n",
       "<text text-anchor=\"start\" x=\"189\" y=\"-3502.75\" font-family=\"Linux libertine\" font-size=\"10.00\">(50, 144, 1) </text>\n",
       "</g>\n",
       "<!-- 13&#45;&gt;14 -->\n",
       "<g id=\"edge17\" class=\"edge\">\n",
       "<title>13&#45;&gt;14</title>\n",
       "<path fill=\"none\" stroke=\"black\" d=\"M171.12,-3576.03C171.12,-3568.4 171.12,-3559.65 171.12,-3551.31\"/>\n",
       "<polygon fill=\"black\" stroke=\"black\" points=\"174.63,-3551.46 171.13,-3541.46 167.63,-3551.46 174.63,-3551.46\"/>\n",
       "</g>\n",
       "<!-- 15 -->\n",
       "<g id=\"node16\" class=\"node\">\n",
       "<title>15</title>\n",
       "<polygon fill=\"aliceblue\" stroke=\"none\" points=\"454.5,-3540 273.75,-3540 273.75,-3494.5 454.5,-3494.5 454.5,-3540\"/>\n",
       "<polygon fill=\"none\" stroke=\"black\" points=\"273.75,-3494.5 273.75,-3540 320.5,-3540 320.5,-3494.5 273.75,-3494.5\"/>\n",
       "<text text-anchor=\"start\" x=\"286.25\" y=\"-3520.5\" font-family=\"Linux libertine\" font-size=\"10.00\">max</text>\n",
       "<text text-anchor=\"start\" x=\"278.75\" y=\"-3507.75\" font-family=\"Linux libertine\" font-size=\"10.00\">depth:3</text>\n",
       "<polygon fill=\"none\" stroke=\"black\" points=\"320.5,-3517.25 320.5,-3540 368,-3540 368,-3517.25 320.5,-3517.25\"/>\n",
       "<text text-anchor=\"start\" x=\"330.38\" y=\"-3525.5\" font-family=\"Linux libertine\" font-size=\"10.00\">input:</text>\n",
       "<polygon fill=\"none\" stroke=\"black\" points=\"368,-3517.25 368,-3540 454.5,-3540 454.5,-3517.25 368,-3517.25\"/>\n",
       "<text text-anchor=\"start\" x=\"379\" y=\"-3525.5\" font-family=\"Linux libertine\" font-size=\"10.00\">(50, 144, 64) </text>\n",
       "<polygon fill=\"none\" stroke=\"black\" points=\"320.5,-3494.5 320.5,-3517.25 368,-3517.25 368,-3494.5 320.5,-3494.5\"/>\n",
       "<text text-anchor=\"start\" x=\"325.5\" y=\"-3502.75\" font-family=\"Linux libertine\" font-size=\"10.00\">output: </text>\n",
       "<polygon fill=\"none\" stroke=\"black\" points=\"368,-3494.5 368,-3517.25 454.5,-3517.25 454.5,-3494.5 368,-3494.5\"/>\n",
       "<text text-anchor=\"start\" x=\"373\" y=\"-3502.75\" font-family=\"Linux libertine\" font-size=\"10.00\">2 x (50, 144, 1) </text>\n",
       "</g>\n",
       "<!-- 13&#45;&gt;15 -->\n",
       "<g id=\"edge18\" class=\"edge\">\n",
       "<title>13&#45;&gt;15</title>\n",
       "<path fill=\"none\" stroke=\"black\" d=\"M223.86,-3576.03C247.69,-3566.21 276.04,-3554.54 300.99,-3544.26\"/>\n",
       "<polygon fill=\"black\" stroke=\"black\" points=\"302.14,-3547.57 310.05,-3540.52 299.47,-3541.1 302.14,-3547.57\"/>\n",
       "</g>\n",
       "<!-- 21 -->\n",
       "<g id=\"node22\" class=\"node\">\n",
       "<title>21</title>\n",
       "<polygon fill=\"aliceblue\" stroke=\"none\" points=\"230.25,-3051 0,-3051 0,-3005.5 230.25,-3005.5 230.25,-3051\"/>\n",
       "<polygon fill=\"none\" stroke=\"black\" points=\"0,-3005.5 0,-3051 46.75,-3051 46.75,-3005.5 0,-3005.5\"/>\n",
       "<text text-anchor=\"start\" x=\"14\" y=\"-3031.5\" font-family=\"Linux libertine\" font-size=\"10.00\">mul</text>\n",
       "<text text-anchor=\"start\" x=\"5\" y=\"-3018.75\" font-family=\"Linux libertine\" font-size=\"10.00\">depth:2</text>\n",
       "<polygon fill=\"none\" stroke=\"black\" points=\"46.75,-3028.25 46.75,-3051 94.25,-3051 94.25,-3028.25 46.75,-3028.25\"/>\n",
       "<text text-anchor=\"start\" x=\"56.62\" y=\"-3036.5\" font-family=\"Linux libertine\" font-size=\"10.00\">input:</text>\n",
       "<polygon fill=\"none\" stroke=\"black\" points=\"94.25,-3028.25 94.25,-3051 230.25,-3051 230.25,-3028.25 94.25,-3028.25\"/>\n",
       "<text text-anchor=\"start\" x=\"99.25\" y=\"-3036.5\" font-family=\"Linux libertine\" font-size=\"10.00\">(50, 144, 64), (50, 144, 1) </text>\n",
       "<polygon fill=\"none\" stroke=\"black\" points=\"46.75,-3005.5 46.75,-3028.25 94.25,-3028.25 94.25,-3005.5 46.75,-3005.5\"/>\n",
       "<text text-anchor=\"start\" x=\"51.75\" y=\"-3013.75\" font-family=\"Linux libertine\" font-size=\"10.00\">output: </text>\n",
       "<polygon fill=\"none\" stroke=\"black\" points=\"94.25,-3005.5 94.25,-3028.25 230.25,-3028.25 230.25,-3005.5 94.25,-3005.5\"/>\n",
       "<text text-anchor=\"start\" x=\"130\" y=\"-3013.75\" font-family=\"Linux libertine\" font-size=\"10.00\">(50, 144, 64) </text>\n",
       "</g>\n",
       "<!-- 13&#45;&gt;21 -->\n",
       "<g id=\"edge16\" class=\"edge\">\n",
       "<title>13&#45;&gt;21</title>\n",
       "<path fill=\"none\" stroke=\"black\" d=\"M120.08,-3576.22C104.38,-3567.21 88.51,-3555.23 78.12,-3540 51.84,-3501.45 59.12,-3483.41 59.12,-3436.75 59.12,-3436.75 59.12,-3436.75 59.12,-3190.25 59.12,-3143.59 61,-3130.4 78.12,-3087 81.74,-3077.85 86.88,-3068.58 92.18,-3060.23\"/>\n",
       "<polygon fill=\"black\" stroke=\"black\" points=\"94.91,-3062.44 97.55,-3052.18 89.09,-3058.55 94.91,-3062.44\"/>\n",
       "</g>\n",
       "<!-- 16 -->\n",
       "<g id=\"node17\" class=\"node\">\n",
       "<title>16</title>\n",
       "<polygon fill=\"aliceblue\" stroke=\"none\" points=\"267.5,-3458.5 86.75,-3458.5 86.75,-3413 267.5,-3413 267.5,-3458.5\"/>\n",
       "<polygon fill=\"none\" stroke=\"black\" points=\"86.75,-3413 86.75,-3458.5 133.5,-3458.5 133.5,-3413 86.75,-3413\"/>\n",
       "<text text-anchor=\"start\" x=\"102.62\" y=\"-3439\" font-family=\"Linux libertine\" font-size=\"10.00\">cat</text>\n",
       "<text text-anchor=\"start\" x=\"91.75\" y=\"-3426.25\" font-family=\"Linux libertine\" font-size=\"10.00\">depth:3</text>\n",
       "<polygon fill=\"none\" stroke=\"black\" points=\"133.5,-3435.75 133.5,-3458.5 181,-3458.5 181,-3435.75 133.5,-3435.75\"/>\n",
       "<text text-anchor=\"start\" x=\"143.38\" y=\"-3444\" font-family=\"Linux libertine\" font-size=\"10.00\">input:</text>\n",
       "<polygon fill=\"none\" stroke=\"black\" points=\"181,-3435.75 181,-3458.5 267.5,-3458.5 267.5,-3435.75 181,-3435.75\"/>\n",
       "<text text-anchor=\"start\" x=\"186\" y=\"-3444\" font-family=\"Linux libertine\" font-size=\"10.00\">2 x (50, 144, 1) </text>\n",
       "<polygon fill=\"none\" stroke=\"black\" points=\"133.5,-3413 133.5,-3435.75 181,-3435.75 181,-3413 133.5,-3413\"/>\n",
       "<text text-anchor=\"start\" x=\"138.5\" y=\"-3421.25\" font-family=\"Linux libertine\" font-size=\"10.00\">output: </text>\n",
       "<polygon fill=\"none\" stroke=\"black\" points=\"181,-3413 181,-3435.75 267.5,-3435.75 267.5,-3413 181,-3413\"/>\n",
       "<text text-anchor=\"start\" x=\"195\" y=\"-3421.25\" font-family=\"Linux libertine\" font-size=\"10.00\">(50, 144, 2) </text>\n",
       "</g>\n",
       "<!-- 14&#45;&gt;16 -->\n",
       "<g id=\"edge19\" class=\"edge\">\n",
       "<title>14&#45;&gt;16</title>\n",
       "<path fill=\"none\" stroke=\"black\" d=\"M172.76,-3494.53C173.34,-3486.9 174,-3478.15 174.63,-3469.81\"/>\n",
       "<polygon fill=\"black\" stroke=\"black\" points=\"178.11,-3470.19 175.37,-3459.96 171.13,-3469.66 178.11,-3470.19\"/>\n",
       "</g>\n",
       "<!-- 15&#45;&gt;16 -->\n",
       "<g id=\"edge20\" class=\"edge\">\n",
       "<title>15&#45;&gt;16</title>\n",
       "<path fill=\"none\" stroke=\"black\" d=\"M313.03,-3494.53C290.04,-3484.75 262.72,-3473.14 238.62,-3462.89\"/>\n",
       "<polygon fill=\"black\" stroke=\"black\" points=\"240.13,-3459.73 229.55,-3459.04 237.39,-3466.17 240.13,-3459.73\"/>\n",
       "</g>\n",
       "<!-- 17 -->\n",
       "<g id=\"node18\" class=\"node\">\n",
       "<title>17</title>\n",
       "<polygon fill=\"aliceblue\" stroke=\"none\" points=\"257.75,-3377 90.5,-3377 90.5,-3331.5 257.75,-3331.5 257.75,-3377\"/>\n",
       "<polygon fill=\"none\" stroke=\"black\" points=\"90.5,-3331.5 90.5,-3377 141.75,-3377 141.75,-3331.5 90.5,-3331.5\"/>\n",
       "<text text-anchor=\"start\" x=\"95.5\" y=\"-3357.5\" font-family=\"Linux libertine\" font-size=\"10.00\">permute</text>\n",
       "<text text-anchor=\"start\" x=\"97.75\" y=\"-3344.75\" font-family=\"Linux libertine\" font-size=\"10.00\">depth:3</text>\n",
       "<polygon fill=\"none\" stroke=\"black\" points=\"141.75,-3354.25 141.75,-3377 189.25,-3377 189.25,-3354.25 141.75,-3354.25\"/>\n",
       "<text text-anchor=\"start\" x=\"151.62\" y=\"-3362.5\" font-family=\"Linux libertine\" font-size=\"10.00\">input:</text>\n",
       "<polygon fill=\"none\" stroke=\"black\" points=\"189.25,-3354.25 189.25,-3377 257.75,-3377 257.75,-3354.25 189.25,-3354.25\"/>\n",
       "<text text-anchor=\"start\" x=\"194.25\" y=\"-3362.5\" font-family=\"Linux libertine\" font-size=\"10.00\">(50, 144, 2) </text>\n",
       "<polygon fill=\"none\" stroke=\"black\" points=\"141.75,-3331.5 141.75,-3354.25 189.25,-3354.25 189.25,-3331.5 141.75,-3331.5\"/>\n",
       "<text text-anchor=\"start\" x=\"146.75\" y=\"-3339.75\" font-family=\"Linux libertine\" font-size=\"10.00\">output: </text>\n",
       "<polygon fill=\"none\" stroke=\"black\" points=\"189.25,-3331.5 189.25,-3354.25 257.75,-3354.25 257.75,-3331.5 189.25,-3331.5\"/>\n",
       "<text text-anchor=\"start\" x=\"194.25\" y=\"-3339.75\" font-family=\"Linux libertine\" font-size=\"10.00\">(50, 2, 144) </text>\n",
       "</g>\n",
       "<!-- 16&#45;&gt;17 -->\n",
       "<g id=\"edge21\" class=\"edge\">\n",
       "<title>16&#45;&gt;17</title>\n",
       "<path fill=\"none\" stroke=\"black\" d=\"M176.31,-3413.03C176.02,-3405.4 175.69,-3396.65 175.37,-3388.31\"/>\n",
       "<polygon fill=\"black\" stroke=\"black\" points=\"178.88,-3388.32 175,-3378.46 171.88,-3388.58 178.88,-3388.32\"/>\n",
       "</g>\n",
       "<!-- 18 -->\n",
       "<g id=\"node19\" class=\"node\">\n",
       "<title>18</title>\n",
       "<polygon fill=\"#c1ffc1\" stroke=\"none\" points=\"254.5,-3295.5 91.75,-3295.5 91.75,-3250 254.5,-3250 254.5,-3295.5\"/>\n",
       "<polygon fill=\"none\" stroke=\"black\" points=\"91.75,-3250 91.75,-3295.5 138.5,-3295.5 138.5,-3250 91.75,-3250\"/>\n",
       "<text text-anchor=\"start\" x=\"96.75\" y=\"-3276\" font-family=\"Linux libertine\" font-size=\"10.00\">Conv1d</text>\n",
       "<text text-anchor=\"start\" x=\"96.75\" y=\"-3263.25\" font-family=\"Linux libertine\" font-size=\"10.00\">depth:3</text>\n",
       "<polygon fill=\"none\" stroke=\"black\" points=\"138.5,-3272.75 138.5,-3295.5 186,-3295.5 186,-3272.75 138.5,-3272.75\"/>\n",
       "<text text-anchor=\"start\" x=\"148.38\" y=\"-3281\" font-family=\"Linux libertine\" font-size=\"10.00\">input:</text>\n",
       "<polygon fill=\"none\" stroke=\"black\" points=\"186,-3272.75 186,-3295.5 254.5,-3295.5 254.5,-3272.75 186,-3272.75\"/>\n",
       "<text text-anchor=\"start\" x=\"191\" y=\"-3281\" font-family=\"Linux libertine\" font-size=\"10.00\">(50, 2, 144) </text>\n",
       "<polygon fill=\"none\" stroke=\"black\" points=\"138.5,-3250 138.5,-3272.75 186,-3272.75 186,-3250 138.5,-3250\"/>\n",
       "<text text-anchor=\"start\" x=\"143.5\" y=\"-3258.25\" font-family=\"Linux libertine\" font-size=\"10.00\">output: </text>\n",
       "<polygon fill=\"none\" stroke=\"black\" points=\"186,-3250 186,-3272.75 254.5,-3272.75 254.5,-3250 186,-3250\"/>\n",
       "<text text-anchor=\"start\" x=\"191\" y=\"-3258.25\" font-family=\"Linux libertine\" font-size=\"10.00\">(50, 1, 144) </text>\n",
       "</g>\n",
       "<!-- 17&#45;&gt;18 -->\n",
       "<g id=\"edge22\" class=\"edge\">\n",
       "<title>17&#45;&gt;18</title>\n",
       "<path fill=\"none\" stroke=\"black\" d=\"M173.85,-3331.53C173.76,-3323.9 173.65,-3315.15 173.54,-3306.81\"/>\n",
       "<polygon fill=\"black\" stroke=\"black\" points=\"177.04,-3306.92 173.42,-3296.96 170.04,-3307 177.04,-3306.92\"/>\n",
       "</g>\n",
       "<!-- 19 -->\n",
       "<g id=\"node20\" class=\"node\">\n",
       "<title>19</title>\n",
       "<polygon fill=\"#c1ffc1\" stroke=\"none\" points=\"255,-3214 89.25,-3214 89.25,-3168.5 255,-3168.5 255,-3214\"/>\n",
       "<polygon fill=\"none\" stroke=\"black\" points=\"89.25,-3168.5 89.25,-3214 139,-3214 139,-3168.5 89.25,-3168.5\"/>\n",
       "<text text-anchor=\"start\" x=\"94.25\" y=\"-3194.5\" font-family=\"Linux libertine\" font-size=\"10.00\">Sigmoid</text>\n",
       "<text text-anchor=\"start\" x=\"95.75\" y=\"-3181.75\" font-family=\"Linux libertine\" font-size=\"10.00\">depth:3</text>\n",
       "<polygon fill=\"none\" stroke=\"black\" points=\"139,-3191.25 139,-3214 186.5,-3214 186.5,-3191.25 139,-3191.25\"/>\n",
       "<text text-anchor=\"start\" x=\"148.88\" y=\"-3199.5\" font-family=\"Linux libertine\" font-size=\"10.00\">input:</text>\n",
       "<polygon fill=\"none\" stroke=\"black\" points=\"186.5,-3191.25 186.5,-3214 255,-3214 255,-3191.25 186.5,-3191.25\"/>\n",
       "<text text-anchor=\"start\" x=\"191.5\" y=\"-3199.5\" font-family=\"Linux libertine\" font-size=\"10.00\">(50, 1, 144) </text>\n",
       "<polygon fill=\"none\" stroke=\"black\" points=\"139,-3168.5 139,-3191.25 186.5,-3191.25 186.5,-3168.5 139,-3168.5\"/>\n",
       "<text text-anchor=\"start\" x=\"144\" y=\"-3176.75\" font-family=\"Linux libertine\" font-size=\"10.00\">output: </text>\n",
       "<polygon fill=\"none\" stroke=\"black\" points=\"186.5,-3168.5 186.5,-3191.25 255,-3191.25 255,-3168.5 186.5,-3168.5\"/>\n",
       "<text text-anchor=\"start\" x=\"191.5\" y=\"-3176.75\" font-family=\"Linux libertine\" font-size=\"10.00\">(50, 1, 144) </text>\n",
       "</g>\n",
       "<!-- 18&#45;&gt;19 -->\n",
       "<g id=\"edge23\" class=\"edge\">\n",
       "<title>18&#45;&gt;19</title>\n",
       "<path fill=\"none\" stroke=\"black\" d=\"M172.85,-3250.03C172.76,-3242.4 172.65,-3233.65 172.54,-3225.31\"/>\n",
       "<polygon fill=\"black\" stroke=\"black\" points=\"176.04,-3225.42 172.42,-3215.46 169.04,-3225.5 176.04,-3225.42\"/>\n",
       "</g>\n",
       "<!-- 20 -->\n",
       "<g id=\"node21\" class=\"node\">\n",
       "<title>20</title>\n",
       "<polygon fill=\"aliceblue\" stroke=\"none\" points=\"254.75,-3132.5 87.5,-3132.5 87.5,-3087 254.75,-3087 254.75,-3132.5\"/>\n",
       "<polygon fill=\"none\" stroke=\"black\" points=\"87.5,-3087 87.5,-3132.5 138.75,-3132.5 138.75,-3087 87.5,-3087\"/>\n",
       "<text text-anchor=\"start\" x=\"92.5\" y=\"-3113\" font-family=\"Linux libertine\" font-size=\"10.00\">permute</text>\n",
       "<text text-anchor=\"start\" x=\"94.75\" y=\"-3100.25\" font-family=\"Linux libertine\" font-size=\"10.00\">depth:3</text>\n",
       "<polygon fill=\"none\" stroke=\"black\" points=\"138.75,-3109.75 138.75,-3132.5 186.25,-3132.5 186.25,-3109.75 138.75,-3109.75\"/>\n",
       "<text text-anchor=\"start\" x=\"148.62\" y=\"-3118\" font-family=\"Linux libertine\" font-size=\"10.00\">input:</text>\n",
       "<polygon fill=\"none\" stroke=\"black\" points=\"186.25,-3109.75 186.25,-3132.5 254.75,-3132.5 254.75,-3109.75 186.25,-3109.75\"/>\n",
       "<text text-anchor=\"start\" x=\"191.25\" y=\"-3118\" font-family=\"Linux libertine\" font-size=\"10.00\">(50, 1, 144) </text>\n",
       "<polygon fill=\"none\" stroke=\"black\" points=\"138.75,-3087 138.75,-3109.75 186.25,-3109.75 186.25,-3087 138.75,-3087\"/>\n",
       "<text text-anchor=\"start\" x=\"143.75\" y=\"-3095.25\" font-family=\"Linux libertine\" font-size=\"10.00\">output: </text>\n",
       "<polygon fill=\"none\" stroke=\"black\" points=\"186.25,-3087 186.25,-3109.75 254.75,-3109.75 254.75,-3087 186.25,-3087\"/>\n",
       "<text text-anchor=\"start\" x=\"191.25\" y=\"-3095.25\" font-family=\"Linux libertine\" font-size=\"10.00\">(50, 144, 1) </text>\n",
       "</g>\n",
       "<!-- 19&#45;&gt;20 -->\n",
       "<g id=\"edge24\" class=\"edge\">\n",
       "<title>19&#45;&gt;20</title>\n",
       "<path fill=\"none\" stroke=\"black\" d=\"M171.85,-3168.53C171.76,-3160.9 171.65,-3152.15 171.54,-3143.81\"/>\n",
       "<polygon fill=\"black\" stroke=\"black\" points=\"175.04,-3143.92 171.42,-3133.96 168.04,-3144 175.04,-3143.92\"/>\n",
       "</g>\n",
       "<!-- 20&#45;&gt;21 -->\n",
       "<g id=\"edge25\" class=\"edge\">\n",
       "<title>20&#45;&gt;21</title>\n",
       "<path fill=\"none\" stroke=\"black\" d=\"M155.82,-3087.03C150.02,-3078.79 143.29,-3069.24 137,-3060.31\"/>\n",
       "<polygon fill=\"black\" stroke=\"black\" points=\"139.9,-3058.34 131.28,-3052.18 134.18,-3062.38 139.9,-3058.34\"/>\n",
       "</g>\n",
       "<!-- 22 -->\n",
       "<g id=\"node23\" class=\"node\">\n",
       "<title>22</title>\n",
       "<polygon fill=\"#c1ffc1\" stroke=\"none\" points=\"297.12,-2969.5 111.12,-2969.5 111.12,-2924 297.12,-2924 297.12,-2969.5\"/>\n",
       "<polygon fill=\"none\" stroke=\"black\" points=\"111.12,-2924 111.12,-2969.5 175.12,-2969.5 175.12,-2924 111.12,-2924\"/>\n",
       "<text text-anchor=\"start\" x=\"116.12\" y=\"-2950\" font-family=\"Linux libertine\" font-size=\"10.00\">LayerNorm</text>\n",
       "<text text-anchor=\"start\" x=\"124.75\" y=\"-2937.25\" font-family=\"Linux libertine\" font-size=\"10.00\">depth:3</text>\n",
       "<polygon fill=\"none\" stroke=\"black\" points=\"175.12,-2946.75 175.12,-2969.5 222.62,-2969.5 222.62,-2946.75 175.12,-2946.75\"/>\n",
       "<text text-anchor=\"start\" x=\"185\" y=\"-2955\" font-family=\"Linux libertine\" font-size=\"10.00\">input:</text>\n",
       "<polygon fill=\"none\" stroke=\"black\" points=\"222.62,-2946.75 222.62,-2969.5 297.12,-2969.5 297.12,-2946.75 222.62,-2946.75\"/>\n",
       "<text text-anchor=\"start\" x=\"227.62\" y=\"-2955\" font-family=\"Linux libertine\" font-size=\"10.00\">(50, 144, 64) </text>\n",
       "<polygon fill=\"none\" stroke=\"black\" points=\"175.12,-2924 175.12,-2946.75 222.62,-2946.75 222.62,-2924 175.12,-2924\"/>\n",
       "<text text-anchor=\"start\" x=\"180.12\" y=\"-2932.25\" font-family=\"Linux libertine\" font-size=\"10.00\">output: </text>\n",
       "<polygon fill=\"none\" stroke=\"black\" points=\"222.62,-2924 222.62,-2946.75 297.12,-2946.75 297.12,-2924 222.62,-2924\"/>\n",
       "<text text-anchor=\"start\" x=\"227.62\" y=\"-2932.25\" font-family=\"Linux libertine\" font-size=\"10.00\">(50, 144, 64) </text>\n",
       "</g>\n",
       "<!-- 21&#45;&gt;22 -->\n",
       "<g id=\"edge26\" class=\"edge\">\n",
       "<title>21&#45;&gt;22</title>\n",
       "<path fill=\"none\" stroke=\"black\" d=\"M139.44,-3005.53C149.26,-2996.76 160.73,-2986.52 171.26,-2977.1\"/>\n",
       "<polygon fill=\"black\" stroke=\"black\" points=\"173.58,-2979.73 178.71,-2970.46 168.92,-2974.51 173.58,-2979.73\"/>\n",
       "</g>\n",
       "<!-- 24 -->\n",
       "<g id=\"node25\" class=\"node\">\n",
       "<title>24</title>\n",
       "<polygon fill=\"aliceblue\" stroke=\"none\" points=\"237.5,-2806.5 50.75,-2806.5 50.75,-2761 237.5,-2761 237.5,-2806.5\"/>\n",
       "<polygon fill=\"none\" stroke=\"black\" points=\"50.75,-2761 50.75,-2806.5 97.5,-2806.5 97.5,-2761 50.75,-2761\"/>\n",
       "<text text-anchor=\"start\" x=\"65.12\" y=\"-2787\" font-family=\"Linux libertine\" font-size=\"10.00\">add</text>\n",
       "<text text-anchor=\"start\" x=\"55.75\" y=\"-2774.25\" font-family=\"Linux libertine\" font-size=\"10.00\">depth:3</text>\n",
       "<polygon fill=\"none\" stroke=\"black\" points=\"97.5,-2783.75 97.5,-2806.5 145,-2806.5 145,-2783.75 97.5,-2783.75\"/>\n",
       "<text text-anchor=\"start\" x=\"107.38\" y=\"-2792\" font-family=\"Linux libertine\" font-size=\"10.00\">input:</text>\n",
       "<polygon fill=\"none\" stroke=\"black\" points=\"145,-2783.75 145,-2806.5 237.5,-2806.5 237.5,-2783.75 145,-2783.75\"/>\n",
       "<text text-anchor=\"start\" x=\"150\" y=\"-2792\" font-family=\"Linux libertine\" font-size=\"10.00\">2 x (50, 144, 64) </text>\n",
       "<polygon fill=\"none\" stroke=\"black\" points=\"97.5,-2761 97.5,-2783.75 145,-2783.75 145,-2761 97.5,-2761\"/>\n",
       "<text text-anchor=\"start\" x=\"102.5\" y=\"-2769.25\" font-family=\"Linux libertine\" font-size=\"10.00\">output: </text>\n",
       "<polygon fill=\"none\" stroke=\"black\" points=\"145,-2761 145,-2783.75 237.5,-2783.75 237.5,-2761 145,-2761\"/>\n",
       "<text text-anchor=\"start\" x=\"159\" y=\"-2769.25\" font-family=\"Linux libertine\" font-size=\"10.00\">(50, 144, 64) </text>\n",
       "</g>\n",
       "<!-- 21&#45;&gt;24 -->\n",
       "<g id=\"edge27\" class=\"edge\">\n",
       "<title>21&#45;&gt;24</title>\n",
       "<path fill=\"none\" stroke=\"black\" d=\"M101.76,-3005.76C81.52,-2970.26 48.07,-2897.78 74.12,-2842.5 79.42,-2831.26 88.1,-2821.47 97.57,-2813.29\"/>\n",
       "<polygon fill=\"black\" stroke=\"black\" points=\"99.59,-2816.16 105.23,-2807.19 95.23,-2810.68 99.59,-2816.16\"/>\n",
       "</g>\n",
       "<!-- 23 -->\n",
       "<g id=\"node24\" class=\"node\">\n",
       "<title>23</title>\n",
       "<polygon fill=\"#c1ffc1\" stroke=\"none\" points=\"382.75,-2888 83.5,-2888 83.5,-2842.5 382.75,-2842.5 382.75,-2888\"/>\n",
       "<polygon fill=\"none\" stroke=\"black\" points=\"83.5,-2842.5 83.5,-2888 187.25,-2888 187.25,-2842.5 83.5,-2842.5\"/>\n",
       "<text text-anchor=\"start\" x=\"88.5\" y=\"-2868.5\" font-family=\"Linux libertine\" font-size=\"10.00\">MultiheadAttention</text>\n",
       "<text text-anchor=\"start\" x=\"117\" y=\"-2855.75\" font-family=\"Linux libertine\" font-size=\"10.00\">depth:3</text>\n",
       "<polygon fill=\"none\" stroke=\"black\" points=\"187.25,-2865.25 187.25,-2888 234.75,-2888 234.75,-2865.25 187.25,-2865.25\"/>\n",
       "<text text-anchor=\"start\" x=\"197.12\" y=\"-2873.5\" font-family=\"Linux libertine\" font-size=\"10.00\">input:</text>\n",
       "<polygon fill=\"none\" stroke=\"black\" points=\"234.75,-2865.25 234.75,-2888 382.75,-2888 382.75,-2865.25 234.75,-2865.25\"/>\n",
       "<text text-anchor=\"start\" x=\"267.5\" y=\"-2873.5\" font-family=\"Linux libertine\" font-size=\"10.00\">3 x (50, 144, 64) </text>\n",
       "<polygon fill=\"none\" stroke=\"black\" points=\"187.25,-2842.5 187.25,-2865.25 234.75,-2865.25 234.75,-2842.5 187.25,-2842.5\"/>\n",
       "<text text-anchor=\"start\" x=\"192.25\" y=\"-2850.75\" font-family=\"Linux libertine\" font-size=\"10.00\">output: </text>\n",
       "<polygon fill=\"none\" stroke=\"black\" points=\"234.75,-2842.5 234.75,-2865.25 382.75,-2865.25 382.75,-2842.5 234.75,-2842.5\"/>\n",
       "<text text-anchor=\"start\" x=\"239.75\" y=\"-2850.75\" font-family=\"Linux libertine\" font-size=\"10.00\">(50, 144, 64), (50, 144, 144) </text>\n",
       "</g>\n",
       "<!-- 22&#45;&gt;23 -->\n",
       "<g id=\"edge28\" class=\"edge\">\n",
       "<title>22&#45;&gt;23</title>\n",
       "<path fill=\"none\" stroke=\"black\" d=\"M212.05,-2924.03C214.89,-2916.23 218.17,-2907.25 221.27,-2898.74\"/>\n",
       "<polygon fill=\"black\" stroke=\"black\" points=\"224.55,-2899.96 224.69,-2889.37 217.98,-2897.56 224.55,-2899.96\"/>\n",
       "</g>\n",
       "<!-- 23&#45;&gt;24 -->\n",
       "<g id=\"edge29\" class=\"edge\">\n",
       "<title>23&#45;&gt;24</title>\n",
       "<path fill=\"none\" stroke=\"black\" d=\"M208.81,-2842.53C198.99,-2833.76 187.52,-2823.52 176.99,-2814.1\"/>\n",
       "<polygon fill=\"black\" stroke=\"black\" points=\"179.33,-2811.51 169.54,-2807.46 174.67,-2816.73 179.33,-2811.51\"/>\n",
       "</g>\n",
       "<!-- 25 -->\n",
       "<g id=\"node26\" class=\"node\">\n",
       "<title>25</title>\n",
       "<polygon fill=\"#c1ffc1\" stroke=\"none\" points=\"298.12,-2725 112.12,-2725 112.12,-2679.5 298.12,-2679.5 298.12,-2725\"/>\n",
       "<polygon fill=\"none\" stroke=\"black\" points=\"112.12,-2679.5 112.12,-2725 176.12,-2725 176.12,-2679.5 112.12,-2679.5\"/>\n",
       "<text text-anchor=\"start\" x=\"117.12\" y=\"-2705.5\" font-family=\"Linux libertine\" font-size=\"10.00\">LayerNorm</text>\n",
       "<text text-anchor=\"start\" x=\"125.75\" y=\"-2692.75\" font-family=\"Linux libertine\" font-size=\"10.00\">depth:3</text>\n",
       "<polygon fill=\"none\" stroke=\"black\" points=\"176.12,-2702.25 176.12,-2725 223.62,-2725 223.62,-2702.25 176.12,-2702.25\"/>\n",
       "<text text-anchor=\"start\" x=\"186\" y=\"-2710.5\" font-family=\"Linux libertine\" font-size=\"10.00\">input:</text>\n",
       "<polygon fill=\"none\" stroke=\"black\" points=\"223.62,-2702.25 223.62,-2725 298.12,-2725 298.12,-2702.25 223.62,-2702.25\"/>\n",
       "<text text-anchor=\"start\" x=\"228.62\" y=\"-2710.5\" font-family=\"Linux libertine\" font-size=\"10.00\">(50, 144, 64) </text>\n",
       "<polygon fill=\"none\" stroke=\"black\" points=\"176.12,-2679.5 176.12,-2702.25 223.62,-2702.25 223.62,-2679.5 176.12,-2679.5\"/>\n",
       "<text text-anchor=\"start\" x=\"181.12\" y=\"-2687.75\" font-family=\"Linux libertine\" font-size=\"10.00\">output: </text>\n",
       "<polygon fill=\"none\" stroke=\"black\" points=\"223.62,-2679.5 223.62,-2702.25 298.12,-2702.25 298.12,-2679.5 223.62,-2679.5\"/>\n",
       "<text text-anchor=\"start\" x=\"228.62\" y=\"-2687.75\" font-family=\"Linux libertine\" font-size=\"10.00\">(50, 144, 64) </text>\n",
       "</g>\n",
       "<!-- 24&#45;&gt;25 -->\n",
       "<g id=\"edge30\" class=\"edge\">\n",
       "<title>24&#45;&gt;25</title>\n",
       "<path fill=\"none\" stroke=\"black\" d=\"M160.79,-2761.03C167.18,-2752.7 174.6,-2743.04 181.51,-2734.02\"/>\n",
       "<polygon fill=\"black\" stroke=\"black\" points=\"184.24,-2736.21 187.56,-2726.15 178.69,-2731.95 184.24,-2736.21\"/>\n",
       "</g>\n",
       "<!-- 29 -->\n",
       "<g id=\"node30\" class=\"node\">\n",
       "<title>29</title>\n",
       "<polygon fill=\"aliceblue\" stroke=\"none\" points=\"233.5,-2399 46.75,-2399 46.75,-2353.5 233.5,-2353.5 233.5,-2399\"/>\n",
       "<polygon fill=\"none\" stroke=\"black\" points=\"46.75,-2353.5 46.75,-2399 93.5,-2399 93.5,-2353.5 46.75,-2353.5\"/>\n",
       "<text text-anchor=\"start\" x=\"61.12\" y=\"-2379.5\" font-family=\"Linux libertine\" font-size=\"10.00\">add</text>\n",
       "<text text-anchor=\"start\" x=\"51.75\" y=\"-2366.75\" font-family=\"Linux libertine\" font-size=\"10.00\">depth:3</text>\n",
       "<polygon fill=\"none\" stroke=\"black\" points=\"93.5,-2376.25 93.5,-2399 141,-2399 141,-2376.25 93.5,-2376.25\"/>\n",
       "<text text-anchor=\"start\" x=\"103.38\" y=\"-2384.5\" font-family=\"Linux libertine\" font-size=\"10.00\">input:</text>\n",
       "<polygon fill=\"none\" stroke=\"black\" points=\"141,-2376.25 141,-2399 233.5,-2399 233.5,-2376.25 141,-2376.25\"/>\n",
       "<text text-anchor=\"start\" x=\"146\" y=\"-2384.5\" font-family=\"Linux libertine\" font-size=\"10.00\">2 x (50, 144, 64) </text>\n",
       "<polygon fill=\"none\" stroke=\"black\" points=\"93.5,-2353.5 93.5,-2376.25 141,-2376.25 141,-2353.5 93.5,-2353.5\"/>\n",
       "<text text-anchor=\"start\" x=\"98.5\" y=\"-2361.75\" font-family=\"Linux libertine\" font-size=\"10.00\">output: </text>\n",
       "<polygon fill=\"none\" stroke=\"black\" points=\"141,-2353.5 141,-2376.25 233.5,-2376.25 233.5,-2353.5 141,-2353.5\"/>\n",
       "<text text-anchor=\"start\" x=\"155\" y=\"-2361.75\" font-family=\"Linux libertine\" font-size=\"10.00\">(50, 144, 64) </text>\n",
       "</g>\n",
       "<!-- 24&#45;&gt;29 -->\n",
       "<g id=\"edge31\" class=\"edge\">\n",
       "<title>24&#45;&gt;29</title>\n",
       "<path fill=\"none\" stroke=\"black\" d=\"M125.31,-2761.08C117.31,-2750.78 108.58,-2737.91 103.12,-2725 84.97,-2682.02 84.12,-2668.41 84.12,-2621.75 84.12,-2621.75 84.12,-2621.75 84.12,-2538.25 84.12,-2491.51 87.03,-2478.5 104.12,-2435 107.69,-2425.93 112.69,-2416.71 117.84,-2408.38\"/>\n",
       "<polygon fill=\"black\" stroke=\"black\" points=\"120.77,-2410.29 123.27,-2400 114.9,-2406.48 120.77,-2410.29\"/>\n",
       "</g>\n",
       "<!-- 26 -->\n",
       "<g id=\"node27\" class=\"node\">\n",
       "<title>26</title>\n",
       "<polygon fill=\"#c1ffc1\" stroke=\"none\" points=\"287.5,-2643.5 118.75,-2643.5 118.75,-2598 287.5,-2598 287.5,-2643.5\"/>\n",
       "<polygon fill=\"none\" stroke=\"black\" points=\"118.75,-2598 118.75,-2643.5 165.5,-2643.5 165.5,-2598 118.75,-2598\"/>\n",
       "<text text-anchor=\"start\" x=\"127.12\" y=\"-2624\" font-family=\"Linux libertine\" font-size=\"10.00\">Linear</text>\n",
       "<text text-anchor=\"start\" x=\"123.75\" y=\"-2611.25\" font-family=\"Linux libertine\" font-size=\"10.00\">depth:3</text>\n",
       "<polygon fill=\"none\" stroke=\"black\" points=\"165.5,-2620.75 165.5,-2643.5 213,-2643.5 213,-2620.75 165.5,-2620.75\"/>\n",
       "<text text-anchor=\"start\" x=\"175.38\" y=\"-2629\" font-family=\"Linux libertine\" font-size=\"10.00\">input:</text>\n",
       "<polygon fill=\"none\" stroke=\"black\" points=\"213,-2620.75 213,-2643.5 287.5,-2643.5 287.5,-2620.75 213,-2620.75\"/>\n",
       "<text text-anchor=\"start\" x=\"218\" y=\"-2629\" font-family=\"Linux libertine\" font-size=\"10.00\">(50, 144, 64) </text>\n",
       "<polygon fill=\"none\" stroke=\"black\" points=\"165.5,-2598 165.5,-2620.75 213,-2620.75 213,-2598 165.5,-2598\"/>\n",
       "<text text-anchor=\"start\" x=\"170.5\" y=\"-2606.25\" font-family=\"Linux libertine\" font-size=\"10.00\">output: </text>\n",
       "<polygon fill=\"none\" stroke=\"black\" points=\"213,-2598 213,-2620.75 287.5,-2620.75 287.5,-2598 213,-2598\"/>\n",
       "<text text-anchor=\"start\" x=\"218\" y=\"-2606.25\" font-family=\"Linux libertine\" font-size=\"10.00\">(50, 144, 64) </text>\n",
       "</g>\n",
       "<!-- 25&#45;&gt;26 -->\n",
       "<g id=\"edge32\" class=\"edge\">\n",
       "<title>25&#45;&gt;26</title>\n",
       "<path fill=\"none\" stroke=\"black\" d=\"M204.58,-2679.53C204.39,-2671.9 204.17,-2663.15 203.96,-2654.81\"/>\n",
       "<polygon fill=\"black\" stroke=\"black\" points=\"207.46,-2654.87 203.71,-2644.96 200.46,-2655.05 207.46,-2654.87\"/>\n",
       "</g>\n",
       "<!-- 27 -->\n",
       "<g id=\"node28\" class=\"node\">\n",
       "<title>27</title>\n",
       "<polygon fill=\"#c1ffc1\" stroke=\"none\" points=\"286.62,-2562 115.62,-2562 115.62,-2516.5 286.62,-2516.5 286.62,-2562\"/>\n",
       "<polygon fill=\"none\" stroke=\"black\" points=\"115.62,-2516.5 115.62,-2562 164.62,-2562 164.62,-2516.5 115.62,-2516.5\"/>\n",
       "<text text-anchor=\"start\" x=\"120.62\" y=\"-2542.5\" font-family=\"Linux libertine\" font-size=\"10.00\">Dropout</text>\n",
       "<text text-anchor=\"start\" x=\"121.75\" y=\"-2529.75\" font-family=\"Linux libertine\" font-size=\"10.00\">depth:3</text>\n",
       "<polygon fill=\"none\" stroke=\"black\" points=\"164.62,-2539.25 164.62,-2562 212.12,-2562 212.12,-2539.25 164.62,-2539.25\"/>\n",
       "<text text-anchor=\"start\" x=\"174.5\" y=\"-2547.5\" font-family=\"Linux libertine\" font-size=\"10.00\">input:</text>\n",
       "<polygon fill=\"none\" stroke=\"black\" points=\"212.12,-2539.25 212.12,-2562 286.62,-2562 286.62,-2539.25 212.12,-2539.25\"/>\n",
       "<text text-anchor=\"start\" x=\"217.12\" y=\"-2547.5\" font-family=\"Linux libertine\" font-size=\"10.00\">(50, 144, 64) </text>\n",
       "<polygon fill=\"none\" stroke=\"black\" points=\"164.62,-2516.5 164.62,-2539.25 212.12,-2539.25 212.12,-2516.5 164.62,-2516.5\"/>\n",
       "<text text-anchor=\"start\" x=\"169.62\" y=\"-2524.75\" font-family=\"Linux libertine\" font-size=\"10.00\">output: </text>\n",
       "<polygon fill=\"none\" stroke=\"black\" points=\"212.12,-2516.5 212.12,-2539.25 286.62,-2539.25 286.62,-2516.5 212.12,-2516.5\"/>\n",
       "<text text-anchor=\"start\" x=\"217.12\" y=\"-2524.75\" font-family=\"Linux libertine\" font-size=\"10.00\">(50, 144, 64) </text>\n",
       "</g>\n",
       "<!-- 26&#45;&gt;27 -->\n",
       "<g id=\"edge33\" class=\"edge\">\n",
       "<title>26&#45;&gt;27</title>\n",
       "<path fill=\"none\" stroke=\"black\" d=\"M202.58,-2598.03C202.39,-2590.4 202.17,-2581.65 201.96,-2573.31\"/>\n",
       "<polygon fill=\"black\" stroke=\"black\" points=\"205.46,-2573.37 201.71,-2563.46 198.46,-2573.55 205.46,-2573.37\"/>\n",
       "</g>\n",
       "<!-- 28 -->\n",
       "<g id=\"node29\" class=\"node\">\n",
       "<title>28</title>\n",
       "<polygon fill=\"#c1ffc1\" stroke=\"none\" points=\"281.5,-2480.5 112.75,-2480.5 112.75,-2435 281.5,-2435 281.5,-2480.5\"/>\n",
       "<polygon fill=\"none\" stroke=\"black\" points=\"112.75,-2435 112.75,-2480.5 159.5,-2480.5 159.5,-2435 112.75,-2435\"/>\n",
       "<text text-anchor=\"start\" x=\"123\" y=\"-2461\" font-family=\"Linux libertine\" font-size=\"10.00\">GELU</text>\n",
       "<text text-anchor=\"start\" x=\"117.75\" y=\"-2448.25\" font-family=\"Linux libertine\" font-size=\"10.00\">depth:3</text>\n",
       "<polygon fill=\"none\" stroke=\"black\" points=\"159.5,-2457.75 159.5,-2480.5 207,-2480.5 207,-2457.75 159.5,-2457.75\"/>\n",
       "<text text-anchor=\"start\" x=\"169.38\" y=\"-2466\" font-family=\"Linux libertine\" font-size=\"10.00\">input:</text>\n",
       "<polygon fill=\"none\" stroke=\"black\" points=\"207,-2457.75 207,-2480.5 281.5,-2480.5 281.5,-2457.75 207,-2457.75\"/>\n",
       "<text text-anchor=\"start\" x=\"212\" y=\"-2466\" font-family=\"Linux libertine\" font-size=\"10.00\">(50, 144, 64) </text>\n",
       "<polygon fill=\"none\" stroke=\"black\" points=\"159.5,-2435 159.5,-2457.75 207,-2457.75 207,-2435 159.5,-2435\"/>\n",
       "<text text-anchor=\"start\" x=\"164.5\" y=\"-2443.25\" font-family=\"Linux libertine\" font-size=\"10.00\">output: </text>\n",
       "<polygon fill=\"none\" stroke=\"black\" points=\"207,-2435 207,-2457.75 281.5,-2457.75 281.5,-2435 207,-2435\"/>\n",
       "<text text-anchor=\"start\" x=\"212\" y=\"-2443.25\" font-family=\"Linux libertine\" font-size=\"10.00\">(50, 144, 64) </text>\n",
       "</g>\n",
       "<!-- 27&#45;&gt;28 -->\n",
       "<g id=\"edge34\" class=\"edge\">\n",
       "<title>27&#45;&gt;28</title>\n",
       "<path fill=\"none\" stroke=\"black\" d=\"M200.03,-2516.53C199.65,-2508.9 199.21,-2500.15 198.79,-2491.81\"/>\n",
       "<polygon fill=\"black\" stroke=\"black\" points=\"202.29,-2491.77 198.29,-2481.96 195.3,-2492.12 202.29,-2491.77\"/>\n",
       "</g>\n",
       "<!-- 28&#45;&gt;29 -->\n",
       "<g id=\"edge35\" class=\"edge\">\n",
       "<title>28&#45;&gt;29</title>\n",
       "<path fill=\"none\" stroke=\"black\" d=\"M181.55,-2435.03C175.58,-2426.7 168.65,-2417.04 162.19,-2408.02\"/>\n",
       "<polygon fill=\"black\" stroke=\"black\" points=\"165.23,-2406.27 156.56,-2400.18 159.55,-2410.34 165.23,-2406.27\"/>\n",
       "</g>\n",
       "<!-- 30 -->\n",
       "<g id=\"node31\" class=\"node\">\n",
       "<title>30</title>\n",
       "<polygon fill=\"#c1ffc1\" stroke=\"none\" points=\"322.12,-2317.5 136.12,-2317.5 136.12,-2272 322.12,-2272 322.12,-2317.5\"/>\n",
       "<polygon fill=\"none\" stroke=\"black\" points=\"136.12,-2272 136.12,-2317.5 200.12,-2317.5 200.12,-2272 136.12,-2272\"/>\n",
       "<text text-anchor=\"start\" x=\"141.12\" y=\"-2298\" font-family=\"Linux libertine\" font-size=\"10.00\">LayerNorm</text>\n",
       "<text text-anchor=\"start\" x=\"149.75\" y=\"-2285.25\" font-family=\"Linux libertine\" font-size=\"10.00\">depth:3</text>\n",
       "<polygon fill=\"none\" stroke=\"black\" points=\"200.12,-2294.75 200.12,-2317.5 247.62,-2317.5 247.62,-2294.75 200.12,-2294.75\"/>\n",
       "<text text-anchor=\"start\" x=\"210\" y=\"-2303\" font-family=\"Linux libertine\" font-size=\"10.00\">input:</text>\n",
       "<polygon fill=\"none\" stroke=\"black\" points=\"247.62,-2294.75 247.62,-2317.5 322.12,-2317.5 322.12,-2294.75 247.62,-2294.75\"/>\n",
       "<text text-anchor=\"start\" x=\"252.62\" y=\"-2303\" font-family=\"Linux libertine\" font-size=\"10.00\">(50, 144, 64) </text>\n",
       "<polygon fill=\"none\" stroke=\"black\" points=\"200.12,-2272 200.12,-2294.75 247.62,-2294.75 247.62,-2272 200.12,-2272\"/>\n",
       "<text text-anchor=\"start\" x=\"205.12\" y=\"-2280.25\" font-family=\"Linux libertine\" font-size=\"10.00\">output: </text>\n",
       "<polygon fill=\"none\" stroke=\"black\" points=\"247.62,-2272 247.62,-2294.75 322.12,-2294.75 322.12,-2272 247.62,-2272\"/>\n",
       "<text text-anchor=\"start\" x=\"252.62\" y=\"-2280.25\" font-family=\"Linux libertine\" font-size=\"10.00\">(50, 144, 64) </text>\n",
       "</g>\n",
       "<!-- 29&#45;&gt;30 -->\n",
       "<g id=\"edge36\" class=\"edge\">\n",
       "<title>29&#45;&gt;30</title>\n",
       "<path fill=\"none\" stroke=\"black\" d=\"M164.44,-2353.53C174.26,-2344.76 185.73,-2334.52 196.26,-2325.1\"/>\n",
       "<polygon fill=\"black\" stroke=\"black\" points=\"198.58,-2327.73 203.71,-2318.46 193.92,-2322.51 198.58,-2327.73\"/>\n",
       "</g>\n",
       "<!-- 32 -->\n",
       "<g id=\"node33\" class=\"node\">\n",
       "<title>32</title>\n",
       "<polygon fill=\"aliceblue\" stroke=\"none\" points=\"262.5,-2154.5 75.75,-2154.5 75.75,-2109 262.5,-2109 262.5,-2154.5\"/>\n",
       "<polygon fill=\"none\" stroke=\"black\" points=\"75.75,-2109 75.75,-2154.5 122.5,-2154.5 122.5,-2109 75.75,-2109\"/>\n",
       "<text text-anchor=\"start\" x=\"90.12\" y=\"-2135\" font-family=\"Linux libertine\" font-size=\"10.00\">add</text>\n",
       "<text text-anchor=\"start\" x=\"80.75\" y=\"-2122.25\" font-family=\"Linux libertine\" font-size=\"10.00\">depth:3</text>\n",
       "<polygon fill=\"none\" stroke=\"black\" points=\"122.5,-2131.75 122.5,-2154.5 170,-2154.5 170,-2131.75 122.5,-2131.75\"/>\n",
       "<text text-anchor=\"start\" x=\"132.38\" y=\"-2140\" font-family=\"Linux libertine\" font-size=\"10.00\">input:</text>\n",
       "<polygon fill=\"none\" stroke=\"black\" points=\"170,-2131.75 170,-2154.5 262.5,-2154.5 262.5,-2131.75 170,-2131.75\"/>\n",
       "<text text-anchor=\"start\" x=\"175\" y=\"-2140\" font-family=\"Linux libertine\" font-size=\"10.00\">2 x (50, 144, 64) </text>\n",
       "<polygon fill=\"none\" stroke=\"black\" points=\"122.5,-2109 122.5,-2131.75 170,-2131.75 170,-2109 122.5,-2109\"/>\n",
       "<text text-anchor=\"start\" x=\"127.5\" y=\"-2117.25\" font-family=\"Linux libertine\" font-size=\"10.00\">output: </text>\n",
       "<polygon fill=\"none\" stroke=\"black\" points=\"170,-2109 170,-2131.75 262.5,-2131.75 262.5,-2109 170,-2109\"/>\n",
       "<text text-anchor=\"start\" x=\"184\" y=\"-2117.25\" font-family=\"Linux libertine\" font-size=\"10.00\">(50, 144, 64) </text>\n",
       "</g>\n",
       "<!-- 29&#45;&gt;32 -->\n",
       "<g id=\"edge37\" class=\"edge\">\n",
       "<title>29&#45;&gt;32</title>\n",
       "<path fill=\"none\" stroke=\"black\" d=\"M126.76,-2353.76C106.52,-2318.26 73.07,-2245.78 99.12,-2190.5 104.42,-2179.26 113.1,-2169.47 122.57,-2161.29\"/>\n",
       "<polygon fill=\"black\" stroke=\"black\" points=\"124.59,-2164.16 130.23,-2155.19 120.23,-2158.68 124.59,-2164.16\"/>\n",
       "</g>\n",
       "<!-- 31 -->\n",
       "<g id=\"node32\" class=\"node\">\n",
       "<title>31</title>\n",
       "<polygon fill=\"#c1ffc1\" stroke=\"none\" points=\"407.75,-2236 108.5,-2236 108.5,-2190.5 407.75,-2190.5 407.75,-2236\"/>\n",
       "<polygon fill=\"none\" stroke=\"black\" points=\"108.5,-2190.5 108.5,-2236 212.25,-2236 212.25,-2190.5 108.5,-2190.5\"/>\n",
       "<text text-anchor=\"start\" x=\"113.5\" y=\"-2216.5\" font-family=\"Linux libertine\" font-size=\"10.00\">MultiheadAttention</text>\n",
       "<text text-anchor=\"start\" x=\"142\" y=\"-2203.75\" font-family=\"Linux libertine\" font-size=\"10.00\">depth:3</text>\n",
       "<polygon fill=\"none\" stroke=\"black\" points=\"212.25,-2213.25 212.25,-2236 259.75,-2236 259.75,-2213.25 212.25,-2213.25\"/>\n",
       "<text text-anchor=\"start\" x=\"222.12\" y=\"-2221.5\" font-family=\"Linux libertine\" font-size=\"10.00\">input:</text>\n",
       "<polygon fill=\"none\" stroke=\"black\" points=\"259.75,-2213.25 259.75,-2236 407.75,-2236 407.75,-2213.25 259.75,-2213.25\"/>\n",
       "<text text-anchor=\"start\" x=\"292.5\" y=\"-2221.5\" font-family=\"Linux libertine\" font-size=\"10.00\">3 x (50, 144, 64) </text>\n",
       "<polygon fill=\"none\" stroke=\"black\" points=\"212.25,-2190.5 212.25,-2213.25 259.75,-2213.25 259.75,-2190.5 212.25,-2190.5\"/>\n",
       "<text text-anchor=\"start\" x=\"217.25\" y=\"-2198.75\" font-family=\"Linux libertine\" font-size=\"10.00\">output: </text>\n",
       "<polygon fill=\"none\" stroke=\"black\" points=\"259.75,-2190.5 259.75,-2213.25 407.75,-2213.25 407.75,-2190.5 259.75,-2190.5\"/>\n",
       "<text text-anchor=\"start\" x=\"264.75\" y=\"-2198.75\" font-family=\"Linux libertine\" font-size=\"10.00\">(50, 144, 64), (50, 144, 144) </text>\n",
       "</g>\n",
       "<!-- 30&#45;&gt;31 -->\n",
       "<g id=\"edge38\" class=\"edge\">\n",
       "<title>30&#45;&gt;31</title>\n",
       "<path fill=\"none\" stroke=\"black\" d=\"M237.05,-2272.03C239.89,-2264.23 243.17,-2255.25 246.27,-2246.74\"/>\n",
       "<polygon fill=\"black\" stroke=\"black\" points=\"249.55,-2247.96 249.69,-2237.37 242.98,-2245.56 249.55,-2247.96\"/>\n",
       "</g>\n",
       "<!-- 31&#45;&gt;32 -->\n",
       "<g id=\"edge39\" class=\"edge\">\n",
       "<title>31&#45;&gt;32</title>\n",
       "<path fill=\"none\" stroke=\"black\" d=\"M233.81,-2190.53C223.99,-2181.76 212.52,-2171.52 201.99,-2162.1\"/>\n",
       "<polygon fill=\"black\" stroke=\"black\" points=\"204.33,-2159.51 194.54,-2155.46 199.67,-2164.73 204.33,-2159.51\"/>\n",
       "</g>\n",
       "<!-- 33 -->\n",
       "<g id=\"node34\" class=\"node\">\n",
       "<title>33</title>\n",
       "<polygon fill=\"#c1ffc1\" stroke=\"none\" points=\"323.12,-2073 137.12,-2073 137.12,-2027.5 323.12,-2027.5 323.12,-2073\"/>\n",
       "<polygon fill=\"none\" stroke=\"black\" points=\"137.12,-2027.5 137.12,-2073 201.12,-2073 201.12,-2027.5 137.12,-2027.5\"/>\n",
       "<text text-anchor=\"start\" x=\"142.12\" y=\"-2053.5\" font-family=\"Linux libertine\" font-size=\"10.00\">LayerNorm</text>\n",
       "<text text-anchor=\"start\" x=\"150.75\" y=\"-2040.75\" font-family=\"Linux libertine\" font-size=\"10.00\">depth:3</text>\n",
       "<polygon fill=\"none\" stroke=\"black\" points=\"201.12,-2050.25 201.12,-2073 248.62,-2073 248.62,-2050.25 201.12,-2050.25\"/>\n",
       "<text text-anchor=\"start\" x=\"211\" y=\"-2058.5\" font-family=\"Linux libertine\" font-size=\"10.00\">input:</text>\n",
       "<polygon fill=\"none\" stroke=\"black\" points=\"248.62,-2050.25 248.62,-2073 323.12,-2073 323.12,-2050.25 248.62,-2050.25\"/>\n",
       "<text text-anchor=\"start\" x=\"253.62\" y=\"-2058.5\" font-family=\"Linux libertine\" font-size=\"10.00\">(50, 144, 64) </text>\n",
       "<polygon fill=\"none\" stroke=\"black\" points=\"201.12,-2027.5 201.12,-2050.25 248.62,-2050.25 248.62,-2027.5 201.12,-2027.5\"/>\n",
       "<text text-anchor=\"start\" x=\"206.12\" y=\"-2035.75\" font-family=\"Linux libertine\" font-size=\"10.00\">output: </text>\n",
       "<polygon fill=\"none\" stroke=\"black\" points=\"248.62,-2027.5 248.62,-2050.25 323.12,-2050.25 323.12,-2027.5 248.62,-2027.5\"/>\n",
       "<text text-anchor=\"start\" x=\"253.62\" y=\"-2035.75\" font-family=\"Linux libertine\" font-size=\"10.00\">(50, 144, 64) </text>\n",
       "</g>\n",
       "<!-- 32&#45;&gt;33 -->\n",
       "<g id=\"edge40\" class=\"edge\">\n",
       "<title>32&#45;&gt;33</title>\n",
       "<path fill=\"none\" stroke=\"black\" d=\"M185.79,-2109.03C192.18,-2100.7 199.6,-2091.04 206.51,-2082.02\"/>\n",
       "<polygon fill=\"black\" stroke=\"black\" points=\"209.24,-2084.21 212.56,-2074.15 203.69,-2079.95 209.24,-2084.21\"/>\n",
       "</g>\n",
       "<!-- 37 -->\n",
       "<g id=\"node38\" class=\"node\">\n",
       "<title>37</title>\n",
       "<polygon fill=\"aliceblue\" stroke=\"none\" points=\"258.5,-1747 71.75,-1747 71.75,-1701.5 258.5,-1701.5 258.5,-1747\"/>\n",
       "<polygon fill=\"none\" stroke=\"black\" points=\"71.75,-1701.5 71.75,-1747 118.5,-1747 118.5,-1701.5 71.75,-1701.5\"/>\n",
       "<text text-anchor=\"start\" x=\"86.12\" y=\"-1727.5\" font-family=\"Linux libertine\" font-size=\"10.00\">add</text>\n",
       "<text text-anchor=\"start\" x=\"76.75\" y=\"-1714.75\" font-family=\"Linux libertine\" font-size=\"10.00\">depth:3</text>\n",
       "<polygon fill=\"none\" stroke=\"black\" points=\"118.5,-1724.25 118.5,-1747 166,-1747 166,-1724.25 118.5,-1724.25\"/>\n",
       "<text text-anchor=\"start\" x=\"128.38\" y=\"-1732.5\" font-family=\"Linux libertine\" font-size=\"10.00\">input:</text>\n",
       "<polygon fill=\"none\" stroke=\"black\" points=\"166,-1724.25 166,-1747 258.5,-1747 258.5,-1724.25 166,-1724.25\"/>\n",
       "<text text-anchor=\"start\" x=\"171\" y=\"-1732.5\" font-family=\"Linux libertine\" font-size=\"10.00\">2 x (50, 144, 64) </text>\n",
       "<polygon fill=\"none\" stroke=\"black\" points=\"118.5,-1701.5 118.5,-1724.25 166,-1724.25 166,-1701.5 118.5,-1701.5\"/>\n",
       "<text text-anchor=\"start\" x=\"123.5\" y=\"-1709.75\" font-family=\"Linux libertine\" font-size=\"10.00\">output: </text>\n",
       "<polygon fill=\"none\" stroke=\"black\" points=\"166,-1701.5 166,-1724.25 258.5,-1724.25 258.5,-1701.5 166,-1701.5\"/>\n",
       "<text text-anchor=\"start\" x=\"180\" y=\"-1709.75\" font-family=\"Linux libertine\" font-size=\"10.00\">(50, 144, 64) </text>\n",
       "</g>\n",
       "<!-- 32&#45;&gt;37 -->\n",
       "<g id=\"edge41\" class=\"edge\">\n",
       "<title>32&#45;&gt;37</title>\n",
       "<path fill=\"none\" stroke=\"black\" d=\"M150.31,-2109.08C142.31,-2098.78 133.58,-2085.91 128.12,-2073 109.97,-2030.02 109.12,-2016.41 109.12,-1969.75 109.12,-1969.75 109.12,-1969.75 109.12,-1886.25 109.12,-1839.51 112.03,-1826.5 129.12,-1783 132.69,-1773.93 137.69,-1764.71 142.84,-1756.38\"/>\n",
       "<polygon fill=\"black\" stroke=\"black\" points=\"145.77,-1758.29 148.27,-1748 139.9,-1754.48 145.77,-1758.29\"/>\n",
       "</g>\n",
       "<!-- 34 -->\n",
       "<g id=\"node35\" class=\"node\">\n",
       "<title>34</title>\n",
       "<polygon fill=\"#c1ffc1\" stroke=\"none\" points=\"312.5,-1991.5 143.75,-1991.5 143.75,-1946 312.5,-1946 312.5,-1991.5\"/>\n",
       "<polygon fill=\"none\" stroke=\"black\" points=\"143.75,-1946 143.75,-1991.5 190.5,-1991.5 190.5,-1946 143.75,-1946\"/>\n",
       "<text text-anchor=\"start\" x=\"152.12\" y=\"-1972\" font-family=\"Linux libertine\" font-size=\"10.00\">Linear</text>\n",
       "<text text-anchor=\"start\" x=\"148.75\" y=\"-1959.25\" font-family=\"Linux libertine\" font-size=\"10.00\">depth:3</text>\n",
       "<polygon fill=\"none\" stroke=\"black\" points=\"190.5,-1968.75 190.5,-1991.5 238,-1991.5 238,-1968.75 190.5,-1968.75\"/>\n",
       "<text text-anchor=\"start\" x=\"200.38\" y=\"-1977\" font-family=\"Linux libertine\" font-size=\"10.00\">input:</text>\n",
       "<polygon fill=\"none\" stroke=\"black\" points=\"238,-1968.75 238,-1991.5 312.5,-1991.5 312.5,-1968.75 238,-1968.75\"/>\n",
       "<text text-anchor=\"start\" x=\"243\" y=\"-1977\" font-family=\"Linux libertine\" font-size=\"10.00\">(50, 144, 64) </text>\n",
       "<polygon fill=\"none\" stroke=\"black\" points=\"190.5,-1946 190.5,-1968.75 238,-1968.75 238,-1946 190.5,-1946\"/>\n",
       "<text text-anchor=\"start\" x=\"195.5\" y=\"-1954.25\" font-family=\"Linux libertine\" font-size=\"10.00\">output: </text>\n",
       "<polygon fill=\"none\" stroke=\"black\" points=\"238,-1946 238,-1968.75 312.5,-1968.75 312.5,-1946 238,-1946\"/>\n",
       "<text text-anchor=\"start\" x=\"243\" y=\"-1954.25\" font-family=\"Linux libertine\" font-size=\"10.00\">(50, 144, 64) </text>\n",
       "</g>\n",
       "<!-- 33&#45;&gt;34 -->\n",
       "<g id=\"edge42\" class=\"edge\">\n",
       "<title>33&#45;&gt;34</title>\n",
       "<path fill=\"none\" stroke=\"black\" d=\"M229.58,-2027.53C229.39,-2019.9 229.17,-2011.15 228.96,-2002.81\"/>\n",
       "<polygon fill=\"black\" stroke=\"black\" points=\"232.46,-2002.87 228.71,-1992.96 225.46,-2003.05 232.46,-2002.87\"/>\n",
       "</g>\n",
       "<!-- 35 -->\n",
       "<g id=\"node36\" class=\"node\">\n",
       "<title>35</title>\n",
       "<polygon fill=\"#c1ffc1\" stroke=\"none\" points=\"311.62,-1910 140.62,-1910 140.62,-1864.5 311.62,-1864.5 311.62,-1910\"/>\n",
       "<polygon fill=\"none\" stroke=\"black\" points=\"140.62,-1864.5 140.62,-1910 189.62,-1910 189.62,-1864.5 140.62,-1864.5\"/>\n",
       "<text text-anchor=\"start\" x=\"145.62\" y=\"-1890.5\" font-family=\"Linux libertine\" font-size=\"10.00\">Dropout</text>\n",
       "<text text-anchor=\"start\" x=\"146.75\" y=\"-1877.75\" font-family=\"Linux libertine\" font-size=\"10.00\">depth:3</text>\n",
       "<polygon fill=\"none\" stroke=\"black\" points=\"189.62,-1887.25 189.62,-1910 237.12,-1910 237.12,-1887.25 189.62,-1887.25\"/>\n",
       "<text text-anchor=\"start\" x=\"199.5\" y=\"-1895.5\" font-family=\"Linux libertine\" font-size=\"10.00\">input:</text>\n",
       "<polygon fill=\"none\" stroke=\"black\" points=\"237.12,-1887.25 237.12,-1910 311.62,-1910 311.62,-1887.25 237.12,-1887.25\"/>\n",
       "<text text-anchor=\"start\" x=\"242.12\" y=\"-1895.5\" font-family=\"Linux libertine\" font-size=\"10.00\">(50, 144, 64) </text>\n",
       "<polygon fill=\"none\" stroke=\"black\" points=\"189.62,-1864.5 189.62,-1887.25 237.12,-1887.25 237.12,-1864.5 189.62,-1864.5\"/>\n",
       "<text text-anchor=\"start\" x=\"194.62\" y=\"-1872.75\" font-family=\"Linux libertine\" font-size=\"10.00\">output: </text>\n",
       "<polygon fill=\"none\" stroke=\"black\" points=\"237.12,-1864.5 237.12,-1887.25 311.62,-1887.25 311.62,-1864.5 237.12,-1864.5\"/>\n",
       "<text text-anchor=\"start\" x=\"242.12\" y=\"-1872.75\" font-family=\"Linux libertine\" font-size=\"10.00\">(50, 144, 64) </text>\n",
       "</g>\n",
       "<!-- 34&#45;&gt;35 -->\n",
       "<g id=\"edge43\" class=\"edge\">\n",
       "<title>34&#45;&gt;35</title>\n",
       "<path fill=\"none\" stroke=\"black\" d=\"M227.58,-1946.03C227.39,-1938.4 227.17,-1929.65 226.96,-1921.31\"/>\n",
       "<polygon fill=\"black\" stroke=\"black\" points=\"230.46,-1921.37 226.71,-1911.46 223.46,-1921.55 230.46,-1921.37\"/>\n",
       "</g>\n",
       "<!-- 36 -->\n",
       "<g id=\"node37\" class=\"node\">\n",
       "<title>36</title>\n",
       "<polygon fill=\"#c1ffc1\" stroke=\"none\" points=\"306.5,-1828.5 137.75,-1828.5 137.75,-1783 306.5,-1783 306.5,-1828.5\"/>\n",
       "<polygon fill=\"none\" stroke=\"black\" points=\"137.75,-1783 137.75,-1828.5 184.5,-1828.5 184.5,-1783 137.75,-1783\"/>\n",
       "<text text-anchor=\"start\" x=\"148\" y=\"-1809\" font-family=\"Linux libertine\" font-size=\"10.00\">GELU</text>\n",
       "<text text-anchor=\"start\" x=\"142.75\" y=\"-1796.25\" font-family=\"Linux libertine\" font-size=\"10.00\">depth:3</text>\n",
       "<polygon fill=\"none\" stroke=\"black\" points=\"184.5,-1805.75 184.5,-1828.5 232,-1828.5 232,-1805.75 184.5,-1805.75\"/>\n",
       "<text text-anchor=\"start\" x=\"194.38\" y=\"-1814\" font-family=\"Linux libertine\" font-size=\"10.00\">input:</text>\n",
       "<polygon fill=\"none\" stroke=\"black\" points=\"232,-1805.75 232,-1828.5 306.5,-1828.5 306.5,-1805.75 232,-1805.75\"/>\n",
       "<text text-anchor=\"start\" x=\"237\" y=\"-1814\" font-family=\"Linux libertine\" font-size=\"10.00\">(50, 144, 64) </text>\n",
       "<polygon fill=\"none\" stroke=\"black\" points=\"184.5,-1783 184.5,-1805.75 232,-1805.75 232,-1783 184.5,-1783\"/>\n",
       "<text text-anchor=\"start\" x=\"189.5\" y=\"-1791.25\" font-family=\"Linux libertine\" font-size=\"10.00\">output: </text>\n",
       "<polygon fill=\"none\" stroke=\"black\" points=\"232,-1783 232,-1805.75 306.5,-1805.75 306.5,-1783 232,-1783\"/>\n",
       "<text text-anchor=\"start\" x=\"237\" y=\"-1791.25\" font-family=\"Linux libertine\" font-size=\"10.00\">(50, 144, 64) </text>\n",
       "</g>\n",
       "<!-- 35&#45;&gt;36 -->\n",
       "<g id=\"edge44\" class=\"edge\">\n",
       "<title>35&#45;&gt;36</title>\n",
       "<path fill=\"none\" stroke=\"black\" d=\"M225.03,-1864.53C224.65,-1856.9 224.21,-1848.15 223.79,-1839.81\"/>\n",
       "<polygon fill=\"black\" stroke=\"black\" points=\"227.29,-1839.77 223.29,-1829.96 220.3,-1840.12 227.29,-1839.77\"/>\n",
       "</g>\n",
       "<!-- 36&#45;&gt;37 -->\n",
       "<g id=\"edge45\" class=\"edge\">\n",
       "<title>36&#45;&gt;37</title>\n",
       "<path fill=\"none\" stroke=\"black\" d=\"M206.55,-1783.03C200.58,-1774.7 193.65,-1765.04 187.19,-1756.02\"/>\n",
       "<polygon fill=\"black\" stroke=\"black\" points=\"190.23,-1754.27 181.56,-1748.18 184.55,-1758.34 190.23,-1754.27\"/>\n",
       "</g>\n",
       "<!-- 38 -->\n",
       "<g id=\"node39\" class=\"node\">\n",
       "<title>38</title>\n",
       "<polygon fill=\"#c1ffc1\" stroke=\"none\" points=\"347.12,-1665.5 161.12,-1665.5 161.12,-1620 347.12,-1620 347.12,-1665.5\"/>\n",
       "<polygon fill=\"none\" stroke=\"black\" points=\"161.12,-1620 161.12,-1665.5 225.12,-1665.5 225.12,-1620 161.12,-1620\"/>\n",
       "<text text-anchor=\"start\" x=\"166.12\" y=\"-1646\" font-family=\"Linux libertine\" font-size=\"10.00\">LayerNorm</text>\n",
       "<text text-anchor=\"start\" x=\"174.75\" y=\"-1633.25\" font-family=\"Linux libertine\" font-size=\"10.00\">depth:3</text>\n",
       "<polygon fill=\"none\" stroke=\"black\" points=\"225.12,-1642.75 225.12,-1665.5 272.62,-1665.5 272.62,-1642.75 225.12,-1642.75\"/>\n",
       "<text text-anchor=\"start\" x=\"235\" y=\"-1651\" font-family=\"Linux libertine\" font-size=\"10.00\">input:</text>\n",
       "<polygon fill=\"none\" stroke=\"black\" points=\"272.62,-1642.75 272.62,-1665.5 347.12,-1665.5 347.12,-1642.75 272.62,-1642.75\"/>\n",
       "<text text-anchor=\"start\" x=\"277.62\" y=\"-1651\" font-family=\"Linux libertine\" font-size=\"10.00\">(50, 144, 64) </text>\n",
       "<polygon fill=\"none\" stroke=\"black\" points=\"225.12,-1620 225.12,-1642.75 272.62,-1642.75 272.62,-1620 225.12,-1620\"/>\n",
       "<text text-anchor=\"start\" x=\"230.12\" y=\"-1628.25\" font-family=\"Linux libertine\" font-size=\"10.00\">output: </text>\n",
       "<polygon fill=\"none\" stroke=\"black\" points=\"272.62,-1620 272.62,-1642.75 347.12,-1642.75 347.12,-1620 272.62,-1620\"/>\n",
       "<text text-anchor=\"start\" x=\"277.62\" y=\"-1628.25\" font-family=\"Linux libertine\" font-size=\"10.00\">(50, 144, 64) </text>\n",
       "</g>\n",
       "<!-- 37&#45;&gt;38 -->\n",
       "<g id=\"edge46\" class=\"edge\">\n",
       "<title>37&#45;&gt;38</title>\n",
       "<path fill=\"none\" stroke=\"black\" d=\"M189.44,-1701.53C199.26,-1692.76 210.73,-1682.52 221.26,-1673.1\"/>\n",
       "<polygon fill=\"black\" stroke=\"black\" points=\"223.58,-1675.73 228.71,-1666.46 218.92,-1670.51 223.58,-1675.73\"/>\n",
       "</g>\n",
       "<!-- 40 -->\n",
       "<g id=\"node41\" class=\"node\">\n",
       "<title>40</title>\n",
       "<polygon fill=\"aliceblue\" stroke=\"none\" points=\"287.5,-1502.5 100.75,-1502.5 100.75,-1457 287.5,-1457 287.5,-1502.5\"/>\n",
       "<polygon fill=\"none\" stroke=\"black\" points=\"100.75,-1457 100.75,-1502.5 147.5,-1502.5 147.5,-1457 100.75,-1457\"/>\n",
       "<text text-anchor=\"start\" x=\"115.12\" y=\"-1483\" font-family=\"Linux libertine\" font-size=\"10.00\">add</text>\n",
       "<text text-anchor=\"start\" x=\"105.75\" y=\"-1470.25\" font-family=\"Linux libertine\" font-size=\"10.00\">depth:3</text>\n",
       "<polygon fill=\"none\" stroke=\"black\" points=\"147.5,-1479.75 147.5,-1502.5 195,-1502.5 195,-1479.75 147.5,-1479.75\"/>\n",
       "<text text-anchor=\"start\" x=\"157.38\" y=\"-1488\" font-family=\"Linux libertine\" font-size=\"10.00\">input:</text>\n",
       "<polygon fill=\"none\" stroke=\"black\" points=\"195,-1479.75 195,-1502.5 287.5,-1502.5 287.5,-1479.75 195,-1479.75\"/>\n",
       "<text text-anchor=\"start\" x=\"200\" y=\"-1488\" font-family=\"Linux libertine\" font-size=\"10.00\">2 x (50, 144, 64) </text>\n",
       "<polygon fill=\"none\" stroke=\"black\" points=\"147.5,-1457 147.5,-1479.75 195,-1479.75 195,-1457 147.5,-1457\"/>\n",
       "<text text-anchor=\"start\" x=\"152.5\" y=\"-1465.25\" font-family=\"Linux libertine\" font-size=\"10.00\">output: </text>\n",
       "<polygon fill=\"none\" stroke=\"black\" points=\"195,-1457 195,-1479.75 287.5,-1479.75 287.5,-1457 195,-1457\"/>\n",
       "<text text-anchor=\"start\" x=\"209\" y=\"-1465.25\" font-family=\"Linux libertine\" font-size=\"10.00\">(50, 144, 64) </text>\n",
       "</g>\n",
       "<!-- 37&#45;&gt;40 -->\n",
       "<g id=\"edge47\" class=\"edge\">\n",
       "<title>37&#45;&gt;40</title>\n",
       "<path fill=\"none\" stroke=\"black\" d=\"M151.76,-1701.76C131.52,-1666.26 98.07,-1593.78 124.12,-1538.5 129.42,-1527.26 138.1,-1517.47 147.57,-1509.29\"/>\n",
       "<polygon fill=\"black\" stroke=\"black\" points=\"149.59,-1512.16 155.23,-1503.19 145.23,-1506.68 149.59,-1512.16\"/>\n",
       "</g>\n",
       "<!-- 39 -->\n",
       "<g id=\"node40\" class=\"node\">\n",
       "<title>39</title>\n",
       "<polygon fill=\"#c1ffc1\" stroke=\"none\" points=\"432.75,-1584 133.5,-1584 133.5,-1538.5 432.75,-1538.5 432.75,-1584\"/>\n",
       "<polygon fill=\"none\" stroke=\"black\" points=\"133.5,-1538.5 133.5,-1584 237.25,-1584 237.25,-1538.5 133.5,-1538.5\"/>\n",
       "<text text-anchor=\"start\" x=\"138.5\" y=\"-1564.5\" font-family=\"Linux libertine\" font-size=\"10.00\">MultiheadAttention</text>\n",
       "<text text-anchor=\"start\" x=\"167\" y=\"-1551.75\" font-family=\"Linux libertine\" font-size=\"10.00\">depth:3</text>\n",
       "<polygon fill=\"none\" stroke=\"black\" points=\"237.25,-1561.25 237.25,-1584 284.75,-1584 284.75,-1561.25 237.25,-1561.25\"/>\n",
       "<text text-anchor=\"start\" x=\"247.12\" y=\"-1569.5\" font-family=\"Linux libertine\" font-size=\"10.00\">input:</text>\n",
       "<polygon fill=\"none\" stroke=\"black\" points=\"284.75,-1561.25 284.75,-1584 432.75,-1584 432.75,-1561.25 284.75,-1561.25\"/>\n",
       "<text text-anchor=\"start\" x=\"317.5\" y=\"-1569.5\" font-family=\"Linux libertine\" font-size=\"10.00\">3 x (50, 144, 64) </text>\n",
       "<polygon fill=\"none\" stroke=\"black\" points=\"237.25,-1538.5 237.25,-1561.25 284.75,-1561.25 284.75,-1538.5 237.25,-1538.5\"/>\n",
       "<text text-anchor=\"start\" x=\"242.25\" y=\"-1546.75\" font-family=\"Linux libertine\" font-size=\"10.00\">output: </text>\n",
       "<polygon fill=\"none\" stroke=\"black\" points=\"284.75,-1538.5 284.75,-1561.25 432.75,-1561.25 432.75,-1538.5 284.75,-1538.5\"/>\n",
       "<text text-anchor=\"start\" x=\"289.75\" y=\"-1546.75\" font-family=\"Linux libertine\" font-size=\"10.00\">(50, 144, 64), (50, 144, 144) </text>\n",
       "</g>\n",
       "<!-- 38&#45;&gt;39 -->\n",
       "<g id=\"edge48\" class=\"edge\">\n",
       "<title>38&#45;&gt;39</title>\n",
       "<path fill=\"none\" stroke=\"black\" d=\"M262.05,-1620.03C264.89,-1612.23 268.17,-1603.25 271.27,-1594.74\"/>\n",
       "<polygon fill=\"black\" stroke=\"black\" points=\"274.55,-1595.96 274.69,-1585.37 267.98,-1593.56 274.55,-1595.96\"/>\n",
       "</g>\n",
       "<!-- 39&#45;&gt;40 -->\n",
       "<g id=\"edge49\" class=\"edge\">\n",
       "<title>39&#45;&gt;40</title>\n",
       "<path fill=\"none\" stroke=\"black\" d=\"M258.81,-1538.53C248.99,-1529.76 237.52,-1519.52 226.99,-1510.1\"/>\n",
       "<polygon fill=\"black\" stroke=\"black\" points=\"229.33,-1507.51 219.54,-1503.46 224.67,-1512.73 229.33,-1507.51\"/>\n",
       "</g>\n",
       "<!-- 41 -->\n",
       "<g id=\"node42\" class=\"node\">\n",
       "<title>41</title>\n",
       "<polygon fill=\"#c1ffc1\" stroke=\"none\" points=\"348.12,-1421 162.12,-1421 162.12,-1375.5 348.12,-1375.5 348.12,-1421\"/>\n",
       "<polygon fill=\"none\" stroke=\"black\" points=\"162.12,-1375.5 162.12,-1421 226.12,-1421 226.12,-1375.5 162.12,-1375.5\"/>\n",
       "<text text-anchor=\"start\" x=\"167.12\" y=\"-1401.5\" font-family=\"Linux libertine\" font-size=\"10.00\">LayerNorm</text>\n",
       "<text text-anchor=\"start\" x=\"175.75\" y=\"-1388.75\" font-family=\"Linux libertine\" font-size=\"10.00\">depth:3</text>\n",
       "<polygon fill=\"none\" stroke=\"black\" points=\"226.12,-1398.25 226.12,-1421 273.62,-1421 273.62,-1398.25 226.12,-1398.25\"/>\n",
       "<text text-anchor=\"start\" x=\"236\" y=\"-1406.5\" font-family=\"Linux libertine\" font-size=\"10.00\">input:</text>\n",
       "<polygon fill=\"none\" stroke=\"black\" points=\"273.62,-1398.25 273.62,-1421 348.12,-1421 348.12,-1398.25 273.62,-1398.25\"/>\n",
       "<text text-anchor=\"start\" x=\"278.62\" y=\"-1406.5\" font-family=\"Linux libertine\" font-size=\"10.00\">(50, 144, 64) </text>\n",
       "<polygon fill=\"none\" stroke=\"black\" points=\"226.12,-1375.5 226.12,-1398.25 273.62,-1398.25 273.62,-1375.5 226.12,-1375.5\"/>\n",
       "<text text-anchor=\"start\" x=\"231.12\" y=\"-1383.75\" font-family=\"Linux libertine\" font-size=\"10.00\">output: </text>\n",
       "<polygon fill=\"none\" stroke=\"black\" points=\"273.62,-1375.5 273.62,-1398.25 348.12,-1398.25 348.12,-1375.5 273.62,-1375.5\"/>\n",
       "<text text-anchor=\"start\" x=\"278.62\" y=\"-1383.75\" font-family=\"Linux libertine\" font-size=\"10.00\">(50, 144, 64) </text>\n",
       "</g>\n",
       "<!-- 40&#45;&gt;41 -->\n",
       "<g id=\"edge50\" class=\"edge\">\n",
       "<title>40&#45;&gt;41</title>\n",
       "<path fill=\"none\" stroke=\"black\" d=\"M210.79,-1457.03C217.18,-1448.7 224.6,-1439.04 231.51,-1430.02\"/>\n",
       "<polygon fill=\"black\" stroke=\"black\" points=\"234.24,-1432.21 237.56,-1422.15 228.69,-1427.95 234.24,-1432.21\"/>\n",
       "</g>\n",
       "<!-- 45 -->\n",
       "<g id=\"node46\" class=\"node\">\n",
       "<title>45</title>\n",
       "<polygon fill=\"aliceblue\" stroke=\"none\" points=\"283.5,-1095 96.75,-1095 96.75,-1049.5 283.5,-1049.5 283.5,-1095\"/>\n",
       "<polygon fill=\"none\" stroke=\"black\" points=\"96.75,-1049.5 96.75,-1095 143.5,-1095 143.5,-1049.5 96.75,-1049.5\"/>\n",
       "<text text-anchor=\"start\" x=\"111.12\" y=\"-1075.5\" font-family=\"Linux libertine\" font-size=\"10.00\">add</text>\n",
       "<text text-anchor=\"start\" x=\"101.75\" y=\"-1062.75\" font-family=\"Linux libertine\" font-size=\"10.00\">depth:3</text>\n",
       "<polygon fill=\"none\" stroke=\"black\" points=\"143.5,-1072.25 143.5,-1095 191,-1095 191,-1072.25 143.5,-1072.25\"/>\n",
       "<text text-anchor=\"start\" x=\"153.38\" y=\"-1080.5\" font-family=\"Linux libertine\" font-size=\"10.00\">input:</text>\n",
       "<polygon fill=\"none\" stroke=\"black\" points=\"191,-1072.25 191,-1095 283.5,-1095 283.5,-1072.25 191,-1072.25\"/>\n",
       "<text text-anchor=\"start\" x=\"196\" y=\"-1080.5\" font-family=\"Linux libertine\" font-size=\"10.00\">2 x (50, 144, 64) </text>\n",
       "<polygon fill=\"none\" stroke=\"black\" points=\"143.5,-1049.5 143.5,-1072.25 191,-1072.25 191,-1049.5 143.5,-1049.5\"/>\n",
       "<text text-anchor=\"start\" x=\"148.5\" y=\"-1057.75\" font-family=\"Linux libertine\" font-size=\"10.00\">output: </text>\n",
       "<polygon fill=\"none\" stroke=\"black\" points=\"191,-1049.5 191,-1072.25 283.5,-1072.25 283.5,-1049.5 191,-1049.5\"/>\n",
       "<text text-anchor=\"start\" x=\"205\" y=\"-1057.75\" font-family=\"Linux libertine\" font-size=\"10.00\">(50, 144, 64) </text>\n",
       "</g>\n",
       "<!-- 40&#45;&gt;45 -->\n",
       "<g id=\"edge51\" class=\"edge\">\n",
       "<title>40&#45;&gt;45</title>\n",
       "<path fill=\"none\" stroke=\"black\" d=\"M175.31,-1457.08C167.31,-1446.78 158.58,-1433.91 153.12,-1421 134.97,-1378.02 134.12,-1364.41 134.12,-1317.75 134.12,-1317.75 134.12,-1317.75 134.12,-1234.25 134.12,-1187.51 137.03,-1174.5 154.12,-1131 157.69,-1121.93 162.69,-1112.71 167.84,-1104.38\"/>\n",
       "<polygon fill=\"black\" stroke=\"black\" points=\"170.77,-1106.29 173.27,-1096 164.9,-1102.48 170.77,-1106.29\"/>\n",
       "</g>\n",
       "<!-- 42 -->\n",
       "<g id=\"node43\" class=\"node\">\n",
       "<title>42</title>\n",
       "<polygon fill=\"#c1ffc1\" stroke=\"none\" points=\"337.5,-1339.5 168.75,-1339.5 168.75,-1294 337.5,-1294 337.5,-1339.5\"/>\n",
       "<polygon fill=\"none\" stroke=\"black\" points=\"168.75,-1294 168.75,-1339.5 215.5,-1339.5 215.5,-1294 168.75,-1294\"/>\n",
       "<text text-anchor=\"start\" x=\"177.12\" y=\"-1320\" font-family=\"Linux libertine\" font-size=\"10.00\">Linear</text>\n",
       "<text text-anchor=\"start\" x=\"173.75\" y=\"-1307.25\" font-family=\"Linux libertine\" font-size=\"10.00\">depth:3</text>\n",
       "<polygon fill=\"none\" stroke=\"black\" points=\"215.5,-1316.75 215.5,-1339.5 263,-1339.5 263,-1316.75 215.5,-1316.75\"/>\n",
       "<text text-anchor=\"start\" x=\"225.38\" y=\"-1325\" font-family=\"Linux libertine\" font-size=\"10.00\">input:</text>\n",
       "<polygon fill=\"none\" stroke=\"black\" points=\"263,-1316.75 263,-1339.5 337.5,-1339.5 337.5,-1316.75 263,-1316.75\"/>\n",
       "<text text-anchor=\"start\" x=\"268\" y=\"-1325\" font-family=\"Linux libertine\" font-size=\"10.00\">(50, 144, 64) </text>\n",
       "<polygon fill=\"none\" stroke=\"black\" points=\"215.5,-1294 215.5,-1316.75 263,-1316.75 263,-1294 215.5,-1294\"/>\n",
       "<text text-anchor=\"start\" x=\"220.5\" y=\"-1302.25\" font-family=\"Linux libertine\" font-size=\"10.00\">output: </text>\n",
       "<polygon fill=\"none\" stroke=\"black\" points=\"263,-1294 263,-1316.75 337.5,-1316.75 337.5,-1294 263,-1294\"/>\n",
       "<text text-anchor=\"start\" x=\"268\" y=\"-1302.25\" font-family=\"Linux libertine\" font-size=\"10.00\">(50, 144, 64) </text>\n",
       "</g>\n",
       "<!-- 41&#45;&gt;42 -->\n",
       "<g id=\"edge52\" class=\"edge\">\n",
       "<title>41&#45;&gt;42</title>\n",
       "<path fill=\"none\" stroke=\"black\" d=\"M254.58,-1375.53C254.39,-1367.9 254.17,-1359.15 253.96,-1350.81\"/>\n",
       "<polygon fill=\"black\" stroke=\"black\" points=\"257.46,-1350.87 253.71,-1340.96 250.46,-1351.05 257.46,-1350.87\"/>\n",
       "</g>\n",
       "<!-- 43 -->\n",
       "<g id=\"node44\" class=\"node\">\n",
       "<title>43</title>\n",
       "<polygon fill=\"#c1ffc1\" stroke=\"none\" points=\"336.62,-1258 165.62,-1258 165.62,-1212.5 336.62,-1212.5 336.62,-1258\"/>\n",
       "<polygon fill=\"none\" stroke=\"black\" points=\"165.62,-1212.5 165.62,-1258 214.62,-1258 214.62,-1212.5 165.62,-1212.5\"/>\n",
       "<text text-anchor=\"start\" x=\"170.62\" y=\"-1238.5\" font-family=\"Linux libertine\" font-size=\"10.00\">Dropout</text>\n",
       "<text text-anchor=\"start\" x=\"171.75\" y=\"-1225.75\" font-family=\"Linux libertine\" font-size=\"10.00\">depth:3</text>\n",
       "<polygon fill=\"none\" stroke=\"black\" points=\"214.62,-1235.25 214.62,-1258 262.12,-1258 262.12,-1235.25 214.62,-1235.25\"/>\n",
       "<text text-anchor=\"start\" x=\"224.5\" y=\"-1243.5\" font-family=\"Linux libertine\" font-size=\"10.00\">input:</text>\n",
       "<polygon fill=\"none\" stroke=\"black\" points=\"262.12,-1235.25 262.12,-1258 336.62,-1258 336.62,-1235.25 262.12,-1235.25\"/>\n",
       "<text text-anchor=\"start\" x=\"267.12\" y=\"-1243.5\" font-family=\"Linux libertine\" font-size=\"10.00\">(50, 144, 64) </text>\n",
       "<polygon fill=\"none\" stroke=\"black\" points=\"214.62,-1212.5 214.62,-1235.25 262.12,-1235.25 262.12,-1212.5 214.62,-1212.5\"/>\n",
       "<text text-anchor=\"start\" x=\"219.62\" y=\"-1220.75\" font-family=\"Linux libertine\" font-size=\"10.00\">output: </text>\n",
       "<polygon fill=\"none\" stroke=\"black\" points=\"262.12,-1212.5 262.12,-1235.25 336.62,-1235.25 336.62,-1212.5 262.12,-1212.5\"/>\n",
       "<text text-anchor=\"start\" x=\"267.12\" y=\"-1220.75\" font-family=\"Linux libertine\" font-size=\"10.00\">(50, 144, 64) </text>\n",
       "</g>\n",
       "<!-- 42&#45;&gt;43 -->\n",
       "<g id=\"edge53\" class=\"edge\">\n",
       "<title>42&#45;&gt;43</title>\n",
       "<path fill=\"none\" stroke=\"black\" d=\"M252.58,-1294.03C252.39,-1286.4 252.17,-1277.65 251.96,-1269.31\"/>\n",
       "<polygon fill=\"black\" stroke=\"black\" points=\"255.46,-1269.37 251.71,-1259.46 248.46,-1269.55 255.46,-1269.37\"/>\n",
       "</g>\n",
       "<!-- 44 -->\n",
       "<g id=\"node45\" class=\"node\">\n",
       "<title>44</title>\n",
       "<polygon fill=\"#c1ffc1\" stroke=\"none\" points=\"331.5,-1176.5 162.75,-1176.5 162.75,-1131 331.5,-1131 331.5,-1176.5\"/>\n",
       "<polygon fill=\"none\" stroke=\"black\" points=\"162.75,-1131 162.75,-1176.5 209.5,-1176.5 209.5,-1131 162.75,-1131\"/>\n",
       "<text text-anchor=\"start\" x=\"173\" y=\"-1157\" font-family=\"Linux libertine\" font-size=\"10.00\">GELU</text>\n",
       "<text text-anchor=\"start\" x=\"167.75\" y=\"-1144.25\" font-family=\"Linux libertine\" font-size=\"10.00\">depth:3</text>\n",
       "<polygon fill=\"none\" stroke=\"black\" points=\"209.5,-1153.75 209.5,-1176.5 257,-1176.5 257,-1153.75 209.5,-1153.75\"/>\n",
       "<text text-anchor=\"start\" x=\"219.38\" y=\"-1162\" font-family=\"Linux libertine\" font-size=\"10.00\">input:</text>\n",
       "<polygon fill=\"none\" stroke=\"black\" points=\"257,-1153.75 257,-1176.5 331.5,-1176.5 331.5,-1153.75 257,-1153.75\"/>\n",
       "<text text-anchor=\"start\" x=\"262\" y=\"-1162\" font-family=\"Linux libertine\" font-size=\"10.00\">(50, 144, 64) </text>\n",
       "<polygon fill=\"none\" stroke=\"black\" points=\"209.5,-1131 209.5,-1153.75 257,-1153.75 257,-1131 209.5,-1131\"/>\n",
       "<text text-anchor=\"start\" x=\"214.5\" y=\"-1139.25\" font-family=\"Linux libertine\" font-size=\"10.00\">output: </text>\n",
       "<polygon fill=\"none\" stroke=\"black\" points=\"257,-1131 257,-1153.75 331.5,-1153.75 331.5,-1131 257,-1131\"/>\n",
       "<text text-anchor=\"start\" x=\"262\" y=\"-1139.25\" font-family=\"Linux libertine\" font-size=\"10.00\">(50, 144, 64) </text>\n",
       "</g>\n",
       "<!-- 43&#45;&gt;44 -->\n",
       "<g id=\"edge54\" class=\"edge\">\n",
       "<title>43&#45;&gt;44</title>\n",
       "<path fill=\"none\" stroke=\"black\" d=\"M250.03,-1212.53C249.65,-1204.9 249.21,-1196.15 248.79,-1187.81\"/>\n",
       "<polygon fill=\"black\" stroke=\"black\" points=\"252.29,-1187.77 248.29,-1177.96 245.3,-1188.12 252.29,-1187.77\"/>\n",
       "</g>\n",
       "<!-- 44&#45;&gt;45 -->\n",
       "<g id=\"edge55\" class=\"edge\">\n",
       "<title>44&#45;&gt;45</title>\n",
       "<path fill=\"none\" stroke=\"black\" d=\"M231.55,-1131.03C225.58,-1122.7 218.65,-1113.04 212.19,-1104.02\"/>\n",
       "<polygon fill=\"black\" stroke=\"black\" points=\"215.23,-1102.27 206.56,-1096.18 209.55,-1106.34 215.23,-1102.27\"/>\n",
       "</g>\n",
       "<!-- 46 -->\n",
       "<g id=\"node47\" class=\"node\">\n",
       "<title>46</title>\n",
       "<polygon fill=\"#c1ffc1\" stroke=\"none\" points=\"372.12,-1013.5 186.12,-1013.5 186.12,-968 372.12,-968 372.12,-1013.5\"/>\n",
       "<polygon fill=\"none\" stroke=\"black\" points=\"186.12,-968 186.12,-1013.5 250.12,-1013.5 250.12,-968 186.12,-968\"/>\n",
       "<text text-anchor=\"start\" x=\"191.12\" y=\"-994\" font-family=\"Linux libertine\" font-size=\"10.00\">LayerNorm</text>\n",
       "<text text-anchor=\"start\" x=\"199.75\" y=\"-981.25\" font-family=\"Linux libertine\" font-size=\"10.00\">depth:3</text>\n",
       "<polygon fill=\"none\" stroke=\"black\" points=\"250.12,-990.75 250.12,-1013.5 297.62,-1013.5 297.62,-990.75 250.12,-990.75\"/>\n",
       "<text text-anchor=\"start\" x=\"260\" y=\"-999\" font-family=\"Linux libertine\" font-size=\"10.00\">input:</text>\n",
       "<polygon fill=\"none\" stroke=\"black\" points=\"297.62,-990.75 297.62,-1013.5 372.12,-1013.5 372.12,-990.75 297.62,-990.75\"/>\n",
       "<text text-anchor=\"start\" x=\"302.62\" y=\"-999\" font-family=\"Linux libertine\" font-size=\"10.00\">(50, 144, 64) </text>\n",
       "<polygon fill=\"none\" stroke=\"black\" points=\"250.12,-968 250.12,-990.75 297.62,-990.75 297.62,-968 250.12,-968\"/>\n",
       "<text text-anchor=\"start\" x=\"255.12\" y=\"-976.25\" font-family=\"Linux libertine\" font-size=\"10.00\">output: </text>\n",
       "<polygon fill=\"none\" stroke=\"black\" points=\"297.62,-968 297.62,-990.75 372.12,-990.75 372.12,-968 297.62,-968\"/>\n",
       "<text text-anchor=\"start\" x=\"302.62\" y=\"-976.25\" font-family=\"Linux libertine\" font-size=\"10.00\">(50, 144, 64) </text>\n",
       "</g>\n",
       "<!-- 45&#45;&gt;46 -->\n",
       "<g id=\"edge56\" class=\"edge\">\n",
       "<title>45&#45;&gt;46</title>\n",
       "<path fill=\"none\" stroke=\"black\" d=\"M214.44,-1049.53C224.26,-1040.76 235.73,-1030.52 246.26,-1021.1\"/>\n",
       "<polygon fill=\"black\" stroke=\"black\" points=\"248.58,-1023.73 253.71,-1014.46 243.92,-1018.51 248.58,-1023.73\"/>\n",
       "</g>\n",
       "<!-- 48 -->\n",
       "<g id=\"node49\" class=\"node\">\n",
       "<title>48</title>\n",
       "<polygon fill=\"aliceblue\" stroke=\"none\" points=\"312.5,-850.5 125.75,-850.5 125.75,-805 312.5,-805 312.5,-850.5\"/>\n",
       "<polygon fill=\"none\" stroke=\"black\" points=\"125.75,-805 125.75,-850.5 172.5,-850.5 172.5,-805 125.75,-805\"/>\n",
       "<text text-anchor=\"start\" x=\"140.12\" y=\"-831\" font-family=\"Linux libertine\" font-size=\"10.00\">add</text>\n",
       "<text text-anchor=\"start\" x=\"130.75\" y=\"-818.25\" font-family=\"Linux libertine\" font-size=\"10.00\">depth:3</text>\n",
       "<polygon fill=\"none\" stroke=\"black\" points=\"172.5,-827.75 172.5,-850.5 220,-850.5 220,-827.75 172.5,-827.75\"/>\n",
       "<text text-anchor=\"start\" x=\"182.38\" y=\"-836\" font-family=\"Linux libertine\" font-size=\"10.00\">input:</text>\n",
       "<polygon fill=\"none\" stroke=\"black\" points=\"220,-827.75 220,-850.5 312.5,-850.5 312.5,-827.75 220,-827.75\"/>\n",
       "<text text-anchor=\"start\" x=\"225\" y=\"-836\" font-family=\"Linux libertine\" font-size=\"10.00\">2 x (50, 144, 64) </text>\n",
       "<polygon fill=\"none\" stroke=\"black\" points=\"172.5,-805 172.5,-827.75 220,-827.75 220,-805 172.5,-805\"/>\n",
       "<text text-anchor=\"start\" x=\"177.5\" y=\"-813.25\" font-family=\"Linux libertine\" font-size=\"10.00\">output: </text>\n",
       "<polygon fill=\"none\" stroke=\"black\" points=\"220,-805 220,-827.75 312.5,-827.75 312.5,-805 220,-805\"/>\n",
       "<text text-anchor=\"start\" x=\"234\" y=\"-813.25\" font-family=\"Linux libertine\" font-size=\"10.00\">(50, 144, 64) </text>\n",
       "</g>\n",
       "<!-- 45&#45;&gt;48 -->\n",
       "<g id=\"edge57\" class=\"edge\">\n",
       "<title>45&#45;&gt;48</title>\n",
       "<path fill=\"none\" stroke=\"black\" d=\"M176.76,-1049.76C156.52,-1014.26 123.07,-941.78 149.12,-886.5 154.42,-875.26 163.1,-865.47 172.57,-857.29\"/>\n",
       "<polygon fill=\"black\" stroke=\"black\" points=\"174.59,-860.16 180.23,-851.19 170.23,-854.68 174.59,-860.16\"/>\n",
       "</g>\n",
       "<!-- 47 -->\n",
       "<g id=\"node48\" class=\"node\">\n",
       "<title>47</title>\n",
       "<polygon fill=\"#c1ffc1\" stroke=\"none\" points=\"457.75,-932 158.5,-932 158.5,-886.5 457.75,-886.5 457.75,-932\"/>\n",
       "<polygon fill=\"none\" stroke=\"black\" points=\"158.5,-886.5 158.5,-932 262.25,-932 262.25,-886.5 158.5,-886.5\"/>\n",
       "<text text-anchor=\"start\" x=\"163.5\" y=\"-912.5\" font-family=\"Linux libertine\" font-size=\"10.00\">MultiheadAttention</text>\n",
       "<text text-anchor=\"start\" x=\"192\" y=\"-899.75\" font-family=\"Linux libertine\" font-size=\"10.00\">depth:3</text>\n",
       "<polygon fill=\"none\" stroke=\"black\" points=\"262.25,-909.25 262.25,-932 309.75,-932 309.75,-909.25 262.25,-909.25\"/>\n",
       "<text text-anchor=\"start\" x=\"272.12\" y=\"-917.5\" font-family=\"Linux libertine\" font-size=\"10.00\">input:</text>\n",
       "<polygon fill=\"none\" stroke=\"black\" points=\"309.75,-909.25 309.75,-932 457.75,-932 457.75,-909.25 309.75,-909.25\"/>\n",
       "<text text-anchor=\"start\" x=\"342.5\" y=\"-917.5\" font-family=\"Linux libertine\" font-size=\"10.00\">3 x (50, 144, 64) </text>\n",
       "<polygon fill=\"none\" stroke=\"black\" points=\"262.25,-886.5 262.25,-909.25 309.75,-909.25 309.75,-886.5 262.25,-886.5\"/>\n",
       "<text text-anchor=\"start\" x=\"267.25\" y=\"-894.75\" font-family=\"Linux libertine\" font-size=\"10.00\">output: </text>\n",
       "<polygon fill=\"none\" stroke=\"black\" points=\"309.75,-886.5 309.75,-909.25 457.75,-909.25 457.75,-886.5 309.75,-886.5\"/>\n",
       "<text text-anchor=\"start\" x=\"314.75\" y=\"-894.75\" font-family=\"Linux libertine\" font-size=\"10.00\">(50, 144, 64), (50, 144, 144) </text>\n",
       "</g>\n",
       "<!-- 46&#45;&gt;47 -->\n",
       "<g id=\"edge58\" class=\"edge\">\n",
       "<title>46&#45;&gt;47</title>\n",
       "<path fill=\"none\" stroke=\"black\" d=\"M287.05,-968.03C289.89,-960.23 293.17,-951.25 296.27,-942.74\"/>\n",
       "<polygon fill=\"black\" stroke=\"black\" points=\"299.55,-943.96 299.69,-933.37 292.98,-941.56 299.55,-943.96\"/>\n",
       "</g>\n",
       "<!-- 47&#45;&gt;48 -->\n",
       "<g id=\"edge59\" class=\"edge\">\n",
       "<title>47&#45;&gt;48</title>\n",
       "<path fill=\"none\" stroke=\"black\" d=\"M283.81,-886.53C273.99,-877.76 262.52,-867.52 251.99,-858.1\"/>\n",
       "<polygon fill=\"black\" stroke=\"black\" points=\"254.33,-855.51 244.54,-851.46 249.67,-860.73 254.33,-855.51\"/>\n",
       "</g>\n",
       "<!-- 49 -->\n",
       "<g id=\"node50\" class=\"node\">\n",
       "<title>49</title>\n",
       "<polygon fill=\"#c1ffc1\" stroke=\"none\" points=\"373.12,-769 187.12,-769 187.12,-723.5 373.12,-723.5 373.12,-769\"/>\n",
       "<polygon fill=\"none\" stroke=\"black\" points=\"187.12,-723.5 187.12,-769 251.12,-769 251.12,-723.5 187.12,-723.5\"/>\n",
       "<text text-anchor=\"start\" x=\"192.12\" y=\"-749.5\" font-family=\"Linux libertine\" font-size=\"10.00\">LayerNorm</text>\n",
       "<text text-anchor=\"start\" x=\"200.75\" y=\"-736.75\" font-family=\"Linux libertine\" font-size=\"10.00\">depth:3</text>\n",
       "<polygon fill=\"none\" stroke=\"black\" points=\"251.12,-746.25 251.12,-769 298.62,-769 298.62,-746.25 251.12,-746.25\"/>\n",
       "<text text-anchor=\"start\" x=\"261\" y=\"-754.5\" font-family=\"Linux libertine\" font-size=\"10.00\">input:</text>\n",
       "<polygon fill=\"none\" stroke=\"black\" points=\"298.62,-746.25 298.62,-769 373.12,-769 373.12,-746.25 298.62,-746.25\"/>\n",
       "<text text-anchor=\"start\" x=\"303.62\" y=\"-754.5\" font-family=\"Linux libertine\" font-size=\"10.00\">(50, 144, 64) </text>\n",
       "<polygon fill=\"none\" stroke=\"black\" points=\"251.12,-723.5 251.12,-746.25 298.62,-746.25 298.62,-723.5 251.12,-723.5\"/>\n",
       "<text text-anchor=\"start\" x=\"256.12\" y=\"-731.75\" font-family=\"Linux libertine\" font-size=\"10.00\">output: </text>\n",
       "<polygon fill=\"none\" stroke=\"black\" points=\"298.62,-723.5 298.62,-746.25 373.12,-746.25 373.12,-723.5 298.62,-723.5\"/>\n",
       "<text text-anchor=\"start\" x=\"303.62\" y=\"-731.75\" font-family=\"Linux libertine\" font-size=\"10.00\">(50, 144, 64) </text>\n",
       "</g>\n",
       "<!-- 48&#45;&gt;49 -->\n",
       "<g id=\"edge60\" class=\"edge\">\n",
       "<title>48&#45;&gt;49</title>\n",
       "<path fill=\"none\" stroke=\"black\" d=\"M235.79,-805.03C242.18,-796.7 249.6,-787.04 256.51,-778.02\"/>\n",
       "<polygon fill=\"black\" stroke=\"black\" points=\"259.24,-780.21 262.56,-770.15 253.69,-775.95 259.24,-780.21\"/>\n",
       "</g>\n",
       "<!-- 53 -->\n",
       "<g id=\"node54\" class=\"node\">\n",
       "<title>53</title>\n",
       "<polygon fill=\"aliceblue\" stroke=\"none\" points=\"308.5,-443 121.75,-443 121.75,-397.5 308.5,-397.5 308.5,-443\"/>\n",
       "<polygon fill=\"none\" stroke=\"black\" points=\"121.75,-397.5 121.75,-443 168.5,-443 168.5,-397.5 121.75,-397.5\"/>\n",
       "<text text-anchor=\"start\" x=\"136.12\" y=\"-423.5\" font-family=\"Linux libertine\" font-size=\"10.00\">add</text>\n",
       "<text text-anchor=\"start\" x=\"126.75\" y=\"-410.75\" font-family=\"Linux libertine\" font-size=\"10.00\">depth:3</text>\n",
       "<polygon fill=\"none\" stroke=\"black\" points=\"168.5,-420.25 168.5,-443 216,-443 216,-420.25 168.5,-420.25\"/>\n",
       "<text text-anchor=\"start\" x=\"178.38\" y=\"-428.5\" font-family=\"Linux libertine\" font-size=\"10.00\">input:</text>\n",
       "<polygon fill=\"none\" stroke=\"black\" points=\"216,-420.25 216,-443 308.5,-443 308.5,-420.25 216,-420.25\"/>\n",
       "<text text-anchor=\"start\" x=\"221\" y=\"-428.5\" font-family=\"Linux libertine\" font-size=\"10.00\">2 x (50, 144, 64) </text>\n",
       "<polygon fill=\"none\" stroke=\"black\" points=\"168.5,-397.5 168.5,-420.25 216,-420.25 216,-397.5 168.5,-397.5\"/>\n",
       "<text text-anchor=\"start\" x=\"173.5\" y=\"-405.75\" font-family=\"Linux libertine\" font-size=\"10.00\">output: </text>\n",
       "<polygon fill=\"none\" stroke=\"black\" points=\"216,-397.5 216,-420.25 308.5,-420.25 308.5,-397.5 216,-397.5\"/>\n",
       "<text text-anchor=\"start\" x=\"230\" y=\"-405.75\" font-family=\"Linux libertine\" font-size=\"10.00\">(50, 144, 64) </text>\n",
       "</g>\n",
       "<!-- 48&#45;&gt;53 -->\n",
       "<g id=\"edge61\" class=\"edge\">\n",
       "<title>48&#45;&gt;53</title>\n",
       "<path fill=\"none\" stroke=\"black\" d=\"M200.31,-805.08C192.31,-794.78 183.58,-781.91 178.12,-769 159.97,-726.02 159.12,-712.41 159.12,-665.75 159.12,-665.75 159.12,-665.75 159.12,-582.25 159.12,-535.51 162.03,-522.5 179.12,-479 182.69,-469.93 187.69,-460.71 192.84,-452.38\"/>\n",
       "<polygon fill=\"black\" stroke=\"black\" points=\"195.77,-454.29 198.27,-444 189.9,-450.48 195.77,-454.29\"/>\n",
       "</g>\n",
       "<!-- 50 -->\n",
       "<g id=\"node51\" class=\"node\">\n",
       "<title>50</title>\n",
       "<polygon fill=\"#c1ffc1\" stroke=\"none\" points=\"362.5,-687.5 193.75,-687.5 193.75,-642 362.5,-642 362.5,-687.5\"/>\n",
       "<polygon fill=\"none\" stroke=\"black\" points=\"193.75,-642 193.75,-687.5 240.5,-687.5 240.5,-642 193.75,-642\"/>\n",
       "<text text-anchor=\"start\" x=\"202.12\" y=\"-668\" font-family=\"Linux libertine\" font-size=\"10.00\">Linear</text>\n",
       "<text text-anchor=\"start\" x=\"198.75\" y=\"-655.25\" font-family=\"Linux libertine\" font-size=\"10.00\">depth:3</text>\n",
       "<polygon fill=\"none\" stroke=\"black\" points=\"240.5,-664.75 240.5,-687.5 288,-687.5 288,-664.75 240.5,-664.75\"/>\n",
       "<text text-anchor=\"start\" x=\"250.38\" y=\"-673\" font-family=\"Linux libertine\" font-size=\"10.00\">input:</text>\n",
       "<polygon fill=\"none\" stroke=\"black\" points=\"288,-664.75 288,-687.5 362.5,-687.5 362.5,-664.75 288,-664.75\"/>\n",
       "<text text-anchor=\"start\" x=\"293\" y=\"-673\" font-family=\"Linux libertine\" font-size=\"10.00\">(50, 144, 64) </text>\n",
       "<polygon fill=\"none\" stroke=\"black\" points=\"240.5,-642 240.5,-664.75 288,-664.75 288,-642 240.5,-642\"/>\n",
       "<text text-anchor=\"start\" x=\"245.5\" y=\"-650.25\" font-family=\"Linux libertine\" font-size=\"10.00\">output: </text>\n",
       "<polygon fill=\"none\" stroke=\"black\" points=\"288,-642 288,-664.75 362.5,-664.75 362.5,-642 288,-642\"/>\n",
       "<text text-anchor=\"start\" x=\"293\" y=\"-650.25\" font-family=\"Linux libertine\" font-size=\"10.00\">(50, 144, 64) </text>\n",
       "</g>\n",
       "<!-- 49&#45;&gt;50 -->\n",
       "<g id=\"edge62\" class=\"edge\">\n",
       "<title>49&#45;&gt;50</title>\n",
       "<path fill=\"none\" stroke=\"black\" d=\"M279.58,-723.53C279.39,-715.9 279.17,-707.15 278.96,-698.81\"/>\n",
       "<polygon fill=\"black\" stroke=\"black\" points=\"282.46,-698.87 278.71,-688.96 275.46,-699.05 282.46,-698.87\"/>\n",
       "</g>\n",
       "<!-- 51 -->\n",
       "<g id=\"node52\" class=\"node\">\n",
       "<title>51</title>\n",
       "<polygon fill=\"#c1ffc1\" stroke=\"none\" points=\"361.62,-606 190.62,-606 190.62,-560.5 361.62,-560.5 361.62,-606\"/>\n",
       "<polygon fill=\"none\" stroke=\"black\" points=\"190.62,-560.5 190.62,-606 239.62,-606 239.62,-560.5 190.62,-560.5\"/>\n",
       "<text text-anchor=\"start\" x=\"195.62\" y=\"-586.5\" font-family=\"Linux libertine\" font-size=\"10.00\">Dropout</text>\n",
       "<text text-anchor=\"start\" x=\"196.75\" y=\"-573.75\" font-family=\"Linux libertine\" font-size=\"10.00\">depth:3</text>\n",
       "<polygon fill=\"none\" stroke=\"black\" points=\"239.62,-583.25 239.62,-606 287.12,-606 287.12,-583.25 239.62,-583.25\"/>\n",
       "<text text-anchor=\"start\" x=\"249.5\" y=\"-591.5\" font-family=\"Linux libertine\" font-size=\"10.00\">input:</text>\n",
       "<polygon fill=\"none\" stroke=\"black\" points=\"287.12,-583.25 287.12,-606 361.62,-606 361.62,-583.25 287.12,-583.25\"/>\n",
       "<text text-anchor=\"start\" x=\"292.12\" y=\"-591.5\" font-family=\"Linux libertine\" font-size=\"10.00\">(50, 144, 64) </text>\n",
       "<polygon fill=\"none\" stroke=\"black\" points=\"239.62,-560.5 239.62,-583.25 287.12,-583.25 287.12,-560.5 239.62,-560.5\"/>\n",
       "<text text-anchor=\"start\" x=\"244.62\" y=\"-568.75\" font-family=\"Linux libertine\" font-size=\"10.00\">output: </text>\n",
       "<polygon fill=\"none\" stroke=\"black\" points=\"287.12,-560.5 287.12,-583.25 361.62,-583.25 361.62,-560.5 287.12,-560.5\"/>\n",
       "<text text-anchor=\"start\" x=\"292.12\" y=\"-568.75\" font-family=\"Linux libertine\" font-size=\"10.00\">(50, 144, 64) </text>\n",
       "</g>\n",
       "<!-- 50&#45;&gt;51 -->\n",
       "<g id=\"edge63\" class=\"edge\">\n",
       "<title>50&#45;&gt;51</title>\n",
       "<path fill=\"none\" stroke=\"black\" d=\"M277.58,-642.03C277.39,-634.4 277.17,-625.65 276.96,-617.31\"/>\n",
       "<polygon fill=\"black\" stroke=\"black\" points=\"280.46,-617.37 276.71,-607.46 273.46,-617.55 280.46,-617.37\"/>\n",
       "</g>\n",
       "<!-- 52 -->\n",
       "<g id=\"node53\" class=\"node\">\n",
       "<title>52</title>\n",
       "<polygon fill=\"#c1ffc1\" stroke=\"none\" points=\"356.5,-524.5 187.75,-524.5 187.75,-479 356.5,-479 356.5,-524.5\"/>\n",
       "<polygon fill=\"none\" stroke=\"black\" points=\"187.75,-479 187.75,-524.5 234.5,-524.5 234.5,-479 187.75,-479\"/>\n",
       "<text text-anchor=\"start\" x=\"198\" y=\"-505\" font-family=\"Linux libertine\" font-size=\"10.00\">GELU</text>\n",
       "<text text-anchor=\"start\" x=\"192.75\" y=\"-492.25\" font-family=\"Linux libertine\" font-size=\"10.00\">depth:3</text>\n",
       "<polygon fill=\"none\" stroke=\"black\" points=\"234.5,-501.75 234.5,-524.5 282,-524.5 282,-501.75 234.5,-501.75\"/>\n",
       "<text text-anchor=\"start\" x=\"244.38\" y=\"-510\" font-family=\"Linux libertine\" font-size=\"10.00\">input:</text>\n",
       "<polygon fill=\"none\" stroke=\"black\" points=\"282,-501.75 282,-524.5 356.5,-524.5 356.5,-501.75 282,-501.75\"/>\n",
       "<text text-anchor=\"start\" x=\"287\" y=\"-510\" font-family=\"Linux libertine\" font-size=\"10.00\">(50, 144, 64) </text>\n",
       "<polygon fill=\"none\" stroke=\"black\" points=\"234.5,-479 234.5,-501.75 282,-501.75 282,-479 234.5,-479\"/>\n",
       "<text text-anchor=\"start\" x=\"239.5\" y=\"-487.25\" font-family=\"Linux libertine\" font-size=\"10.00\">output: </text>\n",
       "<polygon fill=\"none\" stroke=\"black\" points=\"282,-479 282,-501.75 356.5,-501.75 356.5,-479 282,-479\"/>\n",
       "<text text-anchor=\"start\" x=\"287\" y=\"-487.25\" font-family=\"Linux libertine\" font-size=\"10.00\">(50, 144, 64) </text>\n",
       "</g>\n",
       "<!-- 51&#45;&gt;52 -->\n",
       "<g id=\"edge64\" class=\"edge\">\n",
       "<title>51&#45;&gt;52</title>\n",
       "<path fill=\"none\" stroke=\"black\" d=\"M275.03,-560.53C274.65,-552.9 274.21,-544.15 273.79,-535.81\"/>\n",
       "<polygon fill=\"black\" stroke=\"black\" points=\"277.29,-535.77 273.29,-525.96 270.3,-536.12 277.29,-535.77\"/>\n",
       "</g>\n",
       "<!-- 52&#45;&gt;53 -->\n",
       "<g id=\"edge65\" class=\"edge\">\n",
       "<title>52&#45;&gt;53</title>\n",
       "<path fill=\"none\" stroke=\"black\" d=\"M256.55,-479.03C250.58,-470.7 243.65,-461.04 237.19,-452.02\"/>\n",
       "<polygon fill=\"black\" stroke=\"black\" points=\"240.23,-450.27 231.56,-444.18 234.55,-454.34 240.23,-450.27\"/>\n",
       "</g>\n",
       "<!-- 54 -->\n",
       "<g id=\"node55\" class=\"node\">\n",
       "<title>54</title>\n",
       "<polygon fill=\"aliceblue\" stroke=\"none\" points=\"301.75,-361.5 128.5,-361.5 128.5,-316 301.75,-316 301.75,-361.5\"/>\n",
       "<polygon fill=\"none\" stroke=\"black\" points=\"128.5,-316 128.5,-361.5 179.75,-361.5 179.75,-316 128.5,-316\"/>\n",
       "<text text-anchor=\"start\" x=\"133.5\" y=\"-342\" font-family=\"Linux libertine\" font-size=\"10.00\">permute</text>\n",
       "<text text-anchor=\"start\" x=\"135.75\" y=\"-329.25\" font-family=\"Linux libertine\" font-size=\"10.00\">depth:1</text>\n",
       "<polygon fill=\"none\" stroke=\"black\" points=\"179.75,-338.75 179.75,-361.5 227.25,-361.5 227.25,-338.75 179.75,-338.75\"/>\n",
       "<text text-anchor=\"start\" x=\"189.62\" y=\"-347\" font-family=\"Linux libertine\" font-size=\"10.00\">input:</text>\n",
       "<polygon fill=\"none\" stroke=\"black\" points=\"227.25,-338.75 227.25,-361.5 301.75,-361.5 301.75,-338.75 227.25,-338.75\"/>\n",
       "<text text-anchor=\"start\" x=\"232.25\" y=\"-347\" font-family=\"Linux libertine\" font-size=\"10.00\">(50, 144, 64) </text>\n",
       "<polygon fill=\"none\" stroke=\"black\" points=\"179.75,-316 179.75,-338.75 227.25,-338.75 227.25,-316 179.75,-316\"/>\n",
       "<text text-anchor=\"start\" x=\"184.75\" y=\"-324.25\" font-family=\"Linux libertine\" font-size=\"10.00\">output: </text>\n",
       "<polygon fill=\"none\" stroke=\"black\" points=\"227.25,-316 227.25,-338.75 301.75,-338.75 301.75,-316 227.25,-316\"/>\n",
       "<text text-anchor=\"start\" x=\"232.25\" y=\"-324.25\" font-family=\"Linux libertine\" font-size=\"10.00\">(50, 64, 144) </text>\n",
       "</g>\n",
       "<!-- 53&#45;&gt;54 -->\n",
       "<g id=\"edge66\" class=\"edge\">\n",
       "<title>53&#45;&gt;54</title>\n",
       "<path fill=\"none\" stroke=\"black\" d=\"M215.12,-397.53C215.12,-389.9 215.12,-381.15 215.12,-372.81\"/>\n",
       "<polygon fill=\"black\" stroke=\"black\" points=\"218.63,-372.96 215.13,-362.96 211.63,-372.96 218.63,-372.96\"/>\n",
       "</g>\n",
       "<!-- 55 -->\n",
       "<g id=\"node56\" class=\"node\">\n",
       "<title>55</title>\n",
       "<polygon fill=\"#c1ffc1\" stroke=\"none\" points=\"328.38,-280 101.88,-280 101.88,-234.5 328.38,-234.5 328.38,-280\"/>\n",
       "<polygon fill=\"none\" stroke=\"black\" points=\"101.88,-234.5 101.88,-280 206.38,-280 206.38,-234.5 101.88,-234.5\"/>\n",
       "<text text-anchor=\"start\" x=\"106.88\" y=\"-260.5\" font-family=\"Linux libertine\" font-size=\"10.00\">AdaptiveAvgPool1d</text>\n",
       "<text text-anchor=\"start\" x=\"135.75\" y=\"-247.75\" font-family=\"Linux libertine\" font-size=\"10.00\">depth:1</text>\n",
       "<polygon fill=\"none\" stroke=\"black\" points=\"206.38,-257.25 206.38,-280 253.88,-280 253.88,-257.25 206.38,-257.25\"/>\n",
       "<text text-anchor=\"start\" x=\"216.25\" y=\"-265.5\" font-family=\"Linux libertine\" font-size=\"10.00\">input:</text>\n",
       "<polygon fill=\"none\" stroke=\"black\" points=\"253.88,-257.25 253.88,-280 328.38,-280 328.38,-257.25 253.88,-257.25\"/>\n",
       "<text text-anchor=\"start\" x=\"258.88\" y=\"-265.5\" font-family=\"Linux libertine\" font-size=\"10.00\">(50, 64, 144) </text>\n",
       "<polygon fill=\"none\" stroke=\"black\" points=\"206.38,-234.5 206.38,-257.25 253.88,-257.25 253.88,-234.5 206.38,-234.5\"/>\n",
       "<text text-anchor=\"start\" x=\"211.38\" y=\"-242.75\" font-family=\"Linux libertine\" font-size=\"10.00\">output: </text>\n",
       "<polygon fill=\"none\" stroke=\"black\" points=\"253.88,-234.5 253.88,-257.25 328.38,-257.25 328.38,-234.5 253.88,-234.5\"/>\n",
       "<text text-anchor=\"start\" x=\"264.88\" y=\"-242.75\" font-family=\"Linux libertine\" font-size=\"10.00\">(50, 64, 1) </text>\n",
       "</g>\n",
       "<!-- 54&#45;&gt;55 -->\n",
       "<g id=\"edge67\" class=\"edge\">\n",
       "<title>54&#45;&gt;55</title>\n",
       "<path fill=\"none\" stroke=\"black\" d=\"M215.12,-316.03C215.12,-308.4 215.12,-299.65 215.12,-291.31\"/>\n",
       "<polygon fill=\"black\" stroke=\"black\" points=\"218.63,-291.46 215.13,-281.46 211.63,-291.46 218.63,-291.46\"/>\n",
       "</g>\n",
       "<!-- 56 -->\n",
       "<g id=\"node57\" class=\"node\">\n",
       "<title>56</title>\n",
       "<polygon fill=\"aliceblue\" stroke=\"none\" points=\"295.38,-198.5 134.88,-198.5 134.88,-153 295.38,-153 295.38,-198.5\"/>\n",
       "<polygon fill=\"none\" stroke=\"black\" points=\"134.88,-153 134.88,-198.5 185.38,-198.5 185.38,-153 134.88,-153\"/>\n",
       "<text text-anchor=\"start\" x=\"139.88\" y=\"-179\" font-family=\"Linux libertine\" font-size=\"10.00\">squeeze</text>\n",
       "<text text-anchor=\"start\" x=\"141.75\" y=\"-166.25\" font-family=\"Linux libertine\" font-size=\"10.00\">depth:1</text>\n",
       "<polygon fill=\"none\" stroke=\"black\" points=\"185.38,-175.75 185.38,-198.5 232.88,-198.5 232.88,-175.75 185.38,-175.75\"/>\n",
       "<text text-anchor=\"start\" x=\"195.25\" y=\"-184\" font-family=\"Linux libertine\" font-size=\"10.00\">input:</text>\n",
       "<polygon fill=\"none\" stroke=\"black\" points=\"232.88,-175.75 232.88,-198.5 295.38,-198.5 295.38,-175.75 232.88,-175.75\"/>\n",
       "<text text-anchor=\"start\" x=\"237.88\" y=\"-184\" font-family=\"Linux libertine\" font-size=\"10.00\">(50, 64, 1) </text>\n",
       "<polygon fill=\"none\" stroke=\"black\" points=\"185.38,-153 185.38,-175.75 232.88,-175.75 232.88,-153 185.38,-153\"/>\n",
       "<text text-anchor=\"start\" x=\"190.38\" y=\"-161.25\" font-family=\"Linux libertine\" font-size=\"10.00\">output: </text>\n",
       "<polygon fill=\"none\" stroke=\"black\" points=\"232.88,-153 232.88,-175.75 295.38,-175.75 295.38,-153 232.88,-153\"/>\n",
       "<text text-anchor=\"start\" x=\"243.88\" y=\"-161.25\" font-family=\"Linux libertine\" font-size=\"10.00\">(50, 64) </text>\n",
       "</g>\n",
       "<!-- 55&#45;&gt;56 -->\n",
       "<g id=\"edge68\" class=\"edge\">\n",
       "<title>55&#45;&gt;56</title>\n",
       "<path fill=\"none\" stroke=\"black\" d=\"M215.12,-234.53C215.12,-226.9 215.12,-218.15 215.12,-209.81\"/>\n",
       "<polygon fill=\"black\" stroke=\"black\" points=\"218.63,-209.96 215.13,-199.96 211.63,-209.96 218.63,-209.96\"/>\n",
       "</g>\n",
       "<!-- 57 -->\n",
       "<g id=\"node58\" class=\"node\">\n",
       "<title>57</title>\n",
       "<polygon fill=\"#c1ffc1\" stroke=\"none\" points=\"287.5,-117 142.75,-117 142.75,-71.5 287.5,-71.5 287.5,-117\"/>\n",
       "<polygon fill=\"none\" stroke=\"black\" points=\"142.75,-71.5 142.75,-117 189.5,-117 189.5,-71.5 142.75,-71.5\"/>\n",
       "<text text-anchor=\"start\" x=\"151.12\" y=\"-97.5\" font-family=\"Linux libertine\" font-size=\"10.00\">Linear</text>\n",
       "<text text-anchor=\"start\" x=\"147.75\" y=\"-84.75\" font-family=\"Linux libertine\" font-size=\"10.00\">depth:1</text>\n",
       "<polygon fill=\"none\" stroke=\"black\" points=\"189.5,-94.25 189.5,-117 237,-117 237,-94.25 189.5,-94.25\"/>\n",
       "<text text-anchor=\"start\" x=\"199.38\" y=\"-102.5\" font-family=\"Linux libertine\" font-size=\"10.00\">input:</text>\n",
       "<polygon fill=\"none\" stroke=\"black\" points=\"237,-94.25 237,-117 287.5,-117 287.5,-94.25 237,-94.25\"/>\n",
       "<text text-anchor=\"start\" x=\"242\" y=\"-102.5\" font-family=\"Linux libertine\" font-size=\"10.00\">(50, 64) </text>\n",
       "<polygon fill=\"none\" stroke=\"black\" points=\"189.5,-71.5 189.5,-94.25 237,-94.25 237,-71.5 189.5,-71.5\"/>\n",
       "<text text-anchor=\"start\" x=\"194.5\" y=\"-79.75\" font-family=\"Linux libertine\" font-size=\"10.00\">output: </text>\n",
       "<polygon fill=\"none\" stroke=\"black\" points=\"237,-71.5 237,-94.25 287.5,-94.25 287.5,-71.5 237,-71.5\"/>\n",
       "<text text-anchor=\"start\" x=\"245\" y=\"-79.75\" font-family=\"Linux libertine\" font-size=\"10.00\">(50, 1) </text>\n",
       "</g>\n",
       "<!-- 56&#45;&gt;57 -->\n",
       "<g id=\"edge69\" class=\"edge\">\n",
       "<title>56&#45;&gt;57</title>\n",
       "<path fill=\"none\" stroke=\"black\" d=\"M215.12,-153.03C215.12,-145.4 215.12,-136.65 215.12,-128.31\"/>\n",
       "<polygon fill=\"black\" stroke=\"black\" points=\"218.63,-128.46 215.13,-118.46 211.63,-128.46 218.63,-128.46\"/>\n",
       "</g>\n",
       "<!-- 58 -->\n",
       "<g id=\"node59\" class=\"node\">\n",
       "<title>58</title>\n",
       "<polygon fill=\"lightyellow\" stroke=\"none\" points=\"273.88,-35.5 156.38,-35.5 156.38,0 273.88,0 273.88,-35.5\"/>\n",
       "<polygon fill=\"none\" stroke=\"black\" points=\"156.38,0 156.38,-35.5 232.38,-35.5 232.38,0 156.38,0\"/>\n",
       "<text text-anchor=\"start\" x=\"161.38\" y=\"-21\" font-family=\"Linux libertine\" font-size=\"10.00\">output&#45;tensor</text>\n",
       "<text text-anchor=\"start\" x=\"176\" y=\"-8.25\" font-family=\"Linux libertine\" font-size=\"10.00\">depth:0</text>\n",
       "<polygon fill=\"none\" stroke=\"black\" points=\"232.38,0 232.38,-35.5 273.88,-35.5 273.88,0 232.38,0\"/>\n",
       "<text text-anchor=\"start\" x=\"237.38\" y=\"-14.62\" font-family=\"Linux libertine\" font-size=\"10.00\">(50, 1)</text>\n",
       "</g>\n",
       "<!-- 57&#45;&gt;58 -->\n",
       "<g id=\"edge70\" class=\"edge\">\n",
       "<title>57&#45;&gt;58</title>\n",
       "<path fill=\"none\" stroke=\"black\" d=\"M215.12,-71.7C215.12,-63.85 215.12,-54.85 215.12,-46.54\"/>\n",
       "<polygon fill=\"black\" stroke=\"black\" points=\"218.63,-46.56 215.13,-36.56 211.63,-46.56 218.63,-46.56\"/>\n",
       "</g>\n",
       "</g>\n",
       "</svg>\n"
      ],
      "text/plain": [
       "<graphviz.graphs.Digraph at 0x7f4a2de383e0>"
      ]
     },
     "execution_count": 21,
     "metadata": {},
     "output_type": "execute_result"
    }
   ],
   "source": [
    "model_graph = draw_graph(vit_net, input_size=batch[0].shape,\n",
    "                            hide_inner_tensors=True, hide_module_functions=True,\n",
    "                            expand_nested=False, depth=3)\n",
    "model_graph.visual_graph"
   ]
  },
  {
   "cell_type": "code",
   "execution_count": 22,
   "id": "4831bd03-2b7e-49a7-874a-a857b129a72f",
   "metadata": {},
   "outputs": [
    {
     "name": "stdout",
     "output_type": "stream",
     "text": [
      "✅ Downloaded model weight file: checkpoints/2000_0.2_vit_nam_model_weights.pth from s3!\n"
     ]
    }
   ],
   "source": [
    "s3 = boto3.client('s3')\n",
    "# model_filename = f\"{N}_{VAL_SPLIT}_vit_nam_model_weights.pth\"\n",
    "# model_key = f\"checkpoints/{model_filename}\"\n",
    "# download_path = f\"/tmp/{model_filename}\"\n",
    "\n",
    "model_key = 'vit_nam_model_weights.pth'\n",
    "download_path = 'vit_nam_model_weights.pth'\n",
    "s3.download_file(BUCKET_NAME, model_key, download_path)\n",
    "print(f\"✅ Downloaded model weight file: {model_key} from s3!\")"
   ]
  },
  {
   "cell_type": "code",
   "execution_count": 23,
   "id": "7621ca57-8bc6-41cb-967b-b81dbd46dbae",
   "metadata": {},
   "outputs": [
    {
     "data": {
      "text/plain": [
       "ViTNetwork(\n",
       "  (network_metrics): ModuleDict(\n",
       "    (acc): BinaryAccuracy()\n",
       "  )\n",
       "  (network_loss): BCEWithLogitsLoss()\n",
       "  (patches): Conv2d(3, 64, kernel_size=(16, 16), stride=(16, 16), bias=False)\n",
       "  (position_embedding): SinePositionEmbedding()\n",
       "  (att): NAM(\n",
       "    (channel_att): Channel_Att(\n",
       "      (bn): LayerNorm((64,), eps=1e-05, elementwise_affine=True)\n",
       "    )\n",
       "    (spatial_att): Spatial_Att(\n",
       "      (conv1d): Conv1d(2, 1, kernel_size=(3,), stride=(1,), padding=(1,), bias=False)\n",
       "      (sigmoid): Sigmoid()\n",
       "    )\n",
       "  )\n",
       "  (transformer_blocks): Sequential(\n",
       "    (0): TransformerBlock(\n",
       "      (layer_norm1): LayerNorm((64,), eps=1e-05, elementwise_affine=True)\n",
       "      (layer_norm2): LayerNorm((64,), eps=1e-05, elementwise_affine=True)\n",
       "      (dropout): Dropout(p=0.1, inplace=False)\n",
       "      (activation): GELU(approximate='none')\n",
       "      (linear): Linear(in_features=64, out_features=64, bias=True)\n",
       "      (mha): MultiheadAttention(\n",
       "        (out_proj): NonDynamicallyQuantizableLinear(in_features=64, out_features=64, bias=True)\n",
       "      )\n",
       "    )\n",
       "    (1): TransformerBlock(\n",
       "      (layer_norm1): LayerNorm((64,), eps=1e-05, elementwise_affine=True)\n",
       "      (layer_norm2): LayerNorm((64,), eps=1e-05, elementwise_affine=True)\n",
       "      (dropout): Dropout(p=0.1, inplace=False)\n",
       "      (activation): GELU(approximate='none')\n",
       "      (linear): Linear(in_features=64, out_features=64, bias=True)\n",
       "      (mha): MultiheadAttention(\n",
       "        (out_proj): NonDynamicallyQuantizableLinear(in_features=64, out_features=64, bias=True)\n",
       "      )\n",
       "    )\n",
       "    (2): TransformerBlock(\n",
       "      (layer_norm1): LayerNorm((64,), eps=1e-05, elementwise_affine=True)\n",
       "      (layer_norm2): LayerNorm((64,), eps=1e-05, elementwise_affine=True)\n",
       "      (dropout): Dropout(p=0.1, inplace=False)\n",
       "      (activation): GELU(approximate='none')\n",
       "      (linear): Linear(in_features=64, out_features=64, bias=True)\n",
       "      (mha): MultiheadAttention(\n",
       "        (out_proj): NonDynamicallyQuantizableLinear(in_features=64, out_features=64, bias=True)\n",
       "      )\n",
       "    )\n",
       "    (3): TransformerBlock(\n",
       "      (layer_norm1): LayerNorm((64,), eps=1e-05, elementwise_affine=True)\n",
       "      (layer_norm2): LayerNorm((64,), eps=1e-05, elementwise_affine=True)\n",
       "      (dropout): Dropout(p=0.1, inplace=False)\n",
       "      (activation): GELU(approximate='none')\n",
       "      (linear): Linear(in_features=64, out_features=64, bias=True)\n",
       "      (mha): MultiheadAttention(\n",
       "        (out_proj): NonDynamicallyQuantizableLinear(in_features=64, out_features=64, bias=True)\n",
       "      )\n",
       "    )\n",
       "  )\n",
       "  (pooling): AdaptiveAvgPool1d(output_size=1)\n",
       "  (linear): Linear(in_features=64, out_features=1, bias=True)\n",
       ")"
      ]
     },
     "execution_count": 23,
     "metadata": {},
     "output_type": "execute_result"
    }
   ],
   "source": [
    "checkpoint = torch.load(download_path)\n",
    "checkpoint['linear.weight'] = checkpoint['linear.weight'][:1, :]\n",
    "checkpoint['linear.bias'] = checkpoint['linear.bias'][:1]\n",
    "vit_net.load_state_dict(checkpoint)\n",
    "vit_net.eval()"
   ]
  },
  {
   "cell_type": "code",
   "execution_count": 24,
   "id": "c4ec8cb9-1b68-404a-8fac-aacd22bc721d",
   "metadata": {},
   "outputs": [],
   "source": [
    "logger = pl.loggers.CSVLogger(\"logs\",\n",
    "                              name=\"term\",\n",
    "                              version=\"PTViT_NAM\")"
   ]
  },
  {
   "cell_type": "code",
   "execution_count": null,
   "id": "917e5966-b867-47f8-9444-d8dbe81016c6",
   "metadata": {},
   "outputs": [
    {
     "name": "stderr",
     "output_type": "stream",
     "text": [
      "/home/ec2-user/anaconda3/lib/python3.12/site-packages/torch/cuda/__init__.py:734: UserWarning: Can't initialize NVML\n",
      "  warnings.warn(\"Can't initialize NVML\")\n",
      "You are using the plain ModelCheckpoint callback. Consider using LitModelCheckpoint which with seamless uploading to Model registry.\n",
      "GPU available: False, used: False\n",
      "TPU available: False, using: 0 TPU cores\n",
      "HPU available: False, using: 0 HPUs\n"
     ]
    }
   ],
   "source": [
    "trainer = pl.Trainer(logger= False,\n",
    "                     max_epochs=MAX_EPOCHS,\n",
    "                     enable_progress_bar=True,\n",
    "                     log_every_n_steps=1,\n",
    "                     enable_checkpointing=True,\n",
    "                     callbacks=[\n",
    "                         pl.callbacks.TQDMProgressBar(refresh_rate=50),\n",
    "                         CloudWatchCallback()\n",
    "                     ]\n",
    ")"
   ]
  },
  {
   "cell_type": "code",
   "execution_count": 26,
   "id": "28b43695-0f05-4e01-87b9-9a3822bdb20b",
   "metadata": {},
   "outputs": [
    {
     "name": "stderr",
     "output_type": "stream",
     "text": [
      "/home/ec2-user/anaconda3/lib/python3.12/site-packages/lightning/fabric/loggers/csv_logs.py:268: Experiment logs directory logs/term/PTViT_NAM exists and is not empty. Previous log files in this directory will be deleted when the new ones are saved!\n"
     ]
    },
    {
     "data": {
      "application/vnd.jupyter.widget-view+json": {
       "model_id": "42ea7d25cd104fc3a40e19584a7dc932",
       "version_major": 2,
       "version_minor": 0
      },
      "text/plain": [
       "Validation: |          | 0/? [00:00<?, ?it/s]"
      ]
     },
     "metadata": {},
     "output_type": "display_data"
    },
    {
     "data": {
      "text/html": [
       "<pre style=\"white-space:pre;overflow-x:auto;line-height:normal;font-family:Menlo,'DejaVu Sans Mono',consolas,'Courier New',monospace\">┏━━━━━━━━━━━━━━━━━━━━━━━━━━━┳━━━━━━━━━━━━━━━━━━━━━━━━━━━┓\n",
       "┃<span style=\"font-weight: bold\">      Validate metric      </span>┃<span style=\"font-weight: bold\">       DataLoader 0        </span>┃\n",
       "┡━━━━━━━━━━━━━━━━━━━━━━━━━━━╇━━━━━━━━━━━━━━━━━━━━━━━━━━━┩\n",
       "│<span style=\"color: #008080; text-decoration-color: #008080\">          val_acc          </span>│<span style=\"color: #800080; text-decoration-color: #800080\">    0.4724999964237213     </span>│\n",
       "│<span style=\"color: #008080; text-decoration-color: #008080\">         val_loss          </span>│<span style=\"color: #800080; text-decoration-color: #800080\">    0.8473527431488037     </span>│\n",
       "└───────────────────────────┴───────────────────────────┘\n",
       "</pre>\n"
      ],
      "text/plain": [
       "┏━━━━━━━━━━━━━━━━━━━━━━━━━━━┳━━━━━━━━━━━━━━━━━━━━━━━━━━━┓\n",
       "┃\u001b[1m \u001b[0m\u001b[1m     Validate metric     \u001b[0m\u001b[1m \u001b[0m┃\u001b[1m \u001b[0m\u001b[1m      DataLoader 0       \u001b[0m\u001b[1m \u001b[0m┃\n",
       "┡━━━━━━━━━━━━━━━━━━━━━━━━━━━╇━━━━━━━━━━━━━━━━━━━━━━━━━━━┩\n",
       "│\u001b[36m \u001b[0m\u001b[36m         val_acc         \u001b[0m\u001b[36m \u001b[0m│\u001b[35m \u001b[0m\u001b[35m   0.4724999964237213    \u001b[0m\u001b[35m \u001b[0m│\n",
       "│\u001b[36m \u001b[0m\u001b[36m        val_loss         \u001b[0m\u001b[36m \u001b[0m│\u001b[35m \u001b[0m\u001b[35m   0.8473527431488037    \u001b[0m\u001b[35m \u001b[0m│\n",
       "└───────────────────────────┴───────────────────────────┘\n"
      ]
     },
     "metadata": {},
     "output_type": "display_data"
    },
    {
     "data": {
      "text/plain": [
       "[{'val_acc': 0.4724999964237213, 'val_loss': 0.8473527431488037}]"
      ]
     },
     "execution_count": 26,
     "metadata": {},
     "output_type": "execute_result"
    }
   ],
   "source": [
    "trainer.validate(vit_net, data_module)"
   ]
  },
  {
   "cell_type": "code",
   "execution_count": 27,
   "id": "e893dda7-e48a-4d16-9dd4-2f2665ce9fab",
   "metadata": {},
   "outputs": [
    {
     "name": "stderr",
     "output_type": "stream",
     "text": [
      "/home/ec2-user/anaconda3/lib/python3.12/site-packages/lightning/pytorch/callbacks/model_checkpoint.py:654: Checkpoint directory logs/term/PTViT_NAM/checkpoints exists and is not empty.\n",
      "\n",
      "  | Name               | Type                  | Params | Mode\n",
      "--------------------------------------------------------------------\n",
      "0 | network_metrics    | ModuleDict            | 0      | eval\n",
      "1 | network_loss       | BCEWithLogitsLoss     | 0      | eval\n",
      "2 | patches            | Conv2d                | 49.2 K | eval\n",
      "3 | position_embedding | SinePositionEmbedding | 0      | eval\n",
      "4 | att                | NAM                   | 134    | eval\n",
      "5 | transformer_blocks | Sequential            | 84.2 K | eval\n",
      "6 | pooling            | AdaptiveAvgPool1d     | 0      | eval\n",
      "7 | linear             | Linear                | 65     | eval\n",
      "--------------------------------------------------------------------\n",
      "133 K     Trainable params\n",
      "0         Non-trainable params\n",
      "133 K     Total params\n",
      "0.534     Total estimated model params size (MB)\n",
      "0         Modules in train mode\n",
      "46        Modules in eval mode\n"
     ]
    },
    {
     "data": {
      "application/vnd.jupyter.widget-view+json": {
       "model_id": "ab7283e8c11f415b852675c4ae2b381b",
       "version_major": 2,
       "version_minor": 0
      },
      "text/plain": [
       "Sanity Checking: |          | 0/? [00:00<?, ?it/s]"
      ]
     },
     "metadata": {},
     "output_type": "display_data"
    },
    {
     "data": {
      "application/vnd.jupyter.widget-view+json": {
       "model_id": "67f0f362383743c486d3cff2f374fb60",
       "version_major": 2,
       "version_minor": 0
      },
      "text/plain": [
       "Training: |          | 0/? [00:00<?, ?it/s]"
      ]
     },
     "metadata": {},
     "output_type": "display_data"
    },
    {
     "data": {
      "application/vnd.jupyter.widget-view+json": {
       "model_id": "41f2f9b7510445618ee483ab5ee277bc",
       "version_major": 2,
       "version_minor": 0
      },
      "text/plain": [
       "Validation: |          | 0/? [00:00<?, ?it/s]"
      ]
     },
     "metadata": {},
     "output_type": "display_data"
    },
    {
     "data": {
      "application/vnd.jupyter.widget-view+json": {
       "model_id": "d95b6ad5f6c14442a4aba053c511658a",
       "version_major": 2,
       "version_minor": 0
      },
      "text/plain": [
       "Validation: |          | 0/? [00:00<?, ?it/s]"
      ]
     },
     "metadata": {},
     "output_type": "display_data"
    },
    {
     "data": {
      "application/vnd.jupyter.widget-view+json": {
       "model_id": "65999f52f2a1466b834fe76accbe32ad",
       "version_major": 2,
       "version_minor": 0
      },
      "text/plain": [
       "Validation: |          | 0/? [00:00<?, ?it/s]"
      ]
     },
     "metadata": {},
     "output_type": "display_data"
    },
    {
     "data": {
      "application/vnd.jupyter.widget-view+json": {
       "model_id": "cc2dfdc36fd347c89d99a3979d824455",
       "version_major": 2,
       "version_minor": 0
      },
      "text/plain": [
       "Validation: |          | 0/? [00:00<?, ?it/s]"
      ]
     },
     "metadata": {},
     "output_type": "display_data"
    },
    {
     "data": {
      "application/vnd.jupyter.widget-view+json": {
       "model_id": "27e4f905905d457182186955fc90834c",
       "version_major": 2,
       "version_minor": 0
      },
      "text/plain": [
       "Validation: |          | 0/? [00:00<?, ?it/s]"
      ]
     },
     "metadata": {},
     "output_type": "display_data"
    },
    {
     "data": {
      "application/vnd.jupyter.widget-view+json": {
       "model_id": "c7e55e96cc6143d2b81f7cbc06bf573a",
       "version_major": 2,
       "version_minor": 0
      },
      "text/plain": [
       "Validation: |          | 0/? [00:00<?, ?it/s]"
      ]
     },
     "metadata": {},
     "output_type": "display_data"
    },
    {
     "data": {
      "application/vnd.jupyter.widget-view+json": {
       "model_id": "d866ebadc41d48d789c2526a34c2c025",
       "version_major": 2,
       "version_minor": 0
      },
      "text/plain": [
       "Validation: |          | 0/? [00:00<?, ?it/s]"
      ]
     },
     "metadata": {},
     "output_type": "display_data"
    },
    {
     "data": {
      "application/vnd.jupyter.widget-view+json": {
       "model_id": "af713b76c90041538026e4a05076120b",
       "version_major": 2,
       "version_minor": 0
      },
      "text/plain": [
       "Validation: |          | 0/? [00:00<?, ?it/s]"
      ]
     },
     "metadata": {},
     "output_type": "display_data"
    },
    {
     "data": {
      "application/vnd.jupyter.widget-view+json": {
       "model_id": "ee6a90dd4adb4fcabd30919526cf0ae0",
       "version_major": 2,
       "version_minor": 0
      },
      "text/plain": [
       "Validation: |          | 0/? [00:00<?, ?it/s]"
      ]
     },
     "metadata": {},
     "output_type": "display_data"
    },
    {
     "data": {
      "application/vnd.jupyter.widget-view+json": {
       "model_id": "8de03d8e08d844b1a354310cdcdca090",
       "version_major": 2,
       "version_minor": 0
      },
      "text/plain": [
       "Validation: |          | 0/? [00:00<?, ?it/s]"
      ]
     },
     "metadata": {},
     "output_type": "display_data"
    },
    {
     "data": {
      "application/vnd.jupyter.widget-view+json": {
       "model_id": "4a518a2882cd44049f41acf8d549a51e",
       "version_major": 2,
       "version_minor": 0
      },
      "text/plain": [
       "Validation: |          | 0/? [00:00<?, ?it/s]"
      ]
     },
     "metadata": {},
     "output_type": "display_data"
    },
    {
     "data": {
      "application/vnd.jupyter.widget-view+json": {
       "model_id": "b7258599f0524b7e9963a3ece5af0ca3",
       "version_major": 2,
       "version_minor": 0
      },
      "text/plain": [
       "Validation: |          | 0/? [00:00<?, ?it/s]"
      ]
     },
     "metadata": {},
     "output_type": "display_data"
    },
    {
     "data": {
      "application/vnd.jupyter.widget-view+json": {
       "model_id": "91494df588a843138ca058f027e0dd19",
       "version_major": 2,
       "version_minor": 0
      },
      "text/plain": [
       "Validation: |          | 0/? [00:00<?, ?it/s]"
      ]
     },
     "metadata": {},
     "output_type": "display_data"
    },
    {
     "data": {
      "application/vnd.jupyter.widget-view+json": {
       "model_id": "286098702dd44b5f96fdd9cb9fd8923c",
       "version_major": 2,
       "version_minor": 0
      },
      "text/plain": [
       "Validation: |          | 0/? [00:00<?, ?it/s]"
      ]
     },
     "metadata": {},
     "output_type": "display_data"
    },
    {
     "data": {
      "application/vnd.jupyter.widget-view+json": {
       "model_id": "8adeb77a87a54c979211e13980d83b5a",
       "version_major": 2,
       "version_minor": 0
      },
      "text/plain": [
       "Validation: |          | 0/? [00:00<?, ?it/s]"
      ]
     },
     "metadata": {},
     "output_type": "display_data"
    },
    {
     "data": {
      "application/vnd.jupyter.widget-view+json": {
       "model_id": "b7e5cadbbfce4cda8ca5501001d32b96",
       "version_major": 2,
       "version_minor": 0
      },
      "text/plain": [
       "Validation: |          | 0/? [00:00<?, ?it/s]"
      ]
     },
     "metadata": {},
     "output_type": "display_data"
    },
    {
     "data": {
      "application/vnd.jupyter.widget-view+json": {
       "model_id": "dcffa2fb473944308c59e1acbc903489",
       "version_major": 2,
       "version_minor": 0
      },
      "text/plain": [
       "Validation: |          | 0/? [00:00<?, ?it/s]"
      ]
     },
     "metadata": {},
     "output_type": "display_data"
    },
    {
     "data": {
      "application/vnd.jupyter.widget-view+json": {
       "model_id": "fadce7853df44d6b906d1dce756ac919",
       "version_major": 2,
       "version_minor": 0
      },
      "text/plain": [
       "Validation: |          | 0/? [00:00<?, ?it/s]"
      ]
     },
     "metadata": {},
     "output_type": "display_data"
    },
    {
     "data": {
      "application/vnd.jupyter.widget-view+json": {
       "model_id": "ecc070efcd914edc8418c4d131114c74",
       "version_major": 2,
       "version_minor": 0
      },
      "text/plain": [
       "Validation: |          | 0/? [00:00<?, ?it/s]"
      ]
     },
     "metadata": {},
     "output_type": "display_data"
    },
    {
     "data": {
      "application/vnd.jupyter.widget-view+json": {
       "model_id": "5a83a97e27a2400a94f72bc4ecbc7a0e",
       "version_major": 2,
       "version_minor": 0
      },
      "text/plain": [
       "Validation: |          | 0/? [00:00<?, ?it/s]"
      ]
     },
     "metadata": {},
     "output_type": "display_data"
    },
    {
     "data": {
      "application/vnd.jupyter.widget-view+json": {
       "model_id": "e2ed1528ebf942e58dfc9b9e4d31a7ed",
       "version_major": 2,
       "version_minor": 0
      },
      "text/plain": [
       "Validation: |          | 0/? [00:00<?, ?it/s]"
      ]
     },
     "metadata": {},
     "output_type": "display_data"
    },
    {
     "data": {
      "application/vnd.jupyter.widget-view+json": {
       "model_id": "cbad84ec304d440da89adf27c8d31919",
       "version_major": 2,
       "version_minor": 0
      },
      "text/plain": [
       "Validation: |          | 0/? [00:00<?, ?it/s]"
      ]
     },
     "metadata": {},
     "output_type": "display_data"
    },
    {
     "data": {
      "application/vnd.jupyter.widget-view+json": {
       "model_id": "73687e583dfc42e7b3ff0e8467ecd90f",
       "version_major": 2,
       "version_minor": 0
      },
      "text/plain": [
       "Validation: |          | 0/? [00:00<?, ?it/s]"
      ]
     },
     "metadata": {},
     "output_type": "display_data"
    },
    {
     "data": {
      "application/vnd.jupyter.widget-view+json": {
       "model_id": "fcea496854e540a78fffaa816a80b936",
       "version_major": 2,
       "version_minor": 0
      },
      "text/plain": [
       "Validation: |          | 0/? [00:00<?, ?it/s]"
      ]
     },
     "metadata": {},
     "output_type": "display_data"
    },
    {
     "data": {
      "application/vnd.jupyter.widget-view+json": {
       "model_id": "15151903490547aba5e4073dedca67e1",
       "version_major": 2,
       "version_minor": 0
      },
      "text/plain": [
       "Validation: |          | 0/? [00:00<?, ?it/s]"
      ]
     },
     "metadata": {},
     "output_type": "display_data"
    },
    {
     "data": {
      "application/vnd.jupyter.widget-view+json": {
       "model_id": "ff43939b8d7a4f44a79bc1d0e5466aeb",
       "version_major": 2,
       "version_minor": 0
      },
      "text/plain": [
       "Validation: |          | 0/? [00:00<?, ?it/s]"
      ]
     },
     "metadata": {},
     "output_type": "display_data"
    },
    {
     "data": {
      "application/vnd.jupyter.widget-view+json": {
       "model_id": "d357db10ace54116ac563bffda78bb7b",
       "version_major": 2,
       "version_minor": 0
      },
      "text/plain": [
       "Validation: |          | 0/? [00:00<?, ?it/s]"
      ]
     },
     "metadata": {},
     "output_type": "display_data"
    },
    {
     "data": {
      "application/vnd.jupyter.widget-view+json": {
       "model_id": "e1ecd948309148519d8d7da8b635bc6a",
       "version_major": 2,
       "version_minor": 0
      },
      "text/plain": [
       "Validation: |          | 0/? [00:00<?, ?it/s]"
      ]
     },
     "metadata": {},
     "output_type": "display_data"
    },
    {
     "data": {
      "application/vnd.jupyter.widget-view+json": {
       "model_id": "9cc9a8cbd9664a8f99436f638f652917",
       "version_major": 2,
       "version_minor": 0
      },
      "text/plain": [
       "Validation: |          | 0/? [00:00<?, ?it/s]"
      ]
     },
     "metadata": {},
     "output_type": "display_data"
    },
    {
     "data": {
      "application/vnd.jupyter.widget-view+json": {
       "model_id": "803922c110fb4f57bd10dd965b10b2f7",
       "version_major": 2,
       "version_minor": 0
      },
      "text/plain": [
       "Validation: |          | 0/? [00:00<?, ?it/s]"
      ]
     },
     "metadata": {},
     "output_type": "display_data"
    },
    {
     "data": {
      "application/vnd.jupyter.widget-view+json": {
       "model_id": "821dc81977da421c98059d6dfafacb7f",
       "version_major": 2,
       "version_minor": 0
      },
      "text/plain": [
       "Validation: |          | 0/? [00:00<?, ?it/s]"
      ]
     },
     "metadata": {},
     "output_type": "display_data"
    },
    {
     "data": {
      "application/vnd.jupyter.widget-view+json": {
       "model_id": "b7f9bd1313d444cd8f262a45a66d9ef9",
       "version_major": 2,
       "version_minor": 0
      },
      "text/plain": [
       "Validation: |          | 0/? [00:00<?, ?it/s]"
      ]
     },
     "metadata": {},
     "output_type": "display_data"
    },
    {
     "data": {
      "application/vnd.jupyter.widget-view+json": {
       "model_id": "087b9696f5084dabaf0bb3b71c08051a",
       "version_major": 2,
       "version_minor": 0
      },
      "text/plain": [
       "Validation: |          | 0/? [00:00<?, ?it/s]"
      ]
     },
     "metadata": {},
     "output_type": "display_data"
    },
    {
     "data": {
      "application/vnd.jupyter.widget-view+json": {
       "model_id": "5998ec6ec1704ac89171c665b4f5070b",
       "version_major": 2,
       "version_minor": 0
      },
      "text/plain": [
       "Validation: |          | 0/? [00:00<?, ?it/s]"
      ]
     },
     "metadata": {},
     "output_type": "display_data"
    },
    {
     "data": {
      "application/vnd.jupyter.widget-view+json": {
       "model_id": "da8af6d3a96f48a9851991e0cc2205d7",
       "version_major": 2,
       "version_minor": 0
      },
      "text/plain": [
       "Validation: |          | 0/? [00:00<?, ?it/s]"
      ]
     },
     "metadata": {},
     "output_type": "display_data"
    },
    {
     "data": {
      "application/vnd.jupyter.widget-view+json": {
       "model_id": "0aa17f35ea8f4dff89501da233ced318",
       "version_major": 2,
       "version_minor": 0
      },
      "text/plain": [
       "Validation: |          | 0/? [00:00<?, ?it/s]"
      ]
     },
     "metadata": {},
     "output_type": "display_data"
    },
    {
     "data": {
      "application/vnd.jupyter.widget-view+json": {
       "model_id": "8d3e2f2492bb4455a36dc6e9fc247c99",
       "version_major": 2,
       "version_minor": 0
      },
      "text/plain": [
       "Validation: |          | 0/? [00:00<?, ?it/s]"
      ]
     },
     "metadata": {},
     "output_type": "display_data"
    },
    {
     "data": {
      "application/vnd.jupyter.widget-view+json": {
       "model_id": "e269c05a1e5e4ad38e29b19f261d034c",
       "version_major": 2,
       "version_minor": 0
      },
      "text/plain": [
       "Validation: |          | 0/? [00:00<?, ?it/s]"
      ]
     },
     "metadata": {},
     "output_type": "display_data"
    },
    {
     "data": {
      "application/vnd.jupyter.widget-view+json": {
       "model_id": "16e076d148f24c92b5bed15ac362d0d3",
       "version_major": 2,
       "version_minor": 0
      },
      "text/plain": [
       "Validation: |          | 0/? [00:00<?, ?it/s]"
      ]
     },
     "metadata": {},
     "output_type": "display_data"
    },
    {
     "data": {
      "application/vnd.jupyter.widget-view+json": {
       "model_id": "6fc91375f0174be48103ef8967255337",
       "version_major": 2,
       "version_minor": 0
      },
      "text/plain": [
       "Validation: |          | 0/? [00:00<?, ?it/s]"
      ]
     },
     "metadata": {},
     "output_type": "display_data"
    },
    {
     "data": {
      "application/vnd.jupyter.widget-view+json": {
       "model_id": "d9b07ff547b044a8a6c2dd539ae790a7",
       "version_major": 2,
       "version_minor": 0
      },
      "text/plain": [
       "Validation: |          | 0/? [00:00<?, ?it/s]"
      ]
     },
     "metadata": {},
     "output_type": "display_data"
    },
    {
     "data": {
      "application/vnd.jupyter.widget-view+json": {
       "model_id": "ff6fc99e2d794dcea775744cc2193871",
       "version_major": 2,
       "version_minor": 0
      },
      "text/plain": [
       "Validation: |          | 0/? [00:00<?, ?it/s]"
      ]
     },
     "metadata": {},
     "output_type": "display_data"
    },
    {
     "data": {
      "application/vnd.jupyter.widget-view+json": {
       "model_id": "0df3835d696145dead382213d29e88dc",
       "version_major": 2,
       "version_minor": 0
      },
      "text/plain": [
       "Validation: |          | 0/? [00:00<?, ?it/s]"
      ]
     },
     "metadata": {},
     "output_type": "display_data"
    },
    {
     "data": {
      "application/vnd.jupyter.widget-view+json": {
       "model_id": "f22eab3fec9f4e7da00689b00f1466bc",
       "version_major": 2,
       "version_minor": 0
      },
      "text/plain": [
       "Validation: |          | 0/? [00:00<?, ?it/s]"
      ]
     },
     "metadata": {},
     "output_type": "display_data"
    },
    {
     "data": {
      "application/vnd.jupyter.widget-view+json": {
       "model_id": "7e0d97ef060a40968a5fa72d2e1fe175",
       "version_major": 2,
       "version_minor": 0
      },
      "text/plain": [
       "Validation: |          | 0/? [00:00<?, ?it/s]"
      ]
     },
     "metadata": {},
     "output_type": "display_data"
    },
    {
     "data": {
      "application/vnd.jupyter.widget-view+json": {
       "model_id": "319da381f32441089d208c174e96ca8d",
       "version_major": 2,
       "version_minor": 0
      },
      "text/plain": [
       "Validation: |          | 0/? [00:00<?, ?it/s]"
      ]
     },
     "metadata": {},
     "output_type": "display_data"
    },
    {
     "data": {
      "application/vnd.jupyter.widget-view+json": {
       "model_id": "4e9d526268284f28b0fe5ba41c669359",
       "version_major": 2,
       "version_minor": 0
      },
      "text/plain": [
       "Validation: |          | 0/? [00:00<?, ?it/s]"
      ]
     },
     "metadata": {},
     "output_type": "display_data"
    },
    {
     "data": {
      "application/vnd.jupyter.widget-view+json": {
       "model_id": "af8f791e8e844ffba91b83a44d425f00",
       "version_major": 2,
       "version_minor": 0
      },
      "text/plain": [
       "Validation: |          | 0/? [00:00<?, ?it/s]"
      ]
     },
     "metadata": {},
     "output_type": "display_data"
    },
    {
     "data": {
      "application/vnd.jupyter.widget-view+json": {
       "model_id": "c785843d75cb469b8f881b8e41528bec",
       "version_major": 2,
       "version_minor": 0
      },
      "text/plain": [
       "Validation: |          | 0/? [00:00<?, ?it/s]"
      ]
     },
     "metadata": {},
     "output_type": "display_data"
    },
    {
     "data": {
      "application/vnd.jupyter.widget-view+json": {
       "model_id": "9540747b300843af8d4ade0fff5731b9",
       "version_major": 2,
       "version_minor": 0
      },
      "text/plain": [
       "Validation: |          | 0/? [00:00<?, ?it/s]"
      ]
     },
     "metadata": {},
     "output_type": "display_data"
    },
    {
     "data": {
      "application/vnd.jupyter.widget-view+json": {
       "model_id": "4600320103ea458e983d04415788024a",
       "version_major": 2,
       "version_minor": 0
      },
      "text/plain": [
       "Validation: |          | 0/? [00:00<?, ?it/s]"
      ]
     },
     "metadata": {},
     "output_type": "display_data"
    },
    {
     "data": {
      "application/vnd.jupyter.widget-view+json": {
       "model_id": "e415ed546866473a817e6c61e3d3f7ca",
       "version_major": 2,
       "version_minor": 0
      },
      "text/plain": [
       "Validation: |          | 0/? [00:00<?, ?it/s]"
      ]
     },
     "metadata": {},
     "output_type": "display_data"
    },
    {
     "data": {
      "application/vnd.jupyter.widget-view+json": {
       "model_id": "f8f03fa644024933a24eb73bb38206f3",
       "version_major": 2,
       "version_minor": 0
      },
      "text/plain": [
       "Validation: |          | 0/? [00:00<?, ?it/s]"
      ]
     },
     "metadata": {},
     "output_type": "display_data"
    },
    {
     "data": {
      "application/vnd.jupyter.widget-view+json": {
       "model_id": "57fcd0ea75fc449980bcb72d24226237",
       "version_major": 2,
       "version_minor": 0
      },
      "text/plain": [
       "Validation: |          | 0/? [00:00<?, ?it/s]"
      ]
     },
     "metadata": {},
     "output_type": "display_data"
    },
    {
     "data": {
      "application/vnd.jupyter.widget-view+json": {
       "model_id": "8871f8f884f347bea7cf19de5a702085",
       "version_major": 2,
       "version_minor": 0
      },
      "text/plain": [
       "Validation: |          | 0/? [00:00<?, ?it/s]"
      ]
     },
     "metadata": {},
     "output_type": "display_data"
    },
    {
     "data": {
      "application/vnd.jupyter.widget-view+json": {
       "model_id": "fe38047c7a3a43b0a60d8cc83f134e28",
       "version_major": 2,
       "version_minor": 0
      },
      "text/plain": [
       "Validation: |          | 0/? [00:00<?, ?it/s]"
      ]
     },
     "metadata": {},
     "output_type": "display_data"
    },
    {
     "data": {
      "application/vnd.jupyter.widget-view+json": {
       "model_id": "d0992a1e8b6d4ac8aa46cfffcbef5d08",
       "version_major": 2,
       "version_minor": 0
      },
      "text/plain": [
       "Validation: |          | 0/? [00:00<?, ?it/s]"
      ]
     },
     "metadata": {},
     "output_type": "display_data"
    },
    {
     "data": {
      "application/vnd.jupyter.widget-view+json": {
       "model_id": "e4084829b05e42f28b268bd018cca3c2",
       "version_major": 2,
       "version_minor": 0
      },
      "text/plain": [
       "Validation: |          | 0/? [00:00<?, ?it/s]"
      ]
     },
     "metadata": {},
     "output_type": "display_data"
    },
    {
     "data": {
      "application/vnd.jupyter.widget-view+json": {
       "model_id": "17c9ba8950be4e338d52dd1d0a33b47d",
       "version_major": 2,
       "version_minor": 0
      },
      "text/plain": [
       "Validation: |          | 0/? [00:00<?, ?it/s]"
      ]
     },
     "metadata": {},
     "output_type": "display_data"
    },
    {
     "data": {
      "application/vnd.jupyter.widget-view+json": {
       "model_id": "0f43b54ddf18430a8168744d541288a8",
       "version_major": 2,
       "version_minor": 0
      },
      "text/plain": [
       "Validation: |          | 0/? [00:00<?, ?it/s]"
      ]
     },
     "metadata": {},
     "output_type": "display_data"
    },
    {
     "data": {
      "application/vnd.jupyter.widget-view+json": {
       "model_id": "bb74eb42812f4fbeac29e86e688cd678",
       "version_major": 2,
       "version_minor": 0
      },
      "text/plain": [
       "Validation: |          | 0/? [00:00<?, ?it/s]"
      ]
     },
     "metadata": {},
     "output_type": "display_data"
    },
    {
     "data": {
      "application/vnd.jupyter.widget-view+json": {
       "model_id": "aabcb4513b4643c6b28051bcafb7a1a3",
       "version_major": 2,
       "version_minor": 0
      },
      "text/plain": [
       "Validation: |          | 0/? [00:00<?, ?it/s]"
      ]
     },
     "metadata": {},
     "output_type": "display_data"
    },
    {
     "data": {
      "application/vnd.jupyter.widget-view+json": {
       "model_id": "7a98b931d23e403aaba2cbac19352830",
       "version_major": 2,
       "version_minor": 0
      },
      "text/plain": [
       "Validation: |          | 0/? [00:00<?, ?it/s]"
      ]
     },
     "metadata": {},
     "output_type": "display_data"
    },
    {
     "data": {
      "application/vnd.jupyter.widget-view+json": {
       "model_id": "688001e533d44c71bdb686e7bc3dc23a",
       "version_major": 2,
       "version_minor": 0
      },
      "text/plain": [
       "Validation: |          | 0/? [00:00<?, ?it/s]"
      ]
     },
     "metadata": {},
     "output_type": "display_data"
    },
    {
     "data": {
      "application/vnd.jupyter.widget-view+json": {
       "model_id": "6a468d41fcc740d9bcacdd4ed1d4e11f",
       "version_major": 2,
       "version_minor": 0
      },
      "text/plain": [
       "Validation: |          | 0/? [00:00<?, ?it/s]"
      ]
     },
     "metadata": {},
     "output_type": "display_data"
    },
    {
     "data": {
      "application/vnd.jupyter.widget-view+json": {
       "model_id": "5142b7d7ff394f07ba3a28d958963940",
       "version_major": 2,
       "version_minor": 0
      },
      "text/plain": [
       "Validation: |          | 0/? [00:00<?, ?it/s]"
      ]
     },
     "metadata": {},
     "output_type": "display_data"
    },
    {
     "data": {
      "application/vnd.jupyter.widget-view+json": {
       "model_id": "9e2188f064414913a2f5f42d33dd8bd1",
       "version_major": 2,
       "version_minor": 0
      },
      "text/plain": [
       "Validation: |          | 0/? [00:00<?, ?it/s]"
      ]
     },
     "metadata": {},
     "output_type": "display_data"
    },
    {
     "data": {
      "application/vnd.jupyter.widget-view+json": {
       "model_id": "39683aaef8f840dfaada3a71da9971b6",
       "version_major": 2,
       "version_minor": 0
      },
      "text/plain": [
       "Validation: |          | 0/? [00:00<?, ?it/s]"
      ]
     },
     "metadata": {},
     "output_type": "display_data"
    },
    {
     "data": {
      "application/vnd.jupyter.widget-view+json": {
       "model_id": "46f0e04ff48a4c5da52bd47b342e349f",
       "version_major": 2,
       "version_minor": 0
      },
      "text/plain": [
       "Validation: |          | 0/? [00:00<?, ?it/s]"
      ]
     },
     "metadata": {},
     "output_type": "display_data"
    },
    {
     "data": {
      "application/vnd.jupyter.widget-view+json": {
       "model_id": "5c9b7f08f0bc432e992f37bbfe30f5af",
       "version_major": 2,
       "version_minor": 0
      },
      "text/plain": [
       "Validation: |          | 0/? [00:00<?, ?it/s]"
      ]
     },
     "metadata": {},
     "output_type": "display_data"
    },
    {
     "data": {
      "application/vnd.jupyter.widget-view+json": {
       "model_id": "fbedcc72cf5843e9b837cf3220374857",
       "version_major": 2,
       "version_minor": 0
      },
      "text/plain": [
       "Validation: |          | 0/? [00:00<?, ?it/s]"
      ]
     },
     "metadata": {},
     "output_type": "display_data"
    },
    {
     "data": {
      "application/vnd.jupyter.widget-view+json": {
       "model_id": "5bde5bc531364e769f1a56d4663d96a9",
       "version_major": 2,
       "version_minor": 0
      },
      "text/plain": [
       "Validation: |          | 0/? [00:00<?, ?it/s]"
      ]
     },
     "metadata": {},
     "output_type": "display_data"
    },
    {
     "data": {
      "application/vnd.jupyter.widget-view+json": {
       "model_id": "dcab2eb63f044ac481413db0723a9f99",
       "version_major": 2,
       "version_minor": 0
      },
      "text/plain": [
       "Validation: |          | 0/? [00:00<?, ?it/s]"
      ]
     },
     "metadata": {},
     "output_type": "display_data"
    },
    {
     "data": {
      "application/vnd.jupyter.widget-view+json": {
       "model_id": "1956958e102f43fc9163af5ff7feed00",
       "version_major": 2,
       "version_minor": 0
      },
      "text/plain": [
       "Validation: |          | 0/? [00:00<?, ?it/s]"
      ]
     },
     "metadata": {},
     "output_type": "display_data"
    },
    {
     "data": {
      "application/vnd.jupyter.widget-view+json": {
       "model_id": "12464971335049e384d11c8d0687e9b1",
       "version_major": 2,
       "version_minor": 0
      },
      "text/plain": [
       "Validation: |          | 0/? [00:00<?, ?it/s]"
      ]
     },
     "metadata": {},
     "output_type": "display_data"
    },
    {
     "data": {
      "application/vnd.jupyter.widget-view+json": {
       "model_id": "9b334b0b07304670a560048257531964",
       "version_major": 2,
       "version_minor": 0
      },
      "text/plain": [
       "Validation: |          | 0/? [00:00<?, ?it/s]"
      ]
     },
     "metadata": {},
     "output_type": "display_data"
    },
    {
     "data": {
      "application/vnd.jupyter.widget-view+json": {
       "model_id": "b90987e231014d908e43d83d881063f5",
       "version_major": 2,
       "version_minor": 0
      },
      "text/plain": [
       "Validation: |          | 0/? [00:00<?, ?it/s]"
      ]
     },
     "metadata": {},
     "output_type": "display_data"
    },
    {
     "data": {
      "application/vnd.jupyter.widget-view+json": {
       "model_id": "ad4b909e12954485be5a833c504ced01",
       "version_major": 2,
       "version_minor": 0
      },
      "text/plain": [
       "Validation: |          | 0/? [00:00<?, ?it/s]"
      ]
     },
     "metadata": {},
     "output_type": "display_data"
    },
    {
     "data": {
      "application/vnd.jupyter.widget-view+json": {
       "model_id": "d9442f1301b0471eb3d01b0a9332dbde",
       "version_major": 2,
       "version_minor": 0
      },
      "text/plain": [
       "Validation: |          | 0/? [00:00<?, ?it/s]"
      ]
     },
     "metadata": {},
     "output_type": "display_data"
    },
    {
     "data": {
      "application/vnd.jupyter.widget-view+json": {
       "model_id": "cb13f303d1234aed9ebd80e5dd680e52",
       "version_major": 2,
       "version_minor": 0
      },
      "text/plain": [
       "Validation: |          | 0/? [00:00<?, ?it/s]"
      ]
     },
     "metadata": {},
     "output_type": "display_data"
    },
    {
     "data": {
      "application/vnd.jupyter.widget-view+json": {
       "model_id": "35a30b3188ad43a6beacb79297781edc",
       "version_major": 2,
       "version_minor": 0
      },
      "text/plain": [
       "Validation: |          | 0/? [00:00<?, ?it/s]"
      ]
     },
     "metadata": {},
     "output_type": "display_data"
    },
    {
     "data": {
      "application/vnd.jupyter.widget-view+json": {
       "model_id": "dea549b6ab6848e284a78d7f896287c9",
       "version_major": 2,
       "version_minor": 0
      },
      "text/plain": [
       "Validation: |          | 0/? [00:00<?, ?it/s]"
      ]
     },
     "metadata": {},
     "output_type": "display_data"
    },
    {
     "data": {
      "application/vnd.jupyter.widget-view+json": {
       "model_id": "ef1d8986b0c4485ea74d2593db3b8877",
       "version_major": 2,
       "version_minor": 0
      },
      "text/plain": [
       "Validation: |          | 0/? [00:00<?, ?it/s]"
      ]
     },
     "metadata": {},
     "output_type": "display_data"
    },
    {
     "data": {
      "application/vnd.jupyter.widget-view+json": {
       "model_id": "7c23c5e64c87418f87f88827ff7bccd4",
       "version_major": 2,
       "version_minor": 0
      },
      "text/plain": [
       "Validation: |          | 0/? [00:00<?, ?it/s]"
      ]
     },
     "metadata": {},
     "output_type": "display_data"
    },
    {
     "data": {
      "application/vnd.jupyter.widget-view+json": {
       "model_id": "0b6dfba4439044449716de1b9e128e17",
       "version_major": 2,
       "version_minor": 0
      },
      "text/plain": [
       "Validation: |          | 0/? [00:00<?, ?it/s]"
      ]
     },
     "metadata": {},
     "output_type": "display_data"
    },
    {
     "data": {
      "application/vnd.jupyter.widget-view+json": {
       "model_id": "cc32a5381d1345198fbcc41b4278ec54",
       "version_major": 2,
       "version_minor": 0
      },
      "text/plain": [
       "Validation: |          | 0/? [00:00<?, ?it/s]"
      ]
     },
     "metadata": {},
     "output_type": "display_data"
    },
    {
     "data": {
      "application/vnd.jupyter.widget-view+json": {
       "model_id": "d415b4e8959a4ed38b59977885bfabeb",
       "version_major": 2,
       "version_minor": 0
      },
      "text/plain": [
       "Validation: |          | 0/? [00:00<?, ?it/s]"
      ]
     },
     "metadata": {},
     "output_type": "display_data"
    },
    {
     "data": {
      "application/vnd.jupyter.widget-view+json": {
       "model_id": "ac7560ee01ec4e238792c0e570fa1cce",
       "version_major": 2,
       "version_minor": 0
      },
      "text/plain": [
       "Validation: |          | 0/? [00:00<?, ?it/s]"
      ]
     },
     "metadata": {},
     "output_type": "display_data"
    },
    {
     "data": {
      "application/vnd.jupyter.widget-view+json": {
       "model_id": "9ea38e352a9048529870c180d1190bf6",
       "version_major": 2,
       "version_minor": 0
      },
      "text/plain": [
       "Validation: |          | 0/? [00:00<?, ?it/s]"
      ]
     },
     "metadata": {},
     "output_type": "display_data"
    },
    {
     "data": {
      "application/vnd.jupyter.widget-view+json": {
       "model_id": "dc7cf992e96a4207bbcfb42ae59c95f7",
       "version_major": 2,
       "version_minor": 0
      },
      "text/plain": [
       "Validation: |          | 0/? [00:00<?, ?it/s]"
      ]
     },
     "metadata": {},
     "output_type": "display_data"
    },
    {
     "data": {
      "application/vnd.jupyter.widget-view+json": {
       "model_id": "acffbb6f552b4eafb4aae32916048ad7",
       "version_major": 2,
       "version_minor": 0
      },
      "text/plain": [
       "Validation: |          | 0/? [00:00<?, ?it/s]"
      ]
     },
     "metadata": {},
     "output_type": "display_data"
    },
    {
     "data": {
      "application/vnd.jupyter.widget-view+json": {
       "model_id": "4e6928b35ad4470eaccb0a87b9ced203",
       "version_major": 2,
       "version_minor": 0
      },
      "text/plain": [
       "Validation: |          | 0/? [00:00<?, ?it/s]"
      ]
     },
     "metadata": {},
     "output_type": "display_data"
    },
    {
     "data": {
      "application/vnd.jupyter.widget-view+json": {
       "model_id": "41a7295de2864218a5deb8e48d730eb5",
       "version_major": 2,
       "version_minor": 0
      },
      "text/plain": [
       "Validation: |          | 0/? [00:00<?, ?it/s]"
      ]
     },
     "metadata": {},
     "output_type": "display_data"
    },
    {
     "data": {
      "application/vnd.jupyter.widget-view+json": {
       "model_id": "3655cf072cba45ff967c9c34d5372b87",
       "version_major": 2,
       "version_minor": 0
      },
      "text/plain": [
       "Validation: |          | 0/? [00:00<?, ?it/s]"
      ]
     },
     "metadata": {},
     "output_type": "display_data"
    },
    {
     "data": {
      "application/vnd.jupyter.widget-view+json": {
       "model_id": "30de0a9d1fb14efaa27331cc795ccec4",
       "version_major": 2,
       "version_minor": 0
      },
      "text/plain": [
       "Validation: |          | 0/? [00:00<?, ?it/s]"
      ]
     },
     "metadata": {},
     "output_type": "display_data"
    },
    {
     "data": {
      "application/vnd.jupyter.widget-view+json": {
       "model_id": "5f8948852a47455fa49a645522c24385",
       "version_major": 2,
       "version_minor": 0
      },
      "text/plain": [
       "Validation: |          | 0/? [00:00<?, ?it/s]"
      ]
     },
     "metadata": {},
     "output_type": "display_data"
    },
    {
     "data": {
      "application/vnd.jupyter.widget-view+json": {
       "model_id": "9e87d81267dc4b7a89e813a8d0cac8ef",
       "version_major": 2,
       "version_minor": 0
      },
      "text/plain": [
       "Validation: |          | 0/? [00:00<?, ?it/s]"
      ]
     },
     "metadata": {},
     "output_type": "display_data"
    },
    {
     "data": {
      "application/vnd.jupyter.widget-view+json": {
       "model_id": "ed4d6d3ef7334f2ca25c0ca59e10b5cc",
       "version_major": 2,
       "version_minor": 0
      },
      "text/plain": [
       "Validation: |          | 0/? [00:00<?, ?it/s]"
      ]
     },
     "metadata": {},
     "output_type": "display_data"
    },
    {
     "data": {
      "application/vnd.jupyter.widget-view+json": {
       "model_id": "4bee8c7af99240c7b018ebf0e6574bee",
       "version_major": 2,
       "version_minor": 0
      },
      "text/plain": [
       "Validation: |          | 0/? [00:00<?, ?it/s]"
      ]
     },
     "metadata": {},
     "output_type": "display_data"
    },
    {
     "data": {
      "application/vnd.jupyter.widget-view+json": {
       "model_id": "2ee4d2022d024a619b2710304aa9544c",
       "version_major": 2,
       "version_minor": 0
      },
      "text/plain": [
       "Validation: |          | 0/? [00:00<?, ?it/s]"
      ]
     },
     "metadata": {},
     "output_type": "display_data"
    },
    {
     "name": "stderr",
     "output_type": "stream",
     "text": [
      "`Trainer.fit` stopped: `max_epochs=100` reached.\n"
     ]
    },
    {
     "name": "stdout",
     "output_type": "stream",
     "text": [
      "Training time: 3179.24 seconds\n"
     ]
    }
   ],
   "source": [
    "start_time = time.time()\n",
    "\n",
    "trainer.fit(vit_net, data_module)\n",
    "\n",
    "end_time = time.time()\n",
    "elapsed_time = end_time - start_time\n",
    "print(f\"Training time: {elapsed_time:.2f} seconds\")"
   ]
  },
  {
   "cell_type": "code",
   "execution_count": 28,
   "id": "55587258-25ac-464e-af10-777055ab1e4b",
   "metadata": {},
   "outputs": [
    {
     "data": {
      "application/vnd.jupyter.widget-view+json": {
       "model_id": "bb5a8e72b52a4d68841f9f0c5c69f884",
       "version_major": 2,
       "version_minor": 0
      },
      "text/plain": [
       "Validation: |          | 0/? [00:00<?, ?it/s]"
      ]
     },
     "metadata": {},
     "output_type": "display_data"
    },
    {
     "data": {
      "text/html": [
       "<pre style=\"white-space:pre;overflow-x:auto;line-height:normal;font-family:Menlo,'DejaVu Sans Mono',consolas,'Courier New',monospace\">┏━━━━━━━━━━━━━━━━━━━━━━━━━━━┳━━━━━━━━━━━━━━━━━━━━━━━━━━━┓\n",
       "┃<span style=\"font-weight: bold\">      Validate metric      </span>┃<span style=\"font-weight: bold\">       DataLoader 0        </span>┃\n",
       "┡━━━━━━━━━━━━━━━━━━━━━━━━━━━╇━━━━━━━━━━━━━━━━━━━━━━━━━━━┩\n",
       "│<span style=\"color: #008080; text-decoration-color: #008080\">          val_acc          </span>│<span style=\"color: #800080; text-decoration-color: #800080\">    0.4724999964237213     </span>│\n",
       "│<span style=\"color: #008080; text-decoration-color: #008080\">         val_loss          </span>│<span style=\"color: #800080; text-decoration-color: #800080\">    0.6922879815101624     </span>│\n",
       "└───────────────────────────┴───────────────────────────┘\n",
       "</pre>\n"
      ],
      "text/plain": [
       "┏━━━━━━━━━━━━━━━━━━━━━━━━━━━┳━━━━━━━━━━━━━━━━━━━━━━━━━━━┓\n",
       "┃\u001b[1m \u001b[0m\u001b[1m     Validate metric     \u001b[0m\u001b[1m \u001b[0m┃\u001b[1m \u001b[0m\u001b[1m      DataLoader 0       \u001b[0m\u001b[1m \u001b[0m┃\n",
       "┡━━━━━━━━━━━━━━━━━━━━━━━━━━━╇━━━━━━━━━━━━━━━━━━━━━━━━━━━┩\n",
       "│\u001b[36m \u001b[0m\u001b[36m         val_acc         \u001b[0m\u001b[36m \u001b[0m│\u001b[35m \u001b[0m\u001b[35m   0.4724999964237213    \u001b[0m\u001b[35m \u001b[0m│\n",
       "│\u001b[36m \u001b[0m\u001b[36m        val_loss         \u001b[0m\u001b[36m \u001b[0m│\u001b[35m \u001b[0m\u001b[35m   0.6922879815101624    \u001b[0m\u001b[35m \u001b[0m│\n",
       "└───────────────────────────┴───────────────────────────┘\n"
      ]
     },
     "metadata": {},
     "output_type": "display_data"
    },
    {
     "data": {
      "text/plain": [
       "[{'val_acc': 0.4724999964237213, 'val_loss': 0.6922879815101624}]"
      ]
     },
     "execution_count": 28,
     "metadata": {},
     "output_type": "execute_result"
    }
   ],
   "source": [
    "trainer.validate(vit_net, data_module)"
   ]
  },
  {
   "cell_type": "code",
   "execution_count": 29,
   "id": "29c78ccd-4a1f-40b0-a5ae-f8fe969ef532",
   "metadata": {},
   "outputs": [],
   "source": [
    "results = pd.read_csv(logger.log_dir+\"/metrics.csv\")"
   ]
  },
  {
   "cell_type": "code",
   "execution_count": 30,
   "id": "93bc4a37-6c4d-418e-9ff8-b580636427a0",
   "metadata": {},
   "outputs": [
    {
     "name": "stdout",
     "output_type": "stream",
     "text": [
      "✅ Upload image to S3: results/20250418084139_2000_0.2_100_loss_plot.png\n"
     ]
    },
    {
     "data": {
      "image/png": "[encoded data removed]",
      "text/plain": [
       "<Figure size 640x480 with 1 Axes>"
      ]
     },
     "metadata": {},
     "output_type": "display_data"
    }
   ],
   "source": [
    "plt.plot(results[\"epoch\"][np.logical_not(np.isnan(results[\"train_loss\"]))],\n",
    "         results[\"train_loss\"][np.logical_not(np.isnan(results[\"train_loss\"]))],\n",
    "         label=\"Training\")\n",
    "plt.plot(results[\"epoch\"][np.logical_not(np.isnan(results[\"val_loss\"]))],\n",
    "         results[\"val_loss\"][np.logical_not(np.isnan(results[\"val_loss\"]))],\n",
    "         label=\"Validation\")\n",
    "plt.legend()\n",
    "plt.ylabel(\"CCE Loss\")\n",
    "plt.xlabel(\"Epoch\")\n",
    "\n",
    "# convert img to PNG\n",
    "img_buffer = io.BytesIO()\n",
    "plt.savefig(img_buffer, format=\"png\")\n",
    "img_buffer.seek(0)\n",
    "\n",
    "# Upload to s3\n",
    "curr_time_str = datetime.now().strftime('%Y%m%d%H%M%S')\n",
    "s3 = boto3.client('s3')\n",
    "s3_key = f\"results/{curr_time_str}_{N}_{VAL_SPLIT}_{MAX_EPOCHS}_loss_plot.png\"\n",
    "\n",
    "s3.upload_fileobj(img_buffer, BUCKET_NAME, s3_key)\n",
    "\n",
    "print(f\"✅ Upload image to S3: {s3_key}\")\n",
    "\n",
    "plt.show()"
   ]
  },
  {
   "cell_type": "code",
   "execution_count": 31,
   "id": "ed8a733c-88e2-43bc-b3c3-f613e4f81e4d",
   "metadata": {},
   "outputs": [
    {
     "name": "stdout",
     "output_type": "stream",
     "text": [
      "✅ Upload image to S3: results/20250418084139_2000_0.2_100_acc_plot.png\n"
     ]
    },
    {
     "data": {
      "image/png": "[encoded data removed]",
      "text/plain": [
       "<Figure size 640x480 with 1 Axes>"
      ]
     },
     "metadata": {},
     "output_type": "display_data"
    }
   ],
   "source": [
    "plt.plot(results[\"epoch\"][np.logical_not(np.isnan(results[\"train_acc\"]))],\n",
    "         results[\"train_acc\"][np.logical_not(np.isnan(results[\"train_acc\"]))],\n",
    "         label=\"Training\")\n",
    "plt.plot(results[\"epoch\"][np.logical_not(np.isnan(results[\"val_acc\"]))],\n",
    "         results[\"val_acc\"][np.logical_not(np.isnan(results[\"val_acc\"]))],\n",
    "         label=\"Validation\")\n",
    "plt.legend()\n",
    "plt.ylabel(\"Accuracy\")\n",
    "plt.xlabel(\"Epoch\")\n",
    "\n",
    "# convert img to PNG\n",
    "img_buffer = io.BytesIO()\n",
    "plt.savefig(img_buffer, format=\"png\")\n",
    "img_buffer.seek(0)\n",
    "\n",
    "s3 = boto3.client('s3')\n",
    "s3_key = f\"results/{curr_time_str}_{N}_{VAL_SPLIT}_{MAX_EPOCHS}_acc_plot.png\"\n",
    "\n",
    "# Upload to s3\n",
    "s3.upload_fileobj(img_buffer, BUCKET_NAME, s3_key)\n",
    "\n",
    "print(f\"✅ Upload image to S3: {s3_key}\")\n",
    "plt.show()"
   ]
  }
 ],
 "metadata": {
  "kernelspec": {
   "display_name": "deepsight",
   "language": "python",
   "name": "deepsight"
  },
  "language_info": {
   "codemirror_mode": {
    "name": "ipython",
    "version": 3
   },
   "file_extension": ".py",
   "mimetype": "text/x-python",
   "name": "python",
   "nbconvert_exporter": "python",
   "pygments_lexer": "ipython3",
   "version": "3.12.8"
  },
  "widgets": {
   "application/vnd.jupyter.widget-state+json": {
    "state": {
     "0139438289b549f9b5f20ae697a1b51f": {
      "model_module": "@jupyter-widgets/base",
      "model_module_version": "2.0.0",
      "model_name": "LayoutModel",
      "state": {
       "_model_module": "@jupyter-widgets/base",
       "_model_module_version": "2.0.0",
       "_model_name": "LayoutModel",
       "_view_count": null,
       "_view_module": "@jupyter-widgets/base",
       "_view_module_version": "2.0.0",
       "_view_name": "LayoutView",
       "align_content": null,
       "align_items": null,
       "align_self": null,
       "border_bottom": null,
       "border_left": null,
       "border_right": null,
       "border_top": null,
       "bottom": null,
       "display": null,
       "flex": "2",
       "flex_flow": null,
       "grid_area": null,
       "grid_auto_columns": null,
       "grid_auto_flow": null,
       "grid_auto_rows": null,
       "grid_column": null,
       "grid_gap": null,
       "grid_row": null,
       "grid_template_areas": null,
       "grid_template_columns": null,
       "grid_template_rows": null,
       "height": null,
       "justify_content": null,
       "justify_items": null,
       "left": null,
       "margin": null,
       "max_height": null,
       "max_width": null,
       "min_height": null,
       "min_width": null,
       "object_fit": null,
       "object_position": null,
       "order": null,
       "overflow": null,
       "padding": null,
       "right": null,
       "top": null,
       "visibility": null,
       "width": null
      }
     },
     "08f6ab86b21a4a6aa55bfadf72bf9f77": {
      "model_module": "@jupyter-widgets/controls",
      "model_module_version": "2.0.0",
      "model_name": "HBoxModel",
      "state": {
       "_dom_classes": [],
       "_model_module": "@jupyter-widgets/controls",
       "_model_module_version": "2.0.0",
       "_model_name": "HBoxModel",
       "_view_count": null,
       "_view_module": "@jupyter-widgets/controls",
       "_view_module_version": "2.0.0",
       "_view_name": "HBoxView",
       "box_style": "",
       "children": [
        "IPY_MODEL_b2626fc2f663458088b6dbb4207d0677",
        "IPY_MODEL_39df02a66d9d4216b0330bec11503ee2",
        "IPY_MODEL_33961bda4e0c49499d28e47bd0e8e13c"
       ],
       "layout": "IPY_MODEL_ed36a563e2d946078b50cfb78baa405d",
       "tabbable": null,
       "tooltip": null
      }
     },
     "0a6f747e2a684f5ba5d3bc09005ead40": {
      "model_module": "@jupyter-widgets/controls",
      "model_module_version": "2.0.0",
      "model_name": "HTMLModel",
      "state": {
       "_dom_classes": [],
       "_model_module": "@jupyter-widgets/controls",
       "_model_module_version": "2.0.0",
       "_model_name": "HTMLModel",
       "_view_count": null,
       "_view_module": "@jupyter-widgets/controls",
       "_view_module_version": "2.0.0",
       "_view_name": "HTMLView",
       "description": "",
       "description_allow_html": false,
       "layout": "IPY_MODEL_5557d18717d041fb8183763aa57a2780",
       "placeholder": "​",
       "style": "IPY_MODEL_5de9c6cd24e74b43aa5d958473865597",
       "tabbable": null,
       "tooltip": null,
       "value": "Sanity Checking DataLoader 0: 100%"
      }
     },
     "0d13caccd5bb472fa3c4d93671463939": {
      "model_module": "@jupyter-widgets/base",
      "model_module_version": "2.0.0",
      "model_name": "LayoutModel",
      "state": {
       "_model_module": "@jupyter-widgets/base",
       "_model_module_version": "2.0.0",
       "_model_name": "LayoutModel",
       "_view_count": null,
       "_view_module": "@jupyter-widgets/base",
       "_view_module_version": "2.0.0",
       "_view_name": "LayoutView",
       "align_content": null,
       "align_items": null,
       "align_self": null,
       "border_bottom": null,
       "border_left": null,
       "border_right": null,
       "border_top": null,
       "bottom": null,
       "display": null,
       "flex": null,
       "flex_flow": null,
       "grid_area": null,
       "grid_auto_columns": null,
       "grid_auto_flow": null,
       "grid_auto_rows": null,
       "grid_column": null,
       "grid_gap": null,
       "grid_row": null,
       "grid_template_areas": null,
       "grid_template_columns": null,
       "grid_template_rows": null,
       "height": null,
       "justify_content": null,
       "justify_items": null,
       "left": null,
       "margin": null,
       "max_height": null,
       "max_width": null,
       "min_height": null,
       "min_width": null,
       "object_fit": null,
       "object_position": null,
       "order": null,
       "overflow": null,
       "padding": null,
       "right": null,
       "top": null,
       "visibility": null,
       "width": null
      }
     },
     "153eee504345493bbc6ad5c6b26669b1": {
      "model_module": "@jupyter-widgets/controls",
      "model_module_version": "2.0.0",
      "model_name": "HTMLModel",
      "state": {
       "_dom_classes": [],
       "_model_module": "@jupyter-widgets/controls",
       "_model_module_version": "2.0.0",
       "_model_name": "HTMLModel",
       "_view_count": null,
       "_view_module": "@jupyter-widgets/controls",
       "_view_module_version": "2.0.0",
       "_view_name": "HTMLView",
       "description": "",
       "description_allow_html": false,
       "layout": "IPY_MODEL_3033eac176b346578b03cdfbeb66efd5",
       "placeholder": "​",
       "style": "IPY_MODEL_e7162051ad2e47c9b6fd2ca507d04cd8",
       "tabbable": null,
       "tooltip": null,
       "value": "Epoch 1: 100%"
      }
     },
     "1a2aa9cfe5ba46918e904d41faba3fe2": {
      "model_module": "@jupyter-widgets/controls",
      "model_module_version": "2.0.0",
      "model_name": "HTMLStyleModel",
      "state": {
       "_model_module": "@jupyter-widgets/controls",
       "_model_module_version": "2.0.0",
       "_model_name": "HTMLStyleModel",
       "_view_count": null,
       "_view_module": "@jupyter-widgets/base",
       "_view_module_version": "2.0.0",
       "_view_name": "StyleView",
       "background": null,
       "description_width": "",
       "font_size": null,
       "text_color": null
      }
     },
     "1e2a417bd74743d3ac90e913a4747c31": {
      "model_module": "@jupyter-widgets/controls",
      "model_module_version": "2.0.0",
      "model_name": "HTMLModel",
      "state": {
       "_dom_classes": [],
       "_model_module": "@jupyter-widgets/controls",
       "_model_module_version": "2.0.0",
       "_model_name": "HTMLModel",
       "_view_count": null,
       "_view_module": "@jupyter-widgets/controls",
       "_view_module_version": "2.0.0",
       "_view_name": "HTMLView",
       "description": "",
       "description_allow_html": false,
       "layout": "IPY_MODEL_d97c50a200394d9180134b05316af821",
       "placeholder": "​",
       "style": "IPY_MODEL_c8b55be53c844589a0819f6d2b5a6617",
       "tabbable": null,
       "tooltip": null,
       "value": " 8/8 [00:23&lt;00:00,  0.34it/s]"
      }
     },
     "2158d37df6f846ad826996b129b2b81a": {
      "model_module": "@jupyter-widgets/controls",
      "model_module_version": "2.0.0",
      "model_name": "ProgressStyleModel",
      "state": {
       "_model_module": "@jupyter-widgets/controls",
       "_model_module_version": "2.0.0",
       "_model_name": "ProgressStyleModel",
       "_view_count": null,
       "_view_module": "@jupyter-widgets/base",
       "_view_module_version": "2.0.0",
       "_view_name": "StyleView",
       "bar_color": null,
       "description_width": ""
      }
     },
     "2b95f444a42847e18d96829ce57d9a4e": {
      "model_module": "@jupyter-widgets/controls",
      "model_module_version": "2.0.0",
      "model_name": "HTMLStyleModel",
      "state": {
       "_model_module": "@jupyter-widgets/controls",
       "_model_module_version": "2.0.0",
       "_model_name": "HTMLStyleModel",
       "_view_count": null,
       "_view_module": "@jupyter-widgets/base",
       "_view_module_version": "2.0.0",
       "_view_name": "StyleView",
       "background": null,
       "description_width": "",
       "font_size": null,
       "text_color": null
      }
     },
     "3033eac176b346578b03cdfbeb66efd5": {
      "model_module": "@jupyter-widgets/base",
      "model_module_version": "2.0.0",
      "model_name": "LayoutModel",
      "state": {
       "_model_module": "@jupyter-widgets/base",
       "_model_module_version": "2.0.0",
       "_model_name": "LayoutModel",
       "_view_count": null,
       "_view_module": "@jupyter-widgets/base",
       "_view_module_version": "2.0.0",
       "_view_name": "LayoutView",
       "align_content": null,
       "align_items": null,
       "align_self": null,
       "border_bottom": null,
       "border_left": null,
       "border_right": null,
       "border_top": null,
       "bottom": null,
       "display": null,
       "flex": null,
       "flex_flow": null,
       "grid_area": null,
       "grid_auto_columns": null,
       "grid_auto_flow": null,
       "grid_auto_rows": null,
       "grid_column": null,
       "grid_gap": null,
       "grid_row": null,
       "grid_template_areas": null,
       "grid_template_columns": null,
       "grid_template_rows": null,
       "height": null,
       "justify_content": null,
       "justify_items": null,
       "left": null,
       "margin": null,
       "max_height": null,
       "max_width": null,
       "min_height": null,
       "min_width": null,
       "object_fit": null,
       "object_position": null,
       "order": null,
       "overflow": null,
       "padding": null,
       "right": null,
       "top": null,
       "visibility": null,
       "width": null
      }
     },
     "305d2841b6084d4387dab912e1ccad33": {
      "model_module": "@jupyter-widgets/controls",
      "model_module_version": "2.0.0",
      "model_name": "FloatProgressModel",
      "state": {
       "_dom_classes": [],
       "_model_module": "@jupyter-widgets/controls",
       "_model_module_version": "2.0.0",
       "_model_name": "FloatProgressModel",
       "_view_count": null,
       "_view_module": "@jupyter-widgets/controls",
       "_view_module_version": "2.0.0",
       "_view_name": "ProgressView",
       "bar_style": "",
       "description": "",
       "description_allow_html": false,
       "layout": "IPY_MODEL_90721c0d1d9347038bc12c73c9a8fcb9",
       "max": 8,
       "min": 0,
       "orientation": "horizontal",
       "style": "IPY_MODEL_aed0ce2a8b4b4e59869623c8f95a190e",
       "tabbable": null,
       "tooltip": null,
       "value": 8
      }
     },
     "33961bda4e0c49499d28e47bd0e8e13c": {
      "model_module": "@jupyter-widgets/controls",
      "model_module_version": "2.0.0",
      "model_name": "HTMLModel",
      "state": {
       "_dom_classes": [],
       "_model_module": "@jupyter-widgets/controls",
       "_model_module_version": "2.0.0",
       "_model_name": "HTMLModel",
       "_view_count": null,
       "_view_module": "@jupyter-widgets/controls",
       "_view_module_version": "2.0.0",
       "_view_name": "HTMLView",
       "description": "",
       "description_allow_html": false,
       "layout": "IPY_MODEL_0d13caccd5bb472fa3c4d93671463939",
       "placeholder": "​",
       "style": "IPY_MODEL_52fb9da46406466e89cf39310cced750",
       "tabbable": null,
       "tooltip": null,
       "value": " 8/8 [00:23&lt;00:00,  0.34it/s]"
      }
     },
     "39df02a66d9d4216b0330bec11503ee2": {
      "model_module": "@jupyter-widgets/controls",
      "model_module_version": "2.0.0",
      "model_name": "FloatProgressModel",
      "state": {
       "_dom_classes": [],
       "_model_module": "@jupyter-widgets/controls",
       "_model_module_version": "2.0.0",
       "_model_name": "FloatProgressModel",
       "_view_count": null,
       "_view_module": "@jupyter-widgets/controls",
       "_view_module_version": "2.0.0",
       "_view_name": "ProgressView",
       "bar_style": "success",
       "description": "",
       "description_allow_html": false,
       "layout": "IPY_MODEL_416b823e153d44aabab95580836d2183",
       "max": 8,
       "min": 0,
       "orientation": "horizontal",
       "style": "IPY_MODEL_bacd221f86a54ce9a239096cfe4bf6f2",
       "tabbable": null,
       "tooltip": null,
       "value": 8
      }
     },
     "3ee2571a9cf04e5aa02b9cb686fba63b": {
      "model_module": "@jupyter-widgets/controls",
      "model_module_version": "2.0.0",
      "model_name": "HTMLModel",
      "state": {
       "_dom_classes": [],
       "_model_module": "@jupyter-widgets/controls",
       "_model_module_version": "2.0.0",
       "_model_name": "HTMLModel",
       "_view_count": null,
       "_view_module": "@jupyter-widgets/controls",
       "_view_module_version": "2.0.0",
       "_view_name": "HTMLView",
       "description": "",
       "description_allow_html": false,
       "layout": "IPY_MODEL_98c4f75ecfde48c8adc471ac4a3742b7",
       "placeholder": "​",
       "style": "IPY_MODEL_59e9579b96ee4ef1865fa75ac62609fc",
       "tabbable": null,
       "tooltip": null,
       "value": " 8/8 [01:05&lt;00:00,  0.12it/s, v_num=_NAM]"
      }
     },
     "416b823e153d44aabab95580836d2183": {
      "model_module": "@jupyter-widgets/base",
      "model_module_version": "2.0.0",
      "model_name": "LayoutModel",
      "state": {
       "_model_module": "@jupyter-widgets/base",
       "_model_module_version": "2.0.0",
       "_model_name": "LayoutModel",
       "_view_count": null,
       "_view_module": "@jupyter-widgets/base",
       "_view_module_version": "2.0.0",
       "_view_name": "LayoutView",
       "align_content": null,
       "align_items": null,
       "align_self": null,
       "border_bottom": null,
       "border_left": null,
       "border_right": null,
       "border_top": null,
       "bottom": null,
       "display": null,
       "flex": "2",
       "flex_flow": null,
       "grid_area": null,
       "grid_auto_columns": null,
       "grid_auto_flow": null,
       "grid_auto_rows": null,
       "grid_column": null,
       "grid_gap": null,
       "grid_row": null,
       "grid_template_areas": null,
       "grid_template_columns": null,
       "grid_template_rows": null,
       "height": null,
       "justify_content": null,
       "justify_items": null,
       "left": null,
       "margin": null,
       "max_height": null,
       "max_width": null,
       "min_height": null,
       "min_width": null,
       "object_fit": null,
       "object_position": null,
       "order": null,
       "overflow": null,
       "padding": null,
       "right": null,
       "top": null,
       "visibility": null,
       "width": null
      }
     },
     "4496576f07474e2fa0771a1c8f15ed60": {
      "model_module": "@jupyter-widgets/controls",
      "model_module_version": "2.0.0",
      "model_name": "FloatProgressModel",
      "state": {
       "_dom_classes": [],
       "_model_module": "@jupyter-widgets/controls",
       "_model_module_version": "2.0.0",
       "_model_name": "FloatProgressModel",
       "_view_count": null,
       "_view_module": "@jupyter-widgets/controls",
       "_view_module_version": "2.0.0",
       "_view_name": "ProgressView",
       "bar_style": "",
       "description": "",
       "description_allow_html": false,
       "layout": "IPY_MODEL_77cb8a6b25434d56a81d6778bd5458cf",
       "max": 2,
       "min": 0,
       "orientation": "horizontal",
       "style": "IPY_MODEL_2158d37df6f846ad826996b129b2b81a",
       "tabbable": null,
       "tooltip": null,
       "value": 2
      }
     },
     "459e0f1f96564bd18e53e4c9ef6f5f3f": {
      "model_module": "@jupyter-widgets/controls",
      "model_module_version": "2.0.0",
      "model_name": "HBoxModel",
      "state": {
       "_dom_classes": [],
       "_model_module": "@jupyter-widgets/controls",
       "_model_module_version": "2.0.0",
       "_model_name": "HBoxModel",
       "_view_count": null,
       "_view_module": "@jupyter-widgets/controls",
       "_view_module_version": "2.0.0",
       "_view_name": "HBoxView",
       "box_style": "",
       "children": [
        "IPY_MODEL_eb6bfd6506f24c7885735a2416b27a00",
        "IPY_MODEL_305d2841b6084d4387dab912e1ccad33",
        "IPY_MODEL_1e2a417bd74743d3ac90e913a4747c31"
       ],
       "layout": "IPY_MODEL_a4cedf36307e41158cd54c5613d276f8",
       "tabbable": null,
       "tooltip": null
      }
     },
     "49086d3cb7294df48e98e2fd15cebd6a": {
      "model_module": "@jupyter-widgets/controls",
      "model_module_version": "2.0.0",
      "model_name": "HTMLStyleModel",
      "state": {
       "_model_module": "@jupyter-widgets/controls",
       "_model_module_version": "2.0.0",
       "_model_name": "HTMLStyleModel",
       "_view_count": null,
       "_view_module": "@jupyter-widgets/base",
       "_view_module_version": "2.0.0",
       "_view_name": "StyleView",
       "background": null,
       "description_width": "",
       "font_size": null,
       "text_color": null
      }
     },
     "4aec973a5c4743a480320da79a5d2168": {
      "model_module": "@jupyter-widgets/controls",
      "model_module_version": "2.0.0",
      "model_name": "ProgressStyleModel",
      "state": {
       "_model_module": "@jupyter-widgets/controls",
       "_model_module_version": "2.0.0",
       "_model_name": "ProgressStyleModel",
       "_view_count": null,
       "_view_module": "@jupyter-widgets/base",
       "_view_module_version": "2.0.0",
       "_view_name": "StyleView",
       "bar_color": null,
       "description_width": ""
      }
     },
     "4d438db614274260881f5bd3f06d65d3": {
      "model_module": "@jupyter-widgets/base",
      "model_module_version": "2.0.0",
      "model_name": "LayoutModel",
      "state": {
       "_model_module": "@jupyter-widgets/base",
       "_model_module_version": "2.0.0",
       "_model_name": "LayoutModel",
       "_view_count": null,
       "_view_module": "@jupyter-widgets/base",
       "_view_module_version": "2.0.0",
       "_view_name": "LayoutView",
       "align_content": null,
       "align_items": null,
       "align_self": null,
       "border_bottom": null,
       "border_left": null,
       "border_right": null,
       "border_top": null,
       "bottom": null,
       "display": null,
       "flex": null,
       "flex_flow": null,
       "grid_area": null,
       "grid_auto_columns": null,
       "grid_auto_flow": null,
       "grid_auto_rows": null,
       "grid_column": null,
       "grid_gap": null,
       "grid_row": null,
       "grid_template_areas": null,
       "grid_template_columns": null,
       "grid_template_rows": null,
       "height": null,
       "justify_content": null,
       "justify_items": null,
       "left": null,
       "margin": null,
       "max_height": null,
       "max_width": null,
       "min_height": null,
       "min_width": null,
       "object_fit": null,
       "object_position": null,
       "order": null,
       "overflow": null,
       "padding": null,
       "right": null,
       "top": null,
       "visibility": null,
       "width": null
      }
     },
     "524e854a98354e1e80d69341b86bac1a": {
      "model_module": "@jupyter-widgets/base",
      "model_module_version": "2.0.0",
      "model_name": "LayoutModel",
      "state": {
       "_model_module": "@jupyter-widgets/base",
       "_model_module_version": "2.0.0",
       "_model_name": "LayoutModel",
       "_view_count": null,
       "_view_module": "@jupyter-widgets/base",
       "_view_module_version": "2.0.0",
       "_view_name": "LayoutView",
       "align_content": null,
       "align_items": null,
       "align_self": null,
       "border_bottom": null,
       "border_left": null,
       "border_right": null,
       "border_top": null,
       "bottom": null,
       "display": "inline-flex",
       "flex": null,
       "flex_flow": "row wrap",
       "grid_area": null,
       "grid_auto_columns": null,
       "grid_auto_flow": null,
       "grid_auto_rows": null,
       "grid_column": null,
       "grid_gap": null,
       "grid_row": null,
       "grid_template_areas": null,
       "grid_template_columns": null,
       "grid_template_rows": null,
       "height": null,
       "justify_content": null,
       "justify_items": null,
       "left": null,
       "margin": null,
       "max_height": null,
       "max_width": null,
       "min_height": null,
       "min_width": null,
       "object_fit": null,
       "object_position": null,
       "order": null,
       "overflow": null,
       "padding": null,
       "right": null,
       "top": null,
       "visibility": null,
       "width": "100%"
      }
     },
     "52fb9da46406466e89cf39310cced750": {
      "model_module": "@jupyter-widgets/controls",
      "model_module_version": "2.0.0",
      "model_name": "HTMLStyleModel",
      "state": {
       "_model_module": "@jupyter-widgets/controls",
       "_model_module_version": "2.0.0",
       "_model_name": "HTMLStyleModel",
       "_view_count": null,
       "_view_module": "@jupyter-widgets/base",
       "_view_module_version": "2.0.0",
       "_view_name": "StyleView",
       "background": null,
       "description_width": "",
       "font_size": null,
       "text_color": null
      }
     },
     "52fea7c931b14cbbafde10257e6e3058": {
      "model_module": "@jupyter-widgets/base",
      "model_module_version": "2.0.0",
      "model_name": "LayoutModel",
      "state": {
       "_model_module": "@jupyter-widgets/base",
       "_model_module_version": "2.0.0",
       "_model_name": "LayoutModel",
       "_view_count": null,
       "_view_module": "@jupyter-widgets/base",
       "_view_module_version": "2.0.0",
       "_view_name": "LayoutView",
       "align_content": null,
       "align_items": null,
       "align_self": null,
       "border_bottom": null,
       "border_left": null,
       "border_right": null,
       "border_top": null,
       "bottom": null,
       "display": null,
       "flex": "2",
       "flex_flow": null,
       "grid_area": null,
       "grid_auto_columns": null,
       "grid_auto_flow": null,
       "grid_auto_rows": null,
       "grid_column": null,
       "grid_gap": null,
       "grid_row": null,
       "grid_template_areas": null,
       "grid_template_columns": null,
       "grid_template_rows": null,
       "height": null,
       "justify_content": null,
       "justify_items": null,
       "left": null,
       "margin": null,
       "max_height": null,
       "max_width": null,
       "min_height": null,
       "min_width": null,
       "object_fit": null,
       "object_position": null,
       "order": null,
       "overflow": null,
       "padding": null,
       "right": null,
       "top": null,
       "visibility": null,
       "width": null
      }
     },
     "5557d18717d041fb8183763aa57a2780": {
      "model_module": "@jupyter-widgets/base",
      "model_module_version": "2.0.0",
      "model_name": "LayoutModel",
      "state": {
       "_model_module": "@jupyter-widgets/base",
       "_model_module_version": "2.0.0",
       "_model_name": "LayoutModel",
       "_view_count": null,
       "_view_module": "@jupyter-widgets/base",
       "_view_module_version": "2.0.0",
       "_view_name": "LayoutView",
       "align_content": null,
       "align_items": null,
       "align_self": null,
       "border_bottom": null,
       "border_left": null,
       "border_right": null,
       "border_top": null,
       "bottom": null,
       "display": null,
       "flex": null,
       "flex_flow": null,
       "grid_area": null,
       "grid_auto_columns": null,
       "grid_auto_flow": null,
       "grid_auto_rows": null,
       "grid_column": null,
       "grid_gap": null,
       "grid_row": null,
       "grid_template_areas": null,
       "grid_template_columns": null,
       "grid_template_rows": null,
       "height": null,
       "justify_content": null,
       "justify_items": null,
       "left": null,
       "margin": null,
       "max_height": null,
       "max_width": null,
       "min_height": null,
       "min_width": null,
       "object_fit": null,
       "object_position": null,
       "order": null,
       "overflow": null,
       "padding": null,
       "right": null,
       "top": null,
       "visibility": null,
       "width": null
      }
     },
     "555fb8967b9b4e8c9f84166e1eefe93c": {
      "model_module": "@jupyter-widgets/controls",
      "model_module_version": "2.0.0",
      "model_name": "FloatProgressModel",
      "state": {
       "_dom_classes": [],
       "_model_module": "@jupyter-widgets/controls",
       "_model_module_version": "2.0.0",
       "_model_name": "FloatProgressModel",
       "_view_count": null,
       "_view_module": "@jupyter-widgets/controls",
       "_view_module_version": "2.0.0",
       "_view_name": "ProgressView",
       "bar_style": "success",
       "description": "",
       "description_allow_html": false,
       "layout": "IPY_MODEL_ee6ec75fc1e24d129f8bf6017d5a4557",
       "max": 8,
       "min": 0,
       "orientation": "horizontal",
       "style": "IPY_MODEL_63a8d82533a04a25a3c3bf4c08d5b761",
       "tabbable": null,
       "tooltip": null,
       "value": 8
      }
     },
     "59e9579b96ee4ef1865fa75ac62609fc": {
      "model_module": "@jupyter-widgets/controls",
      "model_module_version": "2.0.0",
      "model_name": "HTMLStyleModel",
      "state": {
       "_model_module": "@jupyter-widgets/controls",
       "_model_module_version": "2.0.0",
       "_model_name": "HTMLStyleModel",
       "_view_count": null,
       "_view_module": "@jupyter-widgets/base",
       "_view_module_version": "2.0.0",
       "_view_name": "StyleView",
       "background": null,
       "description_width": "",
       "font_size": null,
       "text_color": null
      }
     },
     "5de9c6cd24e74b43aa5d958473865597": {
      "model_module": "@jupyter-widgets/controls",
      "model_module_version": "2.0.0",
      "model_name": "HTMLStyleModel",
      "state": {
       "_model_module": "@jupyter-widgets/controls",
       "_model_module_version": "2.0.0",
       "_model_name": "HTMLStyleModel",
       "_view_count": null,
       "_view_module": "@jupyter-widgets/base",
       "_view_module_version": "2.0.0",
       "_view_name": "StyleView",
       "background": null,
       "description_width": "",
       "font_size": null,
       "text_color": null
      }
     },
     "63a8d82533a04a25a3c3bf4c08d5b761": {
      "model_module": "@jupyter-widgets/controls",
      "model_module_version": "2.0.0",
      "model_name": "ProgressStyleModel",
      "state": {
       "_model_module": "@jupyter-widgets/controls",
       "_model_module_version": "2.0.0",
       "_model_name": "ProgressStyleModel",
       "_view_count": null,
       "_view_module": "@jupyter-widgets/base",
       "_view_module_version": "2.0.0",
       "_view_name": "StyleView",
       "bar_color": null,
       "description_width": ""
      }
     },
     "6d00d54fd5d64c6193f0ef4c2aa4e825": {
      "model_module": "@jupyter-widgets/controls",
      "model_module_version": "2.0.0",
      "model_name": "HTMLModel",
      "state": {
       "_dom_classes": [],
       "_model_module": "@jupyter-widgets/controls",
       "_model_module_version": "2.0.0",
       "_model_name": "HTMLModel",
       "_view_count": null,
       "_view_module": "@jupyter-widgets/controls",
       "_view_module_version": "2.0.0",
       "_view_name": "HTMLView",
       "description": "",
       "description_allow_html": false,
       "layout": "IPY_MODEL_f4de8d346bdf43d9a818d5e3305d2008",
       "placeholder": "​",
       "style": "IPY_MODEL_88979f7d6553470a999af37b80913db8",
       "tabbable": null,
       "tooltip": null,
       "value": " 8/8 [00:23&lt;00:00,  0.34it/s]"
      }
     },
     "6d89f60217d045eb9c045ace91f78d8e": {
      "model_module": "@jupyter-widgets/base",
      "model_module_version": "2.0.0",
      "model_name": "LayoutModel",
      "state": {
       "_model_module": "@jupyter-widgets/base",
       "_model_module_version": "2.0.0",
       "_model_name": "LayoutModel",
       "_view_count": null,
       "_view_module": "@jupyter-widgets/base",
       "_view_module_version": "2.0.0",
       "_view_name": "LayoutView",
       "align_content": null,
       "align_items": null,
       "align_self": null,
       "border_bottom": null,
       "border_left": null,
       "border_right": null,
       "border_top": null,
       "bottom": null,
       "display": null,
       "flex": null,
       "flex_flow": null,
       "grid_area": null,
       "grid_auto_columns": null,
       "grid_auto_flow": null,
       "grid_auto_rows": null,
       "grid_column": null,
       "grid_gap": null,
       "grid_row": null,
       "grid_template_areas": null,
       "grid_template_columns": null,
       "grid_template_rows": null,
       "height": null,
       "justify_content": null,
       "justify_items": null,
       "left": null,
       "margin": null,
       "max_height": null,
       "max_width": null,
       "min_height": null,
       "min_width": null,
       "object_fit": null,
       "object_position": null,
       "order": null,
       "overflow": null,
       "padding": null,
       "right": null,
       "top": null,
       "visibility": null,
       "width": null
      }
     },
     "6f28ce93af674f67a49a27fdfaacc4b1": {
      "model_module": "@jupyter-widgets/base",
      "model_module_version": "2.0.0",
      "model_name": "LayoutModel",
      "state": {
       "_model_module": "@jupyter-widgets/base",
       "_model_module_version": "2.0.0",
       "_model_name": "LayoutModel",
       "_view_count": null,
       "_view_module": "@jupyter-widgets/base",
       "_view_module_version": "2.0.0",
       "_view_name": "LayoutView",
       "align_content": null,
       "align_items": null,
       "align_self": null,
       "border_bottom": null,
       "border_left": null,
       "border_right": null,
       "border_top": null,
       "bottom": null,
       "display": "inline-flex",
       "flex": null,
       "flex_flow": "row wrap",
       "grid_area": null,
       "grid_auto_columns": null,
       "grid_auto_flow": null,
       "grid_auto_rows": null,
       "grid_column": null,
       "grid_gap": null,
       "grid_row": null,
       "grid_template_areas": null,
       "grid_template_columns": null,
       "grid_template_rows": null,
       "height": null,
       "justify_content": null,
       "justify_items": null,
       "left": null,
       "margin": null,
       "max_height": null,
       "max_width": null,
       "min_height": null,
       "min_width": null,
       "object_fit": null,
       "object_position": null,
       "order": null,
       "overflow": null,
       "padding": null,
       "right": null,
       "top": null,
       "visibility": "hidden",
       "width": "100%"
      }
     },
     "76f5915134124db1adec56b1d5f11228": {
      "model_module": "@jupyter-widgets/controls",
      "model_module_version": "2.0.0",
      "model_name": "HBoxModel",
      "state": {
       "_dom_classes": [],
       "_model_module": "@jupyter-widgets/controls",
       "_model_module_version": "2.0.0",
       "_model_name": "HBoxModel",
       "_view_count": null,
       "_view_module": "@jupyter-widgets/controls",
       "_view_module_version": "2.0.0",
       "_view_name": "HBoxView",
       "box_style": "",
       "children": [
        "IPY_MODEL_df86befb98a34e8c9b04484979b1d0c8",
        "IPY_MODEL_555fb8967b9b4e8c9f84166e1eefe93c",
        "IPY_MODEL_a9bbf41da80f44cf988ff6dbc72bd05f"
       ],
       "layout": "IPY_MODEL_d9d4098dfb4e43d2b42b4fa8c9ffec7a",
       "tabbable": null,
       "tooltip": null
      }
     },
     "77cb8a6b25434d56a81d6778bd5458cf": {
      "model_module": "@jupyter-widgets/base",
      "model_module_version": "2.0.0",
      "model_name": "LayoutModel",
      "state": {
       "_model_module": "@jupyter-widgets/base",
       "_model_module_version": "2.0.0",
       "_model_name": "LayoutModel",
       "_view_count": null,
       "_view_module": "@jupyter-widgets/base",
       "_view_module_version": "2.0.0",
       "_view_name": "LayoutView",
       "align_content": null,
       "align_items": null,
       "align_self": null,
       "border_bottom": null,
       "border_left": null,
       "border_right": null,
       "border_top": null,
       "bottom": null,
       "display": null,
       "flex": "2",
       "flex_flow": null,
       "grid_area": null,
       "grid_auto_columns": null,
       "grid_auto_flow": null,
       "grid_auto_rows": null,
       "grid_column": null,
       "grid_gap": null,
       "grid_row": null,
       "grid_template_areas": null,
       "grid_template_columns": null,
       "grid_template_rows": null,
       "height": null,
       "justify_content": null,
       "justify_items": null,
       "left": null,
       "margin": null,
       "max_height": null,
       "max_width": null,
       "min_height": null,
       "min_width": null,
       "object_fit": null,
       "object_position": null,
       "order": null,
       "overflow": null,
       "padding": null,
       "right": null,
       "top": null,
       "visibility": null,
       "width": null
      }
     },
     "88979f7d6553470a999af37b80913db8": {
      "model_module": "@jupyter-widgets/controls",
      "model_module_version": "2.0.0",
      "model_name": "HTMLStyleModel",
      "state": {
       "_model_module": "@jupyter-widgets/controls",
       "_model_module_version": "2.0.0",
       "_model_name": "HTMLStyleModel",
       "_view_count": null,
       "_view_module": "@jupyter-widgets/base",
       "_view_module_version": "2.0.0",
       "_view_name": "StyleView",
       "background": null,
       "description_width": "",
       "font_size": null,
       "text_color": null
      }
     },
     "8b402231736d48a796c76d09fbd15ec3": {
      "model_module": "@jupyter-widgets/controls",
      "model_module_version": "2.0.0",
      "model_name": "HTMLStyleModel",
      "state": {
       "_model_module": "@jupyter-widgets/controls",
       "_model_module_version": "2.0.0",
       "_model_name": "HTMLStyleModel",
       "_view_count": null,
       "_view_module": "@jupyter-widgets/base",
       "_view_module_version": "2.0.0",
       "_view_name": "StyleView",
       "background": null,
       "description_width": "",
       "font_size": null,
       "text_color": null
      }
     },
     "8d696cea67ec460e92569d547b8f71c8": {
      "model_module": "@jupyter-widgets/controls",
      "model_module_version": "2.0.0",
      "model_name": "HBoxModel",
      "state": {
       "_dom_classes": [],
       "_model_module": "@jupyter-widgets/controls",
       "_model_module_version": "2.0.0",
       "_model_name": "HBoxModel",
       "_view_count": null,
       "_view_module": "@jupyter-widgets/controls",
       "_view_module_version": "2.0.0",
       "_view_name": "HBoxView",
       "box_style": "",
       "children": [
        "IPY_MODEL_0a6f747e2a684f5ba5d3bc09005ead40",
        "IPY_MODEL_4496576f07474e2fa0771a1c8f15ed60",
        "IPY_MODEL_f9f991db23cb4bfbbda90bfa159045ae"
       ],
       "layout": "IPY_MODEL_95bde890a18b40be8af1a0b3f136f907",
       "tabbable": null,
       "tooltip": null
      }
     },
     "90721c0d1d9347038bc12c73c9a8fcb9": {
      "model_module": "@jupyter-widgets/base",
      "model_module_version": "2.0.0",
      "model_name": "LayoutModel",
      "state": {
       "_model_module": "@jupyter-widgets/base",
       "_model_module_version": "2.0.0",
       "_model_name": "LayoutModel",
       "_view_count": null,
       "_view_module": "@jupyter-widgets/base",
       "_view_module_version": "2.0.0",
       "_view_name": "LayoutView",
       "align_content": null,
       "align_items": null,
       "align_self": null,
       "border_bottom": null,
       "border_left": null,
       "border_right": null,
       "border_top": null,
       "bottom": null,
       "display": null,
       "flex": "2",
       "flex_flow": null,
       "grid_area": null,
       "grid_auto_columns": null,
       "grid_auto_flow": null,
       "grid_auto_rows": null,
       "grid_column": null,
       "grid_gap": null,
       "grid_row": null,
       "grid_template_areas": null,
       "grid_template_columns": null,
       "grid_template_rows": null,
       "height": null,
       "justify_content": null,
       "justify_items": null,
       "left": null,
       "margin": null,
       "max_height": null,
       "max_width": null,
       "min_height": null,
       "min_width": null,
       "object_fit": null,
       "object_position": null,
       "order": null,
       "overflow": null,
       "padding": null,
       "right": null,
       "top": null,
       "visibility": null,
       "width": null
      }
     },
     "90f1fa7a25324f7a86af0a5edf5d3603": {
      "model_module": "@jupyter-widgets/controls",
      "model_module_version": "2.0.0",
      "model_name": "HTMLStyleModel",
      "state": {
       "_model_module": "@jupyter-widgets/controls",
       "_model_module_version": "2.0.0",
       "_model_name": "HTMLStyleModel",
       "_view_count": null,
       "_view_module": "@jupyter-widgets/base",
       "_view_module_version": "2.0.0",
       "_view_name": "StyleView",
       "background": null,
       "description_width": "",
       "font_size": null,
       "text_color": null
      }
     },
     "95bde890a18b40be8af1a0b3f136f907": {
      "model_module": "@jupyter-widgets/base",
      "model_module_version": "2.0.0",
      "model_name": "LayoutModel",
      "state": {
       "_model_module": "@jupyter-widgets/base",
       "_model_module_version": "2.0.0",
       "_model_name": "LayoutModel",
       "_view_count": null,
       "_view_module": "@jupyter-widgets/base",
       "_view_module_version": "2.0.0",
       "_view_name": "LayoutView",
       "align_content": null,
       "align_items": null,
       "align_self": null,
       "border_bottom": null,
       "border_left": null,
       "border_right": null,
       "border_top": null,
       "bottom": null,
       "display": "inline-flex",
       "flex": null,
       "flex_flow": "row wrap",
       "grid_area": null,
       "grid_auto_columns": null,
       "grid_auto_flow": null,
       "grid_auto_rows": null,
       "grid_column": null,
       "grid_gap": null,
       "grid_row": null,
       "grid_template_areas": null,
       "grid_template_columns": null,
       "grid_template_rows": null,
       "height": null,
       "justify_content": null,
       "justify_items": null,
       "left": null,
       "margin": null,
       "max_height": null,
       "max_width": null,
       "min_height": null,
       "min_width": null,
       "object_fit": null,
       "object_position": null,
       "order": null,
       "overflow": null,
       "padding": null,
       "right": null,
       "top": null,
       "visibility": "hidden",
       "width": "100%"
      }
     },
     "98c4f75ecfde48c8adc471ac4a3742b7": {
      "model_module": "@jupyter-widgets/base",
      "model_module_version": "2.0.0",
      "model_name": "LayoutModel",
      "state": {
       "_model_module": "@jupyter-widgets/base",
       "_model_module_version": "2.0.0",
       "_model_name": "LayoutModel",
       "_view_count": null,
       "_view_module": "@jupyter-widgets/base",
       "_view_module_version": "2.0.0",
       "_view_name": "LayoutView",
       "align_content": null,
       "align_items": null,
       "align_self": null,
       "border_bottom": null,
       "border_left": null,
       "border_right": null,
       "border_top": null,
       "bottom": null,
       "display": null,
       "flex": null,
       "flex_flow": null,
       "grid_area": null,
       "grid_auto_columns": null,
       "grid_auto_flow": null,
       "grid_auto_rows": null,
       "grid_column": null,
       "grid_gap": null,
       "grid_row": null,
       "grid_template_areas": null,
       "grid_template_columns": null,
       "grid_template_rows": null,
       "height": null,
       "justify_content": null,
       "justify_items": null,
       "left": null,
       "margin": null,
       "max_height": null,
       "max_width": null,
       "min_height": null,
       "min_width": null,
       "object_fit": null,
       "object_position": null,
       "order": null,
       "overflow": null,
       "padding": null,
       "right": null,
       "top": null,
       "visibility": null,
       "width": null
      }
     },
     "a4cedf36307e41158cd54c5613d276f8": {
      "model_module": "@jupyter-widgets/base",
      "model_module_version": "2.0.0",
      "model_name": "LayoutModel",
      "state": {
       "_model_module": "@jupyter-widgets/base",
       "_model_module_version": "2.0.0",
       "_model_name": "LayoutModel",
       "_view_count": null,
       "_view_module": "@jupyter-widgets/base",
       "_view_module_version": "2.0.0",
       "_view_name": "LayoutView",
       "align_content": null,
       "align_items": null,
       "align_self": null,
       "border_bottom": null,
       "border_left": null,
       "border_right": null,
       "border_top": null,
       "bottom": null,
       "display": "inline-flex",
       "flex": null,
       "flex_flow": "row wrap",
       "grid_area": null,
       "grid_auto_columns": null,
       "grid_auto_flow": null,
       "grid_auto_rows": null,
       "grid_column": null,
       "grid_gap": null,
       "grid_row": null,
       "grid_template_areas": null,
       "grid_template_columns": null,
       "grid_template_rows": null,
       "height": null,
       "justify_content": null,
       "justify_items": null,
       "left": null,
       "margin": null,
       "max_height": null,
       "max_width": null,
       "min_height": null,
       "min_width": null,
       "object_fit": null,
       "object_position": null,
       "order": null,
       "overflow": null,
       "padding": null,
       "right": null,
       "top": null,
       "visibility": "hidden",
       "width": "100%"
      }
     },
     "a9bbf41da80f44cf988ff6dbc72bd05f": {
      "model_module": "@jupyter-widgets/controls",
      "model_module_version": "2.0.0",
      "model_name": "HTMLModel",
      "state": {
       "_dom_classes": [],
       "_model_module": "@jupyter-widgets/controls",
       "_model_module_version": "2.0.0",
       "_model_name": "HTMLModel",
       "_view_count": null,
       "_view_module": "@jupyter-widgets/controls",
       "_view_module_version": "2.0.0",
       "_view_name": "HTMLView",
       "description": "",
       "description_allow_html": false,
       "layout": "IPY_MODEL_dfc9f0d8ffa44cb9a248f18f27b60c5a",
       "placeholder": "​",
       "style": "IPY_MODEL_90f1fa7a25324f7a86af0a5edf5d3603",
       "tabbable": null,
       "tooltip": null,
       "value": " 8/8 [00:18&lt;00:00,  0.42it/s]"
      }
     },
     "acd1bc3a179549d79ef44659779d892e": {
      "model_module": "@jupyter-widgets/base",
      "model_module_version": "2.0.0",
      "model_name": "LayoutModel",
      "state": {
       "_model_module": "@jupyter-widgets/base",
       "_model_module_version": "2.0.0",
       "_model_name": "LayoutModel",
       "_view_count": null,
       "_view_module": "@jupyter-widgets/base",
       "_view_module_version": "2.0.0",
       "_view_name": "LayoutView",
       "align_content": null,
       "align_items": null,
       "align_self": null,
       "border_bottom": null,
       "border_left": null,
       "border_right": null,
       "border_top": null,
       "bottom": null,
       "display": null,
       "flex": null,
       "flex_flow": null,
       "grid_area": null,
       "grid_auto_columns": null,
       "grid_auto_flow": null,
       "grid_auto_rows": null,
       "grid_column": null,
       "grid_gap": null,
       "grid_row": null,
       "grid_template_areas": null,
       "grid_template_columns": null,
       "grid_template_rows": null,
       "height": null,
       "justify_content": null,
       "justify_items": null,
       "left": null,
       "margin": null,
       "max_height": null,
       "max_width": null,
       "min_height": null,
       "min_width": null,
       "object_fit": null,
       "object_position": null,
       "order": null,
       "overflow": null,
       "padding": null,
       "right": null,
       "top": null,
       "visibility": null,
       "width": null
      }
     },
     "aebe620abe0e4e9bb3d0a9077cd3690a": {
      "model_module": "@jupyter-widgets/controls",
      "model_module_version": "2.0.0",
      "model_name": "FloatProgressModel",
      "state": {
       "_dom_classes": [],
       "_model_module": "@jupyter-widgets/controls",
       "_model_module_version": "2.0.0",
       "_model_name": "FloatProgressModel",
       "_view_count": null,
       "_view_module": "@jupyter-widgets/controls",
       "_view_module_version": "2.0.0",
       "_view_name": "ProgressView",
       "bar_style": "success",
       "description": "",
       "description_allow_html": false,
       "layout": "IPY_MODEL_52fea7c931b14cbbafde10257e6e3058",
       "max": 8,
       "min": 0,
       "orientation": "horizontal",
       "style": "IPY_MODEL_df2e8c3feb574f2eb456b78a5b393326",
       "tabbable": null,
       "tooltip": null,
       "value": 8
      }
     },
     "aed0ce2a8b4b4e59869623c8f95a190e": {
      "model_module": "@jupyter-widgets/controls",
      "model_module_version": "2.0.0",
      "model_name": "ProgressStyleModel",
      "state": {
       "_model_module": "@jupyter-widgets/controls",
       "_model_module_version": "2.0.0",
       "_model_name": "ProgressStyleModel",
       "_view_count": null,
       "_view_module": "@jupyter-widgets/base",
       "_view_module_version": "2.0.0",
       "_view_name": "StyleView",
       "bar_color": null,
       "description_width": ""
      }
     },
     "b1ad760ecfba4003b0cf8230486b908a": {
      "model_module": "@jupyter-widgets/base",
      "model_module_version": "2.0.0",
      "model_name": "LayoutModel",
      "state": {
       "_model_module": "@jupyter-widgets/base",
       "_model_module_version": "2.0.0",
       "_model_name": "LayoutModel",
       "_view_count": null,
       "_view_module": "@jupyter-widgets/base",
       "_view_module_version": "2.0.0",
       "_view_name": "LayoutView",
       "align_content": null,
       "align_items": null,
       "align_self": null,
       "border_bottom": null,
       "border_left": null,
       "border_right": null,
       "border_top": null,
       "bottom": null,
       "display": null,
       "flex": null,
       "flex_flow": null,
       "grid_area": null,
       "grid_auto_columns": null,
       "grid_auto_flow": null,
       "grid_auto_rows": null,
       "grid_column": null,
       "grid_gap": null,
       "grid_row": null,
       "grid_template_areas": null,
       "grid_template_columns": null,
       "grid_template_rows": null,
       "height": null,
       "justify_content": null,
       "justify_items": null,
       "left": null,
       "margin": null,
       "max_height": null,
       "max_width": null,
       "min_height": null,
       "min_width": null,
       "object_fit": null,
       "object_position": null,
       "order": null,
       "overflow": null,
       "padding": null,
       "right": null,
       "top": null,
       "visibility": null,
       "width": null
      }
     },
     "b2626fc2f663458088b6dbb4207d0677": {
      "model_module": "@jupyter-widgets/controls",
      "model_module_version": "2.0.0",
      "model_name": "HTMLModel",
      "state": {
       "_dom_classes": [],
       "_model_module": "@jupyter-widgets/controls",
       "_model_module_version": "2.0.0",
       "_model_name": "HTMLModel",
       "_view_count": null,
       "_view_module": "@jupyter-widgets/controls",
       "_view_module_version": "2.0.0",
       "_view_name": "HTMLView",
       "description": "",
       "description_allow_html": false,
       "layout": "IPY_MODEL_6d89f60217d045eb9c045ace91f78d8e",
       "placeholder": "​",
       "style": "IPY_MODEL_49086d3cb7294df48e98e2fd15cebd6a",
       "tabbable": null,
       "tooltip": null,
       "value": "Validation DataLoader 0: 100%"
      }
     },
     "b4e7f6d5d02142bab9697a3921f6a516": {
      "model_module": "@jupyter-widgets/controls",
      "model_module_version": "2.0.0",
      "model_name": "HBoxModel",
      "state": {
       "_dom_classes": [],
       "_model_module": "@jupyter-widgets/controls",
       "_model_module_version": "2.0.0",
       "_model_name": "HBoxModel",
       "_view_count": null,
       "_view_module": "@jupyter-widgets/controls",
       "_view_module_version": "2.0.0",
       "_view_name": "HBoxView",
       "box_style": "",
       "children": [
        "IPY_MODEL_db464e9934494eb2b14c6ca39dc84b36",
        "IPY_MODEL_cfe7a2f0f684457e8837cbc503114c48",
        "IPY_MODEL_6d00d54fd5d64c6193f0ef4c2aa4e825"
       ],
       "layout": "IPY_MODEL_6f28ce93af674f67a49a27fdfaacc4b1",
       "tabbable": null,
       "tooltip": null
      }
     },
     "bacd221f86a54ce9a239096cfe4bf6f2": {
      "model_module": "@jupyter-widgets/controls",
      "model_module_version": "2.0.0",
      "model_name": "ProgressStyleModel",
      "state": {
       "_model_module": "@jupyter-widgets/controls",
       "_model_module_version": "2.0.0",
       "_model_name": "ProgressStyleModel",
       "_view_count": null,
       "_view_module": "@jupyter-widgets/base",
       "_view_module_version": "2.0.0",
       "_view_name": "StyleView",
       "bar_color": null,
       "description_width": ""
      }
     },
     "c3331fb76dbc42e2a0da34a5600d121e": {
      "model_module": "@jupyter-widgets/controls",
      "model_module_version": "2.0.0",
      "model_name": "HTMLStyleModel",
      "state": {
       "_model_module": "@jupyter-widgets/controls",
       "_model_module_version": "2.0.0",
       "_model_name": "HTMLStyleModel",
       "_view_count": null,
       "_view_module": "@jupyter-widgets/base",
       "_view_module_version": "2.0.0",
       "_view_name": "StyleView",
       "background": null,
       "description_width": "",
       "font_size": null,
       "text_color": null
      }
     },
     "c8b55be53c844589a0819f6d2b5a6617": {
      "model_module": "@jupyter-widgets/controls",
      "model_module_version": "2.0.0",
      "model_name": "HTMLStyleModel",
      "state": {
       "_model_module": "@jupyter-widgets/controls",
       "_model_module_version": "2.0.0",
       "_model_name": "HTMLStyleModel",
       "_view_count": null,
       "_view_module": "@jupyter-widgets/base",
       "_view_module_version": "2.0.0",
       "_view_name": "StyleView",
       "background": null,
       "description_width": "",
       "font_size": null,
       "text_color": null
      }
     },
     "cfe7a2f0f684457e8837cbc503114c48": {
      "model_module": "@jupyter-widgets/controls",
      "model_module_version": "2.0.0",
      "model_name": "FloatProgressModel",
      "state": {
       "_dom_classes": [],
       "_model_module": "@jupyter-widgets/controls",
       "_model_module_version": "2.0.0",
       "_model_name": "FloatProgressModel",
       "_view_count": null,
       "_view_module": "@jupyter-widgets/controls",
       "_view_module_version": "2.0.0",
       "_view_name": "ProgressView",
       "bar_style": "",
       "description": "",
       "description_allow_html": false,
       "layout": "IPY_MODEL_0139438289b549f9b5f20ae697a1b51f",
       "max": 8,
       "min": 0,
       "orientation": "horizontal",
       "style": "IPY_MODEL_4aec973a5c4743a480320da79a5d2168",
       "tabbable": null,
       "tooltip": null,
       "value": 8
      }
     },
     "d97c50a200394d9180134b05316af821": {
      "model_module": "@jupyter-widgets/base",
      "model_module_version": "2.0.0",
      "model_name": "LayoutModel",
      "state": {
       "_model_module": "@jupyter-widgets/base",
       "_model_module_version": "2.0.0",
       "_model_name": "LayoutModel",
       "_view_count": null,
       "_view_module": "@jupyter-widgets/base",
       "_view_module_version": "2.0.0",
       "_view_name": "LayoutView",
       "align_content": null,
       "align_items": null,
       "align_self": null,
       "border_bottom": null,
       "border_left": null,
       "border_right": null,
       "border_top": null,
       "bottom": null,
       "display": null,
       "flex": null,
       "flex_flow": null,
       "grid_area": null,
       "grid_auto_columns": null,
       "grid_auto_flow": null,
       "grid_auto_rows": null,
       "grid_column": null,
       "grid_gap": null,
       "grid_row": null,
       "grid_template_areas": null,
       "grid_template_columns": null,
       "grid_template_rows": null,
       "height": null,
       "justify_content": null,
       "justify_items": null,
       "left": null,
       "margin": null,
       "max_height": null,
       "max_width": null,
       "min_height": null,
       "min_width": null,
       "object_fit": null,
       "object_position": null,
       "order": null,
       "overflow": null,
       "padding": null,
       "right": null,
       "top": null,
       "visibility": null,
       "width": null
      }
     },
     "d9d4098dfb4e43d2b42b4fa8c9ffec7a": {
      "model_module": "@jupyter-widgets/base",
      "model_module_version": "2.0.0",
      "model_name": "LayoutModel",
      "state": {
       "_model_module": "@jupyter-widgets/base",
       "_model_module_version": "2.0.0",
       "_model_name": "LayoutModel",
       "_view_count": null,
       "_view_module": "@jupyter-widgets/base",
       "_view_module_version": "2.0.0",
       "_view_name": "LayoutView",
       "align_content": null,
       "align_items": null,
       "align_self": null,
       "border_bottom": null,
       "border_left": null,
       "border_right": null,
       "border_top": null,
       "bottom": null,
       "display": "inline-flex",
       "flex": null,
       "flex_flow": "row wrap",
       "grid_area": null,
       "grid_auto_columns": null,
       "grid_auto_flow": null,
       "grid_auto_rows": null,
       "grid_column": null,
       "grid_gap": null,
       "grid_row": null,
       "grid_template_areas": null,
       "grid_template_columns": null,
       "grid_template_rows": null,
       "height": null,
       "justify_content": null,
       "justify_items": null,
       "left": null,
       "margin": null,
       "max_height": null,
       "max_width": null,
       "min_height": null,
       "min_width": null,
       "object_fit": null,
       "object_position": null,
       "order": null,
       "overflow": null,
       "padding": null,
       "right": null,
       "top": null,
       "visibility": null,
       "width": "100%"
      }
     },
     "db464e9934494eb2b14c6ca39dc84b36": {
      "model_module": "@jupyter-widgets/controls",
      "model_module_version": "2.0.0",
      "model_name": "HTMLModel",
      "state": {
       "_dom_classes": [],
       "_model_module": "@jupyter-widgets/controls",
       "_model_module_version": "2.0.0",
       "_model_name": "HTMLModel",
       "_view_count": null,
       "_view_module": "@jupyter-widgets/controls",
       "_view_module_version": "2.0.0",
       "_view_name": "HTMLView",
       "description": "",
       "description_allow_html": false,
       "layout": "IPY_MODEL_f54b4909f54542759c3cb0e9f75d38dc",
       "placeholder": "​",
       "style": "IPY_MODEL_c3331fb76dbc42e2a0da34a5600d121e",
       "tabbable": null,
       "tooltip": null,
       "value": "Validation DataLoader 0: 100%"
      }
     },
     "df2e8c3feb574f2eb456b78a5b393326": {
      "model_module": "@jupyter-widgets/controls",
      "model_module_version": "2.0.0",
      "model_name": "ProgressStyleModel",
      "state": {
       "_model_module": "@jupyter-widgets/controls",
       "_model_module_version": "2.0.0",
       "_model_name": "ProgressStyleModel",
       "_view_count": null,
       "_view_module": "@jupyter-widgets/base",
       "_view_module_version": "2.0.0",
       "_view_name": "StyleView",
       "bar_color": null,
       "description_width": ""
      }
     },
     "df86befb98a34e8c9b04484979b1d0c8": {
      "model_module": "@jupyter-widgets/controls",
      "model_module_version": "2.0.0",
      "model_name": "HTMLModel",
      "state": {
       "_dom_classes": [],
       "_model_module": "@jupyter-widgets/controls",
       "_model_module_version": "2.0.0",
       "_model_name": "HTMLModel",
       "_view_count": null,
       "_view_module": "@jupyter-widgets/controls",
       "_view_module_version": "2.0.0",
       "_view_name": "HTMLView",
       "description": "",
       "description_allow_html": false,
       "layout": "IPY_MODEL_b1ad760ecfba4003b0cf8230486b908a",
       "placeholder": "​",
       "style": "IPY_MODEL_2b95f444a42847e18d96829ce57d9a4e",
       "tabbable": null,
       "tooltip": null,
       "value": "Validation DataLoader 0: 100%"
      }
     },
     "dfc9f0d8ffa44cb9a248f18f27b60c5a": {
      "model_module": "@jupyter-widgets/base",
      "model_module_version": "2.0.0",
      "model_name": "LayoutModel",
      "state": {
       "_model_module": "@jupyter-widgets/base",
       "_model_module_version": "2.0.0",
       "_model_name": "LayoutModel",
       "_view_count": null,
       "_view_module": "@jupyter-widgets/base",
       "_view_module_version": "2.0.0",
       "_view_name": "LayoutView",
       "align_content": null,
       "align_items": null,
       "align_self": null,
       "border_bottom": null,
       "border_left": null,
       "border_right": null,
       "border_top": null,
       "bottom": null,
       "display": null,
       "flex": null,
       "flex_flow": null,
       "grid_area": null,
       "grid_auto_columns": null,
       "grid_auto_flow": null,
       "grid_auto_rows": null,
       "grid_column": null,
       "grid_gap": null,
       "grid_row": null,
       "grid_template_areas": null,
       "grid_template_columns": null,
       "grid_template_rows": null,
       "height": null,
       "justify_content": null,
       "justify_items": null,
       "left": null,
       "margin": null,
       "max_height": null,
       "max_width": null,
       "min_height": null,
       "min_width": null,
       "object_fit": null,
       "object_position": null,
       "order": null,
       "overflow": null,
       "padding": null,
       "right": null,
       "top": null,
       "visibility": null,
       "width": null
      }
     },
     "e7162051ad2e47c9b6fd2ca507d04cd8": {
      "model_module": "@jupyter-widgets/controls",
      "model_module_version": "2.0.0",
      "model_name": "HTMLStyleModel",
      "state": {
       "_model_module": "@jupyter-widgets/controls",
       "_model_module_version": "2.0.0",
       "_model_name": "HTMLStyleModel",
       "_view_count": null,
       "_view_module": "@jupyter-widgets/base",
       "_view_module_version": "2.0.0",
       "_view_name": "StyleView",
       "background": null,
       "description_width": "",
       "font_size": null,
       "text_color": null
      }
     },
     "eb6bfd6506f24c7885735a2416b27a00": {
      "model_module": "@jupyter-widgets/controls",
      "model_module_version": "2.0.0",
      "model_name": "HTMLModel",
      "state": {
       "_dom_classes": [],
       "_model_module": "@jupyter-widgets/controls",
       "_model_module_version": "2.0.0",
       "_model_name": "HTMLModel",
       "_view_count": null,
       "_view_module": "@jupyter-widgets/controls",
       "_view_module_version": "2.0.0",
       "_view_name": "HTMLView",
       "description": "",
       "description_allow_html": false,
       "layout": "IPY_MODEL_4d438db614274260881f5bd3f06d65d3",
       "placeholder": "​",
       "style": "IPY_MODEL_1a2aa9cfe5ba46918e904d41faba3fe2",
       "tabbable": null,
       "tooltip": null,
       "value": "Validation DataLoader 0: 100%"
      }
     },
     "eca3b5763032474faebd1dff72ec1503": {
      "model_module": "@jupyter-widgets/controls",
      "model_module_version": "2.0.0",
      "model_name": "HBoxModel",
      "state": {
       "_dom_classes": [],
       "_model_module": "@jupyter-widgets/controls",
       "_model_module_version": "2.0.0",
       "_model_name": "HBoxModel",
       "_view_count": null,
       "_view_module": "@jupyter-widgets/controls",
       "_view_module_version": "2.0.0",
       "_view_name": "HBoxView",
       "box_style": "",
       "children": [
        "IPY_MODEL_153eee504345493bbc6ad5c6b26669b1",
        "IPY_MODEL_aebe620abe0e4e9bb3d0a9077cd3690a",
        "IPY_MODEL_3ee2571a9cf04e5aa02b9cb686fba63b"
       ],
       "layout": "IPY_MODEL_524e854a98354e1e80d69341b86bac1a",
       "tabbable": null,
       "tooltip": null
      }
     },
     "ed36a563e2d946078b50cfb78baa405d": {
      "model_module": "@jupyter-widgets/base",
      "model_module_version": "2.0.0",
      "model_name": "LayoutModel",
      "state": {
       "_model_module": "@jupyter-widgets/base",
       "_model_module_version": "2.0.0",
       "_model_name": "LayoutModel",
       "_view_count": null,
       "_view_module": "@jupyter-widgets/base",
       "_view_module_version": "2.0.0",
       "_view_name": "LayoutView",
       "align_content": null,
       "align_items": null,
       "align_self": null,
       "border_bottom": null,
       "border_left": null,
       "border_right": null,
       "border_top": null,
       "bottom": null,
       "display": "inline-flex",
       "flex": null,
       "flex_flow": "row wrap",
       "grid_area": null,
       "grid_auto_columns": null,
       "grid_auto_flow": null,
       "grid_auto_rows": null,
       "grid_column": null,
       "grid_gap": null,
       "grid_row": null,
       "grid_template_areas": null,
       "grid_template_columns": null,
       "grid_template_rows": null,
       "height": null,
       "justify_content": null,
       "justify_items": null,
       "left": null,
       "margin": null,
       "max_height": null,
       "max_width": null,
       "min_height": null,
       "min_width": null,
       "object_fit": null,
       "object_position": null,
       "order": null,
       "overflow": null,
       "padding": null,
       "right": null,
       "top": null,
       "visibility": null,
       "width": "100%"
      }
     },
     "ee6ec75fc1e24d129f8bf6017d5a4557": {
      "model_module": "@jupyter-widgets/base",
      "model_module_version": "2.0.0",
      "model_name": "LayoutModel",
      "state": {
       "_model_module": "@jupyter-widgets/base",
       "_model_module_version": "2.0.0",
       "_model_name": "LayoutModel",
       "_view_count": null,
       "_view_module": "@jupyter-widgets/base",
       "_view_module_version": "2.0.0",
       "_view_name": "LayoutView",
       "align_content": null,
       "align_items": null,
       "align_self": null,
       "border_bottom": null,
       "border_left": null,
       "border_right": null,
       "border_top": null,
       "bottom": null,
       "display": null,
       "flex": "2",
       "flex_flow": null,
       "grid_area": null,
       "grid_auto_columns": null,
       "grid_auto_flow": null,
       "grid_auto_rows": null,
       "grid_column": null,
       "grid_gap": null,
       "grid_row": null,
       "grid_template_areas": null,
       "grid_template_columns": null,
       "grid_template_rows": null,
       "height": null,
       "justify_content": null,
       "justify_items": null,
       "left": null,
       "margin": null,
       "max_height": null,
       "max_width": null,
       "min_height": null,
       "min_width": null,
       "object_fit": null,
       "object_position": null,
       "order": null,
       "overflow": null,
       "padding": null,
       "right": null,
       "top": null,
       "visibility": null,
       "width": null
      }
     },
     "f4de8d346bdf43d9a818d5e3305d2008": {
      "model_module": "@jupyter-widgets/base",
      "model_module_version": "2.0.0",
      "model_name": "LayoutModel",
      "state": {
       "_model_module": "@jupyter-widgets/base",
       "_model_module_version": "2.0.0",
       "_model_name": "LayoutModel",
       "_view_count": null,
       "_view_module": "@jupyter-widgets/base",
       "_view_module_version": "2.0.0",
       "_view_name": "LayoutView",
       "align_content": null,
       "align_items": null,
       "align_self": null,
       "border_bottom": null,
       "border_left": null,
       "border_right": null,
       "border_top": null,
       "bottom": null,
       "display": null,
       "flex": null,
       "flex_flow": null,
       "grid_area": null,
       "grid_auto_columns": null,
       "grid_auto_flow": null,
       "grid_auto_rows": null,
       "grid_column": null,
       "grid_gap": null,
       "grid_row": null,
       "grid_template_areas": null,
       "grid_template_columns": null,
       "grid_template_rows": null,
       "height": null,
       "justify_content": null,
       "justify_items": null,
       "left": null,
       "margin": null,
       "max_height": null,
       "max_width": null,
       "min_height": null,
       "min_width": null,
       "object_fit": null,
       "object_position": null,
       "order": null,
       "overflow": null,
       "padding": null,
       "right": null,
       "top": null,
       "visibility": null,
       "width": null
      }
     },
     "f54b4909f54542759c3cb0e9f75d38dc": {
      "model_module": "@jupyter-widgets/base",
      "model_module_version": "2.0.0",
      "model_name": "LayoutModel",
      "state": {
       "_model_module": "@jupyter-widgets/base",
       "_model_module_version": "2.0.0",
       "_model_name": "LayoutModel",
       "_view_count": null,
       "_view_module": "@jupyter-widgets/base",
       "_view_module_version": "2.0.0",
       "_view_name": "LayoutView",
       "align_content": null,
       "align_items": null,
       "align_self": null,
       "border_bottom": null,
       "border_left": null,
       "border_right": null,
       "border_top": null,
       "bottom": null,
       "display": null,
       "flex": null,
       "flex_flow": null,
       "grid_area": null,
       "grid_auto_columns": null,
       "grid_auto_flow": null,
       "grid_auto_rows": null,
       "grid_column": null,
       "grid_gap": null,
       "grid_row": null,
       "grid_template_areas": null,
       "grid_template_columns": null,
       "grid_template_rows": null,
       "height": null,
       "justify_content": null,
       "justify_items": null,
       "left": null,
       "margin": null,
       "max_height": null,
       "max_width": null,
       "min_height": null,
       "min_width": null,
       "object_fit": null,
       "object_position": null,
       "order": null,
       "overflow": null,
       "padding": null,
       "right": null,
       "top": null,
       "visibility": null,
       "width": null
      }
     },
     "f9f991db23cb4bfbbda90bfa159045ae": {
      "model_module": "@jupyter-widgets/controls",
      "model_module_version": "2.0.0",
      "model_name": "HTMLModel",
      "state": {
       "_dom_classes": [],
       "_model_module": "@jupyter-widgets/controls",
       "_model_module_version": "2.0.0",
       "_model_name": "HTMLModel",
       "_view_count": null,
       "_view_module": "@jupyter-widgets/controls",
       "_view_module_version": "2.0.0",
       "_view_name": "HTMLView",
       "description": "",
       "description_allow_html": false,
       "layout": "IPY_MODEL_acd1bc3a179549d79ef44659779d892e",
       "placeholder": "​",
       "style": "IPY_MODEL_8b402231736d48a796c76d09fbd15ec3",
       "tabbable": null,
       "tooltip": null,
       "value": " 2/2 [00:00&lt;00:00,  4.54it/s]"
      }
     }
    },
    "version_major": 2,
    "version_minor": 0
   }
  }
 },
 "nbformat": 4,
 "nbformat_minor": 5
}
